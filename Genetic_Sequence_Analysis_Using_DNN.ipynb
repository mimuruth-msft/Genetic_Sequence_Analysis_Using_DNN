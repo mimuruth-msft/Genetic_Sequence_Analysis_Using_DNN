{
  "cells": [
    {
      "cell_type": "markdown",
      "metadata": {
        "id": "view-in-github",
        "colab_type": "text"
      },
      "source": [
        "<a href=\"https://colab.research.google.com/github/mmrepos/Genetic_Sequence_Analysis_Using_DNN/blob/main/Genetic_Sequence_Analysis_Using_DNN.ipynb\" target=\"_parent\"><img src=\"https://colab.research.google.com/assets/colab-badge.svg\" alt=\"Open In Colab\"/></a>"
      ]
    },
    {
      "cell_type": "code",
      "execution_count": 89,
      "metadata": {
        "id": "NInYH8MBeBrh"
      },
      "outputs": [],
      "source": [
        "#####################################################################################################################\n",
        "#\n",
        "#   Genetic sequence analysis using deep neural network analysis\n",
        "#\n",
        "#####################################################################################################################\n",
        "\n",
        "import numpy as np\n",
        "import pandas as pd\n",
        "import seaborn as sns\n",
        "from sklearn.model_selection import train_test_split\n",
        "from sklearn.neural_network import MLPClassifier\n",
        "from sklearn.metrics import accuracy_score\n",
        "from sklearn.metrics import mean_squared_error\n",
        "from sklearn.preprocessing import LabelBinarizer, LabelEncoder, OrdinalEncoder, MinMaxScaler\n",
        "from sklearn.model_selection import StratifiedShuffleSplit, train_test_split, GridSearchCV\n",
        "import warnings\n",
        "import matplotlib.pyplot as plt\n",
        "\n",
        "import warnings\n",
        "warnings.filterwarnings('ignore', module='sklearn')\n",
        "warnings.filterwarnings('ignore', module='IPython')"
      ]
    },
    {
      "cell_type": "code",
      "execution_count": 90,
      "metadata": {
        "colab": {
          "base_uri": "https://localhost:8080/",
          "height": 456
        },
        "id": "XHY8vB-D74lc",
        "outputId": "586fe7d8-b574-4b14-a92c-5812296b0d0c"
      },
      "outputs": [
        {
          "output_type": "execute_result",
          "data": {
            "text/plain": [
              "  CHROM      POS REF ALT  AF_ESP  AF_EXAC  AF_TGP  \\\n",
              "0     1  1168180   G   C  0.0771  0.10020  0.1066   \n",
              "1     1  1470752   G   A  0.0000  0.00000  0.0000   \n",
              "2     1  1737942   A   G  0.0000  0.00001  0.0000   \n",
              "3     1  2160305   G   A  0.0000  0.00000  0.0000   \n",
              "4     1  2160305   G   T  0.0000  0.00000  0.0000   \n",
              "5     1  2160554   G   C  0.0000  0.00000  0.0000   \n",
              "6     1  3328358   T   C  0.0000  0.00000  0.0000   \n",
              "7     1  3328659   C   T  0.1523  0.13103  0.1060   \n",
              "8     1  3347452   G   A  0.0000  0.00357  0.0030   \n",
              "9     1  5925304   G   A  0.0045  0.00231  0.0058   \n",
              "\n",
              "                                            CLNDISDB CLNDISDBINCL  \\\n",
              "0                                    MedGen:CN169374          NaN   \n",
              "1  MedGen:C1843891,OMIM:607454,Orphanet:ORPHA9877...          NaN   \n",
              "2  Human_Phenotype_Ontology:HP:0000486,MedGen:C00...          NaN   \n",
              "3  MedGen:C1321551,OMIM:182212,SNOMED_CT:83092002...          NaN   \n",
              "4     MedGen:C1321551,OMIM:182212,SNOMED_CT:83092002          NaN   \n",
              "5  MedGen:C1321551,OMIM:182212,SNOMED_CT:83092002...          NaN   \n",
              "6                                    MedGen:CN169374          NaN   \n",
              "7                                    MedGen:CN169374          NaN   \n",
              "8  MedGen:C3809288,OMIM:615373|MedGen:CN169374|Me...          NaN   \n",
              "9  MedGen:C0687120,Orphanet:ORPHA655,SNOMED_CT:20...          NaN   \n",
              "\n",
              "                                               CLNDN  ...  \\\n",
              "0                                      not_specified  ...   \n",
              "1             Spinocerebellar_ataxia_21|not_provided  ...   \n",
              "2  Strabismus|Nystagmus|Hypothyroidism|Intellectu...  ...   \n",
              "3          Shprintzen-Goldberg_syndrome|not_provided  ...   \n",
              "4                       Shprintzen-Goldberg_syndrome  ...   \n",
              "5          Shprintzen-Goldberg_syndrome|not_provided  ...   \n",
              "6                                      not_specified  ...   \n",
              "7                                      not_specified  ...   \n",
              "8  Left_ventricular_noncompaction_8|not_specified...  ...   \n",
              "9                     Nephronophthisis|not_specified  ...   \n",
              "\n",
              "                         SIFT           PolyPhen MOTIF_NAME MOTIF_POS  \\\n",
              "0                   tolerated             benign        NaN       NaN   \n",
              "1  deleterious_low_confidence             benign        NaN       NaN   \n",
              "2                 deleterious  probably_damaging        NaN       NaN   \n",
              "3                         NaN                NaN        NaN       NaN   \n",
              "4                         NaN                NaN        NaN       NaN   \n",
              "5                         NaN                NaN        NaN       NaN   \n",
              "6                         NaN                NaN        NaN       NaN   \n",
              "7                         NaN                NaN        NaN       NaN   \n",
              "8                         NaN                NaN        NaN       NaN   \n",
              "9                 deleterious             benign        NaN       NaN   \n",
              "\n",
              "  HIGH_INF_POS MOTIF_SCORE_CHANGE  LoFtool  CADD_PHRED  CADD_RAW BLOSUM62  \n",
              "0          NaN                NaN      NaN       1.053 -0.208682      2.0  \n",
              "1          NaN                NaN      NaN      31.000  6.517838     -3.0  \n",
              "2          NaN                NaN      NaN      28.100  6.061752     -1.0  \n",
              "3          NaN                NaN      NaN      22.500  3.114491      NaN  \n",
              "4          NaN                NaN      NaN      24.700  4.766224     -3.0  \n",
              "5          NaN                NaN      NaN      23.700  4.079099     -2.0  \n",
              "6          NaN                NaN    0.101       0.172 -0.543433     -1.0  \n",
              "7          NaN                NaN    0.101      23.000  3.424422     -3.0  \n",
              "8          NaN                NaN    0.101      11.360  1.126629      1.0  \n",
              "9          NaN                NaN    0.021      22.100  2.969650     -1.0  \n",
              "\n",
              "[10 rows x 46 columns]"
            ],
            "text/html": [
              "\n",
              "  <div id=\"df-92185f14-6639-4c9d-a81c-6935bcfdf98b\">\n",
              "    <div class=\"colab-df-container\">\n",
              "      <div>\n",
              "<style scoped>\n",
              "    .dataframe tbody tr th:only-of-type {\n",
              "        vertical-align: middle;\n",
              "    }\n",
              "\n",
              "    .dataframe tbody tr th {\n",
              "        vertical-align: top;\n",
              "    }\n",
              "\n",
              "    .dataframe thead th {\n",
              "        text-align: right;\n",
              "    }\n",
              "</style>\n",
              "<table border=\"1\" class=\"dataframe\">\n",
              "  <thead>\n",
              "    <tr style=\"text-align: right;\">\n",
              "      <th></th>\n",
              "      <th>CHROM</th>\n",
              "      <th>POS</th>\n",
              "      <th>REF</th>\n",
              "      <th>ALT</th>\n",
              "      <th>AF_ESP</th>\n",
              "      <th>AF_EXAC</th>\n",
              "      <th>AF_TGP</th>\n",
              "      <th>CLNDISDB</th>\n",
              "      <th>CLNDISDBINCL</th>\n",
              "      <th>CLNDN</th>\n",
              "      <th>...</th>\n",
              "      <th>SIFT</th>\n",
              "      <th>PolyPhen</th>\n",
              "      <th>MOTIF_NAME</th>\n",
              "      <th>MOTIF_POS</th>\n",
              "      <th>HIGH_INF_POS</th>\n",
              "      <th>MOTIF_SCORE_CHANGE</th>\n",
              "      <th>LoFtool</th>\n",
              "      <th>CADD_PHRED</th>\n",
              "      <th>CADD_RAW</th>\n",
              "      <th>BLOSUM62</th>\n",
              "    </tr>\n",
              "  </thead>\n",
              "  <tbody>\n",
              "    <tr>\n",
              "      <th>0</th>\n",
              "      <td>1</td>\n",
              "      <td>1168180</td>\n",
              "      <td>G</td>\n",
              "      <td>C</td>\n",
              "      <td>0.0771</td>\n",
              "      <td>0.10020</td>\n",
              "      <td>0.1066</td>\n",
              "      <td>MedGen:CN169374</td>\n",
              "      <td>NaN</td>\n",
              "      <td>not_specified</td>\n",
              "      <td>...</td>\n",
              "      <td>tolerated</td>\n",
              "      <td>benign</td>\n",
              "      <td>NaN</td>\n",
              "      <td>NaN</td>\n",
              "      <td>NaN</td>\n",
              "      <td>NaN</td>\n",
              "      <td>NaN</td>\n",
              "      <td>1.053</td>\n",
              "      <td>-0.208682</td>\n",
              "      <td>2.0</td>\n",
              "    </tr>\n",
              "    <tr>\n",
              "      <th>1</th>\n",
              "      <td>1</td>\n",
              "      <td>1470752</td>\n",
              "      <td>G</td>\n",
              "      <td>A</td>\n",
              "      <td>0.0000</td>\n",
              "      <td>0.00000</td>\n",
              "      <td>0.0000</td>\n",
              "      <td>MedGen:C1843891,OMIM:607454,Orphanet:ORPHA9877...</td>\n",
              "      <td>NaN</td>\n",
              "      <td>Spinocerebellar_ataxia_21|not_provided</td>\n",
              "      <td>...</td>\n",
              "      <td>deleterious_low_confidence</td>\n",
              "      <td>benign</td>\n",
              "      <td>NaN</td>\n",
              "      <td>NaN</td>\n",
              "      <td>NaN</td>\n",
              "      <td>NaN</td>\n",
              "      <td>NaN</td>\n",
              "      <td>31.000</td>\n",
              "      <td>6.517838</td>\n",
              "      <td>-3.0</td>\n",
              "    </tr>\n",
              "    <tr>\n",
              "      <th>2</th>\n",
              "      <td>1</td>\n",
              "      <td>1737942</td>\n",
              "      <td>A</td>\n",
              "      <td>G</td>\n",
              "      <td>0.0000</td>\n",
              "      <td>0.00001</td>\n",
              "      <td>0.0000</td>\n",
              "      <td>Human_Phenotype_Ontology:HP:0000486,MedGen:C00...</td>\n",
              "      <td>NaN</td>\n",
              "      <td>Strabismus|Nystagmus|Hypothyroidism|Intellectu...</td>\n",
              "      <td>...</td>\n",
              "      <td>deleterious</td>\n",
              "      <td>probably_damaging</td>\n",
              "      <td>NaN</td>\n",
              "      <td>NaN</td>\n",
              "      <td>NaN</td>\n",
              "      <td>NaN</td>\n",
              "      <td>NaN</td>\n",
              "      <td>28.100</td>\n",
              "      <td>6.061752</td>\n",
              "      <td>-1.0</td>\n",
              "    </tr>\n",
              "    <tr>\n",
              "      <th>3</th>\n",
              "      <td>1</td>\n",
              "      <td>2160305</td>\n",
              "      <td>G</td>\n",
              "      <td>A</td>\n",
              "      <td>0.0000</td>\n",
              "      <td>0.00000</td>\n",
              "      <td>0.0000</td>\n",
              "      <td>MedGen:C1321551,OMIM:182212,SNOMED_CT:83092002...</td>\n",
              "      <td>NaN</td>\n",
              "      <td>Shprintzen-Goldberg_syndrome|not_provided</td>\n",
              "      <td>...</td>\n",
              "      <td>NaN</td>\n",
              "      <td>NaN</td>\n",
              "      <td>NaN</td>\n",
              "      <td>NaN</td>\n",
              "      <td>NaN</td>\n",
              "      <td>NaN</td>\n",
              "      <td>NaN</td>\n",
              "      <td>22.500</td>\n",
              "      <td>3.114491</td>\n",
              "      <td>NaN</td>\n",
              "    </tr>\n",
              "    <tr>\n",
              "      <th>4</th>\n",
              "      <td>1</td>\n",
              "      <td>2160305</td>\n",
              "      <td>G</td>\n",
              "      <td>T</td>\n",
              "      <td>0.0000</td>\n",
              "      <td>0.00000</td>\n",
              "      <td>0.0000</td>\n",
              "      <td>MedGen:C1321551,OMIM:182212,SNOMED_CT:83092002</td>\n",
              "      <td>NaN</td>\n",
              "      <td>Shprintzen-Goldberg_syndrome</td>\n",
              "      <td>...</td>\n",
              "      <td>NaN</td>\n",
              "      <td>NaN</td>\n",
              "      <td>NaN</td>\n",
              "      <td>NaN</td>\n",
              "      <td>NaN</td>\n",
              "      <td>NaN</td>\n",
              "      <td>NaN</td>\n",
              "      <td>24.700</td>\n",
              "      <td>4.766224</td>\n",
              "      <td>-3.0</td>\n",
              "    </tr>\n",
              "    <tr>\n",
              "      <th>5</th>\n",
              "      <td>1</td>\n",
              "      <td>2160554</td>\n",
              "      <td>G</td>\n",
              "      <td>C</td>\n",
              "      <td>0.0000</td>\n",
              "      <td>0.00000</td>\n",
              "      <td>0.0000</td>\n",
              "      <td>MedGen:C1321551,OMIM:182212,SNOMED_CT:83092002...</td>\n",
              "      <td>NaN</td>\n",
              "      <td>Shprintzen-Goldberg_syndrome|not_provided</td>\n",
              "      <td>...</td>\n",
              "      <td>NaN</td>\n",
              "      <td>NaN</td>\n",
              "      <td>NaN</td>\n",
              "      <td>NaN</td>\n",
              "      <td>NaN</td>\n",
              "      <td>NaN</td>\n",
              "      <td>NaN</td>\n",
              "      <td>23.700</td>\n",
              "      <td>4.079099</td>\n",
              "      <td>-2.0</td>\n",
              "    </tr>\n",
              "    <tr>\n",
              "      <th>6</th>\n",
              "      <td>1</td>\n",
              "      <td>3328358</td>\n",
              "      <td>T</td>\n",
              "      <td>C</td>\n",
              "      <td>0.0000</td>\n",
              "      <td>0.00000</td>\n",
              "      <td>0.0000</td>\n",
              "      <td>MedGen:CN169374</td>\n",
              "      <td>NaN</td>\n",
              "      <td>not_specified</td>\n",
              "      <td>...</td>\n",
              "      <td>NaN</td>\n",
              "      <td>NaN</td>\n",
              "      <td>NaN</td>\n",
              "      <td>NaN</td>\n",
              "      <td>NaN</td>\n",
              "      <td>NaN</td>\n",
              "      <td>0.101</td>\n",
              "      <td>0.172</td>\n",
              "      <td>-0.543433</td>\n",
              "      <td>-1.0</td>\n",
              "    </tr>\n",
              "    <tr>\n",
              "      <th>7</th>\n",
              "      <td>1</td>\n",
              "      <td>3328659</td>\n",
              "      <td>C</td>\n",
              "      <td>T</td>\n",
              "      <td>0.1523</td>\n",
              "      <td>0.13103</td>\n",
              "      <td>0.1060</td>\n",
              "      <td>MedGen:CN169374</td>\n",
              "      <td>NaN</td>\n",
              "      <td>not_specified</td>\n",
              "      <td>...</td>\n",
              "      <td>NaN</td>\n",
              "      <td>NaN</td>\n",
              "      <td>NaN</td>\n",
              "      <td>NaN</td>\n",
              "      <td>NaN</td>\n",
              "      <td>NaN</td>\n",
              "      <td>0.101</td>\n",
              "      <td>23.000</td>\n",
              "      <td>3.424422</td>\n",
              "      <td>-3.0</td>\n",
              "    </tr>\n",
              "    <tr>\n",
              "      <th>8</th>\n",
              "      <td>1</td>\n",
              "      <td>3347452</td>\n",
              "      <td>G</td>\n",
              "      <td>A</td>\n",
              "      <td>0.0000</td>\n",
              "      <td>0.00357</td>\n",
              "      <td>0.0030</td>\n",
              "      <td>MedGen:C3809288,OMIM:615373|MedGen:CN169374|Me...</td>\n",
              "      <td>NaN</td>\n",
              "      <td>Left_ventricular_noncompaction_8|not_specified...</td>\n",
              "      <td>...</td>\n",
              "      <td>NaN</td>\n",
              "      <td>NaN</td>\n",
              "      <td>NaN</td>\n",
              "      <td>NaN</td>\n",
              "      <td>NaN</td>\n",
              "      <td>NaN</td>\n",
              "      <td>0.101</td>\n",
              "      <td>11.360</td>\n",
              "      <td>1.126629</td>\n",
              "      <td>1.0</td>\n",
              "    </tr>\n",
              "    <tr>\n",
              "      <th>9</th>\n",
              "      <td>1</td>\n",
              "      <td>5925304</td>\n",
              "      <td>G</td>\n",
              "      <td>A</td>\n",
              "      <td>0.0045</td>\n",
              "      <td>0.00231</td>\n",
              "      <td>0.0058</td>\n",
              "      <td>MedGen:C0687120,Orphanet:ORPHA655,SNOMED_CT:20...</td>\n",
              "      <td>NaN</td>\n",
              "      <td>Nephronophthisis|not_specified</td>\n",
              "      <td>...</td>\n",
              "      <td>deleterious</td>\n",
              "      <td>benign</td>\n",
              "      <td>NaN</td>\n",
              "      <td>NaN</td>\n",
              "      <td>NaN</td>\n",
              "      <td>NaN</td>\n",
              "      <td>0.021</td>\n",
              "      <td>22.100</td>\n",
              "      <td>2.969650</td>\n",
              "      <td>-1.0</td>\n",
              "    </tr>\n",
              "  </tbody>\n",
              "</table>\n",
              "<p>10 rows × 46 columns</p>\n",
              "</div>\n",
              "      <button class=\"colab-df-convert\" onclick=\"convertToInteractive('df-92185f14-6639-4c9d-a81c-6935bcfdf98b')\"\n",
              "              title=\"Convert this dataframe to an interactive table.\"\n",
              "              style=\"display:none;\">\n",
              "        \n",
              "  <svg xmlns=\"http://www.w3.org/2000/svg\" height=\"24px\"viewBox=\"0 0 24 24\"\n",
              "       width=\"24px\">\n",
              "    <path d=\"M0 0h24v24H0V0z\" fill=\"none\"/>\n",
              "    <path d=\"M18.56 5.44l.94 2.06.94-2.06 2.06-.94-2.06-.94-.94-2.06-.94 2.06-2.06.94zm-11 1L8.5 8.5l.94-2.06 2.06-.94-2.06-.94L8.5 2.5l-.94 2.06-2.06.94zm10 10l.94 2.06.94-2.06 2.06-.94-2.06-.94-.94-2.06-.94 2.06-2.06.94z\"/><path d=\"M17.41 7.96l-1.37-1.37c-.4-.4-.92-.59-1.43-.59-.52 0-1.04.2-1.43.59L10.3 9.45l-7.72 7.72c-.78.78-.78 2.05 0 2.83L4 21.41c.39.39.9.59 1.41.59.51 0 1.02-.2 1.41-.59l7.78-7.78 2.81-2.81c.8-.78.8-2.07 0-2.86zM5.41 20L4 18.59l7.72-7.72 1.47 1.35L5.41 20z\"/>\n",
              "  </svg>\n",
              "      </button>\n",
              "      \n",
              "  <style>\n",
              "    .colab-df-container {\n",
              "      display:flex;\n",
              "      flex-wrap:wrap;\n",
              "      gap: 12px;\n",
              "    }\n",
              "\n",
              "    .colab-df-convert {\n",
              "      background-color: #E8F0FE;\n",
              "      border: none;\n",
              "      border-radius: 50%;\n",
              "      cursor: pointer;\n",
              "      display: none;\n",
              "      fill: #1967D2;\n",
              "      height: 32px;\n",
              "      padding: 0 0 0 0;\n",
              "      width: 32px;\n",
              "    }\n",
              "\n",
              "    .colab-df-convert:hover {\n",
              "      background-color: #E2EBFA;\n",
              "      box-shadow: 0px 1px 2px rgba(60, 64, 67, 0.3), 0px 1px 3px 1px rgba(60, 64, 67, 0.15);\n",
              "      fill: #174EA6;\n",
              "    }\n",
              "\n",
              "    [theme=dark] .colab-df-convert {\n",
              "      background-color: #3B4455;\n",
              "      fill: #D2E3FC;\n",
              "    }\n",
              "\n",
              "    [theme=dark] .colab-df-convert:hover {\n",
              "      background-color: #434B5C;\n",
              "      box-shadow: 0px 1px 3px 1px rgba(0, 0, 0, 0.15);\n",
              "      filter: drop-shadow(0px 1px 2px rgba(0, 0, 0, 0.3));\n",
              "      fill: #FFFFFF;\n",
              "    }\n",
              "  </style>\n",
              "\n",
              "      <script>\n",
              "        const buttonEl =\n",
              "          document.querySelector('#df-92185f14-6639-4c9d-a81c-6935bcfdf98b button.colab-df-convert');\n",
              "        buttonEl.style.display =\n",
              "          google.colab.kernel.accessAllowed ? 'block' : 'none';\n",
              "\n",
              "        async function convertToInteractive(key) {\n",
              "          const element = document.querySelector('#df-92185f14-6639-4c9d-a81c-6935bcfdf98b');\n",
              "          const dataTable =\n",
              "            await google.colab.kernel.invokeFunction('convertToInteractive',\n",
              "                                                     [key], {});\n",
              "          if (!dataTable) return;\n",
              "\n",
              "          const docLinkHtml = 'Like what you see? Visit the ' +\n",
              "            '<a target=\"_blank\" href=https://colab.research.google.com/notebooks/data_table.ipynb>data table notebook</a>'\n",
              "            + ' to learn more about interactive tables.';\n",
              "          element.innerHTML = '';\n",
              "          dataTable['output_type'] = 'display_data';\n",
              "          await google.colab.output.renderOutput(dataTable, element);\n",
              "          const docLink = document.createElement('div');\n",
              "          docLink.innerHTML = docLinkHtml;\n",
              "          element.appendChild(docLink);\n",
              "        }\n",
              "      </script>\n",
              "    </div>\n",
              "  </div>\n",
              "  "
            ]
          },
          "metadata": {},
          "execution_count": 90
        }
      ],
      "source": [
        "# Load the clinvar_conflicting.csv files and assign the variable name dataFile\n",
        "dataFile = pd.read_csv\\\n",
        "(f'https://raw.githubusercontent.com/mmrepos/'\\\n",
        "'Genetic_Sequence_Analysis_Using_DNN/main/'\n",
        "'Dataset/clinvar_conflicting.csv')\n",
        "# Inspect the first ten records in the DataFrame\n",
        "dataFile.head(10)"
      ]
    },
    {
      "cell_type": "code",
      "execution_count": 91,
      "metadata": {
        "colab": {
          "base_uri": "https://localhost:8080/"
        },
        "id": "4FHVgllDMJLO",
        "outputId": "e7c3deea-c625-4feb-d571-118ad0920903"
      },
      "outputs": [
        {
          "output_type": "execute_result",
          "data": {
            "text/plain": [
              "(65188, 46)"
            ]
          },
          "metadata": {},
          "execution_count": 91
        }
      ],
      "source": [
        "dataFile.shape"
      ]
    },
    {
      "cell_type": "code",
      "execution_count": 92,
      "metadata": {
        "colab": {
          "base_uri": "https://localhost:8080/"
        },
        "id": "D6oXh-yeMpj6",
        "outputId": "6909d38c-1f32-4aa9-89e8-c46daacb8a52"
      },
      "outputs": [
        {
          "output_type": "execute_result",
          "data": {
            "text/plain": [
              "0    48754\n",
              "1    16434\n",
              "Name: CLASS, dtype: int64"
            ]
          },
          "metadata": {},
          "execution_count": 92
        }
      ],
      "source": [
        "dataFile.CLASS.value_counts()"
      ]
    },
    {
      "cell_type": "code",
      "execution_count": 93,
      "metadata": {
        "colab": {
          "base_uri": "https://localhost:8080/",
          "height": 1000
        },
        "id": "6aedcr-GNJzN",
        "outputId": "7a4d033c-df50-44c9-edac-202165407c4a"
      },
      "outputs": [
        {
          "output_type": "execute_result",
          "data": {
            "text/plain": [
              "                    Unique Values\n",
              "Variable                         \n",
              "CHROM                          38\n",
              "POS                         63115\n",
              "REF                           866\n",
              "ALT                           458\n",
              "AF_ESP                       2842\n",
              "AF_EXAC                      6667\n",
              "AF_TGP                       2087\n",
              "CLNDISDB                     9234\n",
              "CLNDISDBINCL                   94\n",
              "CLNDN                        9260\n",
              "CLNDNINCL                     102\n",
              "CLNHGVS                     65188\n",
              "CLNSIGINCL                    138\n",
              "CLNVC                           7\n",
              "CLNVI                       27655\n",
              "MC                             91\n",
              "ORIGIN                         31\n",
              "SSR                             3\n",
              "CLASS                           2\n",
              "Allele                        374\n",
              "Consequence                    48\n",
              "IMPACT                          4\n",
              "SYMBOL                       2329\n",
              "Feature_type                    3\n",
              "Feature                      2370\n",
              "BIOTYPE                         3\n",
              "EXON                         3265\n",
              "INTRON                       1930\n",
              "cDNA_position               13971\n",
              "CDS_position                13664\n",
              "Protein_position             7340\n",
              "Amino_acids                  1263\n",
              "Codons                       2221\n",
              "DISTANCE                       97\n",
              "STRAND                          3\n",
              "BAM_EDIT                        3\n",
              "SIFT                            5\n",
              "PolyPhen                        5\n",
              "MOTIF_NAME                      3\n",
              "MOTIF_POS                       2\n",
              "HIGH_INF_POS                    2\n",
              "MOTIF_SCORE_CHANGE              3\n",
              "LoFtool                      1196\n",
              "CADD_PHRED                   9325\n",
              "CADD_RAW                    63804\n",
              "BLOSUM62                        7"
            ],
            "text/html": [
              "\n",
              "  <div id=\"df-1cded46e-a8f3-4410-8d04-6508ee280c01\">\n",
              "    <div class=\"colab-df-container\">\n",
              "      <div>\n",
              "<style scoped>\n",
              "    .dataframe tbody tr th:only-of-type {\n",
              "        vertical-align: middle;\n",
              "    }\n",
              "\n",
              "    .dataframe tbody tr th {\n",
              "        vertical-align: top;\n",
              "    }\n",
              "\n",
              "    .dataframe thead th {\n",
              "        text-align: right;\n",
              "    }\n",
              "</style>\n",
              "<table border=\"1\" class=\"dataframe\">\n",
              "  <thead>\n",
              "    <tr style=\"text-align: right;\">\n",
              "      <th></th>\n",
              "      <th>Unique Values</th>\n",
              "    </tr>\n",
              "    <tr>\n",
              "      <th>Variable</th>\n",
              "      <th></th>\n",
              "    </tr>\n",
              "  </thead>\n",
              "  <tbody>\n",
              "    <tr>\n",
              "      <th>CHROM</th>\n",
              "      <td>38</td>\n",
              "    </tr>\n",
              "    <tr>\n",
              "      <th>POS</th>\n",
              "      <td>63115</td>\n",
              "    </tr>\n",
              "    <tr>\n",
              "      <th>REF</th>\n",
              "      <td>866</td>\n",
              "    </tr>\n",
              "    <tr>\n",
              "      <th>ALT</th>\n",
              "      <td>458</td>\n",
              "    </tr>\n",
              "    <tr>\n",
              "      <th>AF_ESP</th>\n",
              "      <td>2842</td>\n",
              "    </tr>\n",
              "    <tr>\n",
              "      <th>AF_EXAC</th>\n",
              "      <td>6667</td>\n",
              "    </tr>\n",
              "    <tr>\n",
              "      <th>AF_TGP</th>\n",
              "      <td>2087</td>\n",
              "    </tr>\n",
              "    <tr>\n",
              "      <th>CLNDISDB</th>\n",
              "      <td>9234</td>\n",
              "    </tr>\n",
              "    <tr>\n",
              "      <th>CLNDISDBINCL</th>\n",
              "      <td>94</td>\n",
              "    </tr>\n",
              "    <tr>\n",
              "      <th>CLNDN</th>\n",
              "      <td>9260</td>\n",
              "    </tr>\n",
              "    <tr>\n",
              "      <th>CLNDNINCL</th>\n",
              "      <td>102</td>\n",
              "    </tr>\n",
              "    <tr>\n",
              "      <th>CLNHGVS</th>\n",
              "      <td>65188</td>\n",
              "    </tr>\n",
              "    <tr>\n",
              "      <th>CLNSIGINCL</th>\n",
              "      <td>138</td>\n",
              "    </tr>\n",
              "    <tr>\n",
              "      <th>CLNVC</th>\n",
              "      <td>7</td>\n",
              "    </tr>\n",
              "    <tr>\n",
              "      <th>CLNVI</th>\n",
              "      <td>27655</td>\n",
              "    </tr>\n",
              "    <tr>\n",
              "      <th>MC</th>\n",
              "      <td>91</td>\n",
              "    </tr>\n",
              "    <tr>\n",
              "      <th>ORIGIN</th>\n",
              "      <td>31</td>\n",
              "    </tr>\n",
              "    <tr>\n",
              "      <th>SSR</th>\n",
              "      <td>3</td>\n",
              "    </tr>\n",
              "    <tr>\n",
              "      <th>CLASS</th>\n",
              "      <td>2</td>\n",
              "    </tr>\n",
              "    <tr>\n",
              "      <th>Allele</th>\n",
              "      <td>374</td>\n",
              "    </tr>\n",
              "    <tr>\n",
              "      <th>Consequence</th>\n",
              "      <td>48</td>\n",
              "    </tr>\n",
              "    <tr>\n",
              "      <th>IMPACT</th>\n",
              "      <td>4</td>\n",
              "    </tr>\n",
              "    <tr>\n",
              "      <th>SYMBOL</th>\n",
              "      <td>2329</td>\n",
              "    </tr>\n",
              "    <tr>\n",
              "      <th>Feature_type</th>\n",
              "      <td>3</td>\n",
              "    </tr>\n",
              "    <tr>\n",
              "      <th>Feature</th>\n",
              "      <td>2370</td>\n",
              "    </tr>\n",
              "    <tr>\n",
              "      <th>BIOTYPE</th>\n",
              "      <td>3</td>\n",
              "    </tr>\n",
              "    <tr>\n",
              "      <th>EXON</th>\n",
              "      <td>3265</td>\n",
              "    </tr>\n",
              "    <tr>\n",
              "      <th>INTRON</th>\n",
              "      <td>1930</td>\n",
              "    </tr>\n",
              "    <tr>\n",
              "      <th>cDNA_position</th>\n",
              "      <td>13971</td>\n",
              "    </tr>\n",
              "    <tr>\n",
              "      <th>CDS_position</th>\n",
              "      <td>13664</td>\n",
              "    </tr>\n",
              "    <tr>\n",
              "      <th>Protein_position</th>\n",
              "      <td>7340</td>\n",
              "    </tr>\n",
              "    <tr>\n",
              "      <th>Amino_acids</th>\n",
              "      <td>1263</td>\n",
              "    </tr>\n",
              "    <tr>\n",
              "      <th>Codons</th>\n",
              "      <td>2221</td>\n",
              "    </tr>\n",
              "    <tr>\n",
              "      <th>DISTANCE</th>\n",
              "      <td>97</td>\n",
              "    </tr>\n",
              "    <tr>\n",
              "      <th>STRAND</th>\n",
              "      <td>3</td>\n",
              "    </tr>\n",
              "    <tr>\n",
              "      <th>BAM_EDIT</th>\n",
              "      <td>3</td>\n",
              "    </tr>\n",
              "    <tr>\n",
              "      <th>SIFT</th>\n",
              "      <td>5</td>\n",
              "    </tr>\n",
              "    <tr>\n",
              "      <th>PolyPhen</th>\n",
              "      <td>5</td>\n",
              "    </tr>\n",
              "    <tr>\n",
              "      <th>MOTIF_NAME</th>\n",
              "      <td>3</td>\n",
              "    </tr>\n",
              "    <tr>\n",
              "      <th>MOTIF_POS</th>\n",
              "      <td>2</td>\n",
              "    </tr>\n",
              "    <tr>\n",
              "      <th>HIGH_INF_POS</th>\n",
              "      <td>2</td>\n",
              "    </tr>\n",
              "    <tr>\n",
              "      <th>MOTIF_SCORE_CHANGE</th>\n",
              "      <td>3</td>\n",
              "    </tr>\n",
              "    <tr>\n",
              "      <th>LoFtool</th>\n",
              "      <td>1196</td>\n",
              "    </tr>\n",
              "    <tr>\n",
              "      <th>CADD_PHRED</th>\n",
              "      <td>9325</td>\n",
              "    </tr>\n",
              "    <tr>\n",
              "      <th>CADD_RAW</th>\n",
              "      <td>63804</td>\n",
              "    </tr>\n",
              "    <tr>\n",
              "      <th>BLOSUM62</th>\n",
              "      <td>7</td>\n",
              "    </tr>\n",
              "  </tbody>\n",
              "</table>\n",
              "</div>\n",
              "      <button class=\"colab-df-convert\" onclick=\"convertToInteractive('df-1cded46e-a8f3-4410-8d04-6508ee280c01')\"\n",
              "              title=\"Convert this dataframe to an interactive table.\"\n",
              "              style=\"display:none;\">\n",
              "        \n",
              "  <svg xmlns=\"http://www.w3.org/2000/svg\" height=\"24px\"viewBox=\"0 0 24 24\"\n",
              "       width=\"24px\">\n",
              "    <path d=\"M0 0h24v24H0V0z\" fill=\"none\"/>\n",
              "    <path d=\"M18.56 5.44l.94 2.06.94-2.06 2.06-.94-2.06-.94-.94-2.06-.94 2.06-2.06.94zm-11 1L8.5 8.5l.94-2.06 2.06-.94-2.06-.94L8.5 2.5l-.94 2.06-2.06.94zm10 10l.94 2.06.94-2.06 2.06-.94-2.06-.94-.94-2.06-.94 2.06-2.06.94z\"/><path d=\"M17.41 7.96l-1.37-1.37c-.4-.4-.92-.59-1.43-.59-.52 0-1.04.2-1.43.59L10.3 9.45l-7.72 7.72c-.78.78-.78 2.05 0 2.83L4 21.41c.39.39.9.59 1.41.59.51 0 1.02-.2 1.41-.59l7.78-7.78 2.81-2.81c.8-.78.8-2.07 0-2.86zM5.41 20L4 18.59l7.72-7.72 1.47 1.35L5.41 20z\"/>\n",
              "  </svg>\n",
              "      </button>\n",
              "      \n",
              "  <style>\n",
              "    .colab-df-container {\n",
              "      display:flex;\n",
              "      flex-wrap:wrap;\n",
              "      gap: 12px;\n",
              "    }\n",
              "\n",
              "    .colab-df-convert {\n",
              "      background-color: #E8F0FE;\n",
              "      border: none;\n",
              "      border-radius: 50%;\n",
              "      cursor: pointer;\n",
              "      display: none;\n",
              "      fill: #1967D2;\n",
              "      height: 32px;\n",
              "      padding: 0 0 0 0;\n",
              "      width: 32px;\n",
              "    }\n",
              "\n",
              "    .colab-df-convert:hover {\n",
              "      background-color: #E2EBFA;\n",
              "      box-shadow: 0px 1px 2px rgba(60, 64, 67, 0.3), 0px 1px 3px 1px rgba(60, 64, 67, 0.15);\n",
              "      fill: #174EA6;\n",
              "    }\n",
              "\n",
              "    [theme=dark] .colab-df-convert {\n",
              "      background-color: #3B4455;\n",
              "      fill: #D2E3FC;\n",
              "    }\n",
              "\n",
              "    [theme=dark] .colab-df-convert:hover {\n",
              "      background-color: #434B5C;\n",
              "      box-shadow: 0px 1px 3px 1px rgba(0, 0, 0, 0.15);\n",
              "      filter: drop-shadow(0px 1px 2px rgba(0, 0, 0, 0.3));\n",
              "      fill: #FFFFFF;\n",
              "    }\n",
              "  </style>\n",
              "\n",
              "      <script>\n",
              "        const buttonEl =\n",
              "          document.querySelector('#df-1cded46e-a8f3-4410-8d04-6508ee280c01 button.colab-df-convert');\n",
              "        buttonEl.style.display =\n",
              "          google.colab.kernel.accessAllowed ? 'block' : 'none';\n",
              "\n",
              "        async function convertToInteractive(key) {\n",
              "          const element = document.querySelector('#df-1cded46e-a8f3-4410-8d04-6508ee280c01');\n",
              "          const dataTable =\n",
              "            await google.colab.kernel.invokeFunction('convertToInteractive',\n",
              "                                                     [key], {});\n",
              "          if (!dataTable) return;\n",
              "\n",
              "          const docLinkHtml = 'Like what you see? Visit the ' +\n",
              "            '<a target=\"_blank\" href=https://colab.research.google.com/notebooks/data_table.ipynb>data table notebook</a>'\n",
              "            + ' to learn more about interactive tables.';\n",
              "          element.innerHTML = '';\n",
              "          dataTable['output_type'] = 'display_data';\n",
              "          await google.colab.output.renderOutput(dataTable, element);\n",
              "          const docLink = document.createElement('div');\n",
              "          docLink.innerHTML = docLinkHtml;\n",
              "          element.appendChild(docLink);\n",
              "        }\n",
              "      </script>\n",
              "    </div>\n",
              "  </div>\n",
              "  "
            ]
          },
          "metadata": {},
          "execution_count": 93
        }
      ],
      "source": [
        "# get unique values of a column in a Pandas dataframe\n",
        "pd.DataFrame([[i, len(dataFile[i].unique())] \n",
        "              for i in dataFile.columns],\n",
        "             columns=['Variable', 'Unique Values']).set_index('Variable')"
      ]
    },
    {
      "cell_type": "code",
      "execution_count": 94,
      "metadata": {
        "id": "sOvADTDUQEyn"
      },
      "outputs": [],
      "source": [
        "#\n",
        "unique_columns = pd.DataFrame([[i, len(dataFile[i].unique())] for i in\n",
        "                              dataFile.columns], columns=['Variable',\n",
        "                              'Unique Values']).set_index('Variable')\n",
        "to_drop = list(unique_columns[unique_columns['Unique Values']\n",
        "               > 3000].index)\n",
        "dataFile.drop(to_drop, axis=1, inplace=True)"
      ]
    },
    {
      "cell_type": "code",
      "execution_count": 95,
      "metadata": {
        "colab": {
          "base_uri": "https://localhost:8080/",
          "height": 1000
        },
        "id": "s1Sks8tzRHMr",
        "outputId": "dc53f545-20f1-47ae-8616-c371487069ac"
      },
      "outputs": [
        {
          "output_type": "execute_result",
          "data": {
            "text/plain": [
              "                    Unique Values\n",
              "Variable                         \n",
              "CHROM                          38\n",
              "REF                           866\n",
              "ALT                           458\n",
              "AF_ESP                       2842\n",
              "AF_TGP                       2087\n",
              "CLNDISDBINCL                   94\n",
              "CLNDNINCL                     102\n",
              "CLNSIGINCL                    138\n",
              "CLNVC                           7\n",
              "MC                             91\n",
              "ORIGIN                         31\n",
              "SSR                             3\n",
              "CLASS                           2\n",
              "Allele                        374\n",
              "Consequence                    48\n",
              "IMPACT                          4\n",
              "SYMBOL                       2329\n",
              "Feature_type                    3\n",
              "Feature                      2370\n",
              "BIOTYPE                         3\n",
              "INTRON                       1930\n",
              "Amino_acids                  1263\n",
              "Codons                       2221\n",
              "DISTANCE                       97\n",
              "STRAND                          3\n",
              "BAM_EDIT                        3\n",
              "SIFT                            5\n",
              "PolyPhen                        5\n",
              "MOTIF_NAME                      3\n",
              "MOTIF_POS                       2\n",
              "HIGH_INF_POS                    2\n",
              "MOTIF_SCORE_CHANGE              3\n",
              "LoFtool                      1196\n",
              "BLOSUM62                        7"
            ],
            "text/html": [
              "\n",
              "  <div id=\"df-8f6b3fa2-a15b-4c23-858b-e9d172ad223a\">\n",
              "    <div class=\"colab-df-container\">\n",
              "      <div>\n",
              "<style scoped>\n",
              "    .dataframe tbody tr th:only-of-type {\n",
              "        vertical-align: middle;\n",
              "    }\n",
              "\n",
              "    .dataframe tbody tr th {\n",
              "        vertical-align: top;\n",
              "    }\n",
              "\n",
              "    .dataframe thead th {\n",
              "        text-align: right;\n",
              "    }\n",
              "</style>\n",
              "<table border=\"1\" class=\"dataframe\">\n",
              "  <thead>\n",
              "    <tr style=\"text-align: right;\">\n",
              "      <th></th>\n",
              "      <th>Unique Values</th>\n",
              "    </tr>\n",
              "    <tr>\n",
              "      <th>Variable</th>\n",
              "      <th></th>\n",
              "    </tr>\n",
              "  </thead>\n",
              "  <tbody>\n",
              "    <tr>\n",
              "      <th>CHROM</th>\n",
              "      <td>38</td>\n",
              "    </tr>\n",
              "    <tr>\n",
              "      <th>REF</th>\n",
              "      <td>866</td>\n",
              "    </tr>\n",
              "    <tr>\n",
              "      <th>ALT</th>\n",
              "      <td>458</td>\n",
              "    </tr>\n",
              "    <tr>\n",
              "      <th>AF_ESP</th>\n",
              "      <td>2842</td>\n",
              "    </tr>\n",
              "    <tr>\n",
              "      <th>AF_TGP</th>\n",
              "      <td>2087</td>\n",
              "    </tr>\n",
              "    <tr>\n",
              "      <th>CLNDISDBINCL</th>\n",
              "      <td>94</td>\n",
              "    </tr>\n",
              "    <tr>\n",
              "      <th>CLNDNINCL</th>\n",
              "      <td>102</td>\n",
              "    </tr>\n",
              "    <tr>\n",
              "      <th>CLNSIGINCL</th>\n",
              "      <td>138</td>\n",
              "    </tr>\n",
              "    <tr>\n",
              "      <th>CLNVC</th>\n",
              "      <td>7</td>\n",
              "    </tr>\n",
              "    <tr>\n",
              "      <th>MC</th>\n",
              "      <td>91</td>\n",
              "    </tr>\n",
              "    <tr>\n",
              "      <th>ORIGIN</th>\n",
              "      <td>31</td>\n",
              "    </tr>\n",
              "    <tr>\n",
              "      <th>SSR</th>\n",
              "      <td>3</td>\n",
              "    </tr>\n",
              "    <tr>\n",
              "      <th>CLASS</th>\n",
              "      <td>2</td>\n",
              "    </tr>\n",
              "    <tr>\n",
              "      <th>Allele</th>\n",
              "      <td>374</td>\n",
              "    </tr>\n",
              "    <tr>\n",
              "      <th>Consequence</th>\n",
              "      <td>48</td>\n",
              "    </tr>\n",
              "    <tr>\n",
              "      <th>IMPACT</th>\n",
              "      <td>4</td>\n",
              "    </tr>\n",
              "    <tr>\n",
              "      <th>SYMBOL</th>\n",
              "      <td>2329</td>\n",
              "    </tr>\n",
              "    <tr>\n",
              "      <th>Feature_type</th>\n",
              "      <td>3</td>\n",
              "    </tr>\n",
              "    <tr>\n",
              "      <th>Feature</th>\n",
              "      <td>2370</td>\n",
              "    </tr>\n",
              "    <tr>\n",
              "      <th>BIOTYPE</th>\n",
              "      <td>3</td>\n",
              "    </tr>\n",
              "    <tr>\n",
              "      <th>INTRON</th>\n",
              "      <td>1930</td>\n",
              "    </tr>\n",
              "    <tr>\n",
              "      <th>Amino_acids</th>\n",
              "      <td>1263</td>\n",
              "    </tr>\n",
              "    <tr>\n",
              "      <th>Codons</th>\n",
              "      <td>2221</td>\n",
              "    </tr>\n",
              "    <tr>\n",
              "      <th>DISTANCE</th>\n",
              "      <td>97</td>\n",
              "    </tr>\n",
              "    <tr>\n",
              "      <th>STRAND</th>\n",
              "      <td>3</td>\n",
              "    </tr>\n",
              "    <tr>\n",
              "      <th>BAM_EDIT</th>\n",
              "      <td>3</td>\n",
              "    </tr>\n",
              "    <tr>\n",
              "      <th>SIFT</th>\n",
              "      <td>5</td>\n",
              "    </tr>\n",
              "    <tr>\n",
              "      <th>PolyPhen</th>\n",
              "      <td>5</td>\n",
              "    </tr>\n",
              "    <tr>\n",
              "      <th>MOTIF_NAME</th>\n",
              "      <td>3</td>\n",
              "    </tr>\n",
              "    <tr>\n",
              "      <th>MOTIF_POS</th>\n",
              "      <td>2</td>\n",
              "    </tr>\n",
              "    <tr>\n",
              "      <th>HIGH_INF_POS</th>\n",
              "      <td>2</td>\n",
              "    </tr>\n",
              "    <tr>\n",
              "      <th>MOTIF_SCORE_CHANGE</th>\n",
              "      <td>3</td>\n",
              "    </tr>\n",
              "    <tr>\n",
              "      <th>LoFtool</th>\n",
              "      <td>1196</td>\n",
              "    </tr>\n",
              "    <tr>\n",
              "      <th>BLOSUM62</th>\n",
              "      <td>7</td>\n",
              "    </tr>\n",
              "  </tbody>\n",
              "</table>\n",
              "</div>\n",
              "      <button class=\"colab-df-convert\" onclick=\"convertToInteractive('df-8f6b3fa2-a15b-4c23-858b-e9d172ad223a')\"\n",
              "              title=\"Convert this dataframe to an interactive table.\"\n",
              "              style=\"display:none;\">\n",
              "        \n",
              "  <svg xmlns=\"http://www.w3.org/2000/svg\" height=\"24px\"viewBox=\"0 0 24 24\"\n",
              "       width=\"24px\">\n",
              "    <path d=\"M0 0h24v24H0V0z\" fill=\"none\"/>\n",
              "    <path d=\"M18.56 5.44l.94 2.06.94-2.06 2.06-.94-2.06-.94-.94-2.06-.94 2.06-2.06.94zm-11 1L8.5 8.5l.94-2.06 2.06-.94-2.06-.94L8.5 2.5l-.94 2.06-2.06.94zm10 10l.94 2.06.94-2.06 2.06-.94-2.06-.94-.94-2.06-.94 2.06-2.06.94z\"/><path d=\"M17.41 7.96l-1.37-1.37c-.4-.4-.92-.59-1.43-.59-.52 0-1.04.2-1.43.59L10.3 9.45l-7.72 7.72c-.78.78-.78 2.05 0 2.83L4 21.41c.39.39.9.59 1.41.59.51 0 1.02-.2 1.41-.59l7.78-7.78 2.81-2.81c.8-.78.8-2.07 0-2.86zM5.41 20L4 18.59l7.72-7.72 1.47 1.35L5.41 20z\"/>\n",
              "  </svg>\n",
              "      </button>\n",
              "      \n",
              "  <style>\n",
              "    .colab-df-container {\n",
              "      display:flex;\n",
              "      flex-wrap:wrap;\n",
              "      gap: 12px;\n",
              "    }\n",
              "\n",
              "    .colab-df-convert {\n",
              "      background-color: #E8F0FE;\n",
              "      border: none;\n",
              "      border-radius: 50%;\n",
              "      cursor: pointer;\n",
              "      display: none;\n",
              "      fill: #1967D2;\n",
              "      height: 32px;\n",
              "      padding: 0 0 0 0;\n",
              "      width: 32px;\n",
              "    }\n",
              "\n",
              "    .colab-df-convert:hover {\n",
              "      background-color: #E2EBFA;\n",
              "      box-shadow: 0px 1px 2px rgba(60, 64, 67, 0.3), 0px 1px 3px 1px rgba(60, 64, 67, 0.15);\n",
              "      fill: #174EA6;\n",
              "    }\n",
              "\n",
              "    [theme=dark] .colab-df-convert {\n",
              "      background-color: #3B4455;\n",
              "      fill: #D2E3FC;\n",
              "    }\n",
              "\n",
              "    [theme=dark] .colab-df-convert:hover {\n",
              "      background-color: #434B5C;\n",
              "      box-shadow: 0px 1px 3px 1px rgba(0, 0, 0, 0.15);\n",
              "      filter: drop-shadow(0px 1px 2px rgba(0, 0, 0, 0.3));\n",
              "      fill: #FFFFFF;\n",
              "    }\n",
              "  </style>\n",
              "\n",
              "      <script>\n",
              "        const buttonEl =\n",
              "          document.querySelector('#df-8f6b3fa2-a15b-4c23-858b-e9d172ad223a button.colab-df-convert');\n",
              "        buttonEl.style.display =\n",
              "          google.colab.kernel.accessAllowed ? 'block' : 'none';\n",
              "\n",
              "        async function convertToInteractive(key) {\n",
              "          const element = document.querySelector('#df-8f6b3fa2-a15b-4c23-858b-e9d172ad223a');\n",
              "          const dataTable =\n",
              "            await google.colab.kernel.invokeFunction('convertToInteractive',\n",
              "                                                     [key], {});\n",
              "          if (!dataTable) return;\n",
              "\n",
              "          const docLinkHtml = 'Like what you see? Visit the ' +\n",
              "            '<a target=\"_blank\" href=https://colab.research.google.com/notebooks/data_table.ipynb>data table notebook</a>'\n",
              "            + ' to learn more about interactive tables.';\n",
              "          element.innerHTML = '';\n",
              "          dataTable['output_type'] = 'display_data';\n",
              "          await google.colab.output.renderOutput(dataTable, element);\n",
              "          const docLink = document.createElement('div');\n",
              "          docLink.innerHTML = docLinkHtml;\n",
              "          element.appendChild(docLink);\n",
              "        }\n",
              "      </script>\n",
              "    </div>\n",
              "  </div>\n",
              "  "
            ]
          },
          "metadata": {},
          "execution_count": 95
        }
      ],
      "source": [
        "# get unique values of a column in a Pandas dataframe\n",
        "pd.DataFrame([[i, len(dataFile[i].unique())] \n",
        "              for i in dataFile.columns],\n",
        "             columns=['Variable', 'Unique Values']).set_index('Variable')"
      ]
    },
    {
      "cell_type": "code",
      "execution_count": 96,
      "metadata": {
        "id": "wzmQmPRKd0Da"
      },
      "outputs": [],
      "source": [
        "#\n",
        "unique_columns = pd.DataFrame([[i, len(dataFile[i].unique())] for i in\n",
        "                              dataFile.columns], columns=['Variable',\n",
        "                              'Unique Values']).set_index('Variable')\n",
        "to_drop = list(unique_columns[unique_columns['Unique Values']\n",
        "               > 3000].index)\n",
        "dataFile.drop(to_drop, axis=1, inplace=True)"
      ]
    },
    {
      "cell_type": "code",
      "execution_count": 97,
      "metadata": {
        "colab": {
          "base_uri": "https://localhost:8080/",
          "height": 1000
        },
        "outputId": "ecb90820-0b56-47dd-c6eb-7142c1bad699",
        "id": "KypRHvW_d0Db"
      },
      "outputs": [
        {
          "output_type": "execute_result",
          "data": {
            "text/plain": [
              "                    Unique Values\n",
              "Variable                         \n",
              "CHROM                          38\n",
              "REF                           866\n",
              "ALT                           458\n",
              "AF_ESP                       2842\n",
              "AF_TGP                       2087\n",
              "CLNDISDBINCL                   94\n",
              "CLNDNINCL                     102\n",
              "CLNSIGINCL                    138\n",
              "CLNVC                           7\n",
              "MC                             91\n",
              "ORIGIN                         31\n",
              "SSR                             3\n",
              "CLASS                           2\n",
              "Allele                        374\n",
              "Consequence                    48\n",
              "IMPACT                          4\n",
              "SYMBOL                       2329\n",
              "Feature_type                    3\n",
              "Feature                      2370\n",
              "BIOTYPE                         3\n",
              "INTRON                       1930\n",
              "Amino_acids                  1263\n",
              "Codons                       2221\n",
              "DISTANCE                       97\n",
              "STRAND                          3\n",
              "BAM_EDIT                        3\n",
              "SIFT                            5\n",
              "PolyPhen                        5\n",
              "MOTIF_NAME                      3\n",
              "MOTIF_POS                       2\n",
              "HIGH_INF_POS                    2\n",
              "MOTIF_SCORE_CHANGE              3\n",
              "LoFtool                      1196\n",
              "BLOSUM62                        7"
            ],
            "text/html": [
              "\n",
              "  <div id=\"df-c5df29a2-cf24-4a43-b842-e6df96a6a5bd\">\n",
              "    <div class=\"colab-df-container\">\n",
              "      <div>\n",
              "<style scoped>\n",
              "    .dataframe tbody tr th:only-of-type {\n",
              "        vertical-align: middle;\n",
              "    }\n",
              "\n",
              "    .dataframe tbody tr th {\n",
              "        vertical-align: top;\n",
              "    }\n",
              "\n",
              "    .dataframe thead th {\n",
              "        text-align: right;\n",
              "    }\n",
              "</style>\n",
              "<table border=\"1\" class=\"dataframe\">\n",
              "  <thead>\n",
              "    <tr style=\"text-align: right;\">\n",
              "      <th></th>\n",
              "      <th>Unique Values</th>\n",
              "    </tr>\n",
              "    <tr>\n",
              "      <th>Variable</th>\n",
              "      <th></th>\n",
              "    </tr>\n",
              "  </thead>\n",
              "  <tbody>\n",
              "    <tr>\n",
              "      <th>CHROM</th>\n",
              "      <td>38</td>\n",
              "    </tr>\n",
              "    <tr>\n",
              "      <th>REF</th>\n",
              "      <td>866</td>\n",
              "    </tr>\n",
              "    <tr>\n",
              "      <th>ALT</th>\n",
              "      <td>458</td>\n",
              "    </tr>\n",
              "    <tr>\n",
              "      <th>AF_ESP</th>\n",
              "      <td>2842</td>\n",
              "    </tr>\n",
              "    <tr>\n",
              "      <th>AF_TGP</th>\n",
              "      <td>2087</td>\n",
              "    </tr>\n",
              "    <tr>\n",
              "      <th>CLNDISDBINCL</th>\n",
              "      <td>94</td>\n",
              "    </tr>\n",
              "    <tr>\n",
              "      <th>CLNDNINCL</th>\n",
              "      <td>102</td>\n",
              "    </tr>\n",
              "    <tr>\n",
              "      <th>CLNSIGINCL</th>\n",
              "      <td>138</td>\n",
              "    </tr>\n",
              "    <tr>\n",
              "      <th>CLNVC</th>\n",
              "      <td>7</td>\n",
              "    </tr>\n",
              "    <tr>\n",
              "      <th>MC</th>\n",
              "      <td>91</td>\n",
              "    </tr>\n",
              "    <tr>\n",
              "      <th>ORIGIN</th>\n",
              "      <td>31</td>\n",
              "    </tr>\n",
              "    <tr>\n",
              "      <th>SSR</th>\n",
              "      <td>3</td>\n",
              "    </tr>\n",
              "    <tr>\n",
              "      <th>CLASS</th>\n",
              "      <td>2</td>\n",
              "    </tr>\n",
              "    <tr>\n",
              "      <th>Allele</th>\n",
              "      <td>374</td>\n",
              "    </tr>\n",
              "    <tr>\n",
              "      <th>Consequence</th>\n",
              "      <td>48</td>\n",
              "    </tr>\n",
              "    <tr>\n",
              "      <th>IMPACT</th>\n",
              "      <td>4</td>\n",
              "    </tr>\n",
              "    <tr>\n",
              "      <th>SYMBOL</th>\n",
              "      <td>2329</td>\n",
              "    </tr>\n",
              "    <tr>\n",
              "      <th>Feature_type</th>\n",
              "      <td>3</td>\n",
              "    </tr>\n",
              "    <tr>\n",
              "      <th>Feature</th>\n",
              "      <td>2370</td>\n",
              "    </tr>\n",
              "    <tr>\n",
              "      <th>BIOTYPE</th>\n",
              "      <td>3</td>\n",
              "    </tr>\n",
              "    <tr>\n",
              "      <th>INTRON</th>\n",
              "      <td>1930</td>\n",
              "    </tr>\n",
              "    <tr>\n",
              "      <th>Amino_acids</th>\n",
              "      <td>1263</td>\n",
              "    </tr>\n",
              "    <tr>\n",
              "      <th>Codons</th>\n",
              "      <td>2221</td>\n",
              "    </tr>\n",
              "    <tr>\n",
              "      <th>DISTANCE</th>\n",
              "      <td>97</td>\n",
              "    </tr>\n",
              "    <tr>\n",
              "      <th>STRAND</th>\n",
              "      <td>3</td>\n",
              "    </tr>\n",
              "    <tr>\n",
              "      <th>BAM_EDIT</th>\n",
              "      <td>3</td>\n",
              "    </tr>\n",
              "    <tr>\n",
              "      <th>SIFT</th>\n",
              "      <td>5</td>\n",
              "    </tr>\n",
              "    <tr>\n",
              "      <th>PolyPhen</th>\n",
              "      <td>5</td>\n",
              "    </tr>\n",
              "    <tr>\n",
              "      <th>MOTIF_NAME</th>\n",
              "      <td>3</td>\n",
              "    </tr>\n",
              "    <tr>\n",
              "      <th>MOTIF_POS</th>\n",
              "      <td>2</td>\n",
              "    </tr>\n",
              "    <tr>\n",
              "      <th>HIGH_INF_POS</th>\n",
              "      <td>2</td>\n",
              "    </tr>\n",
              "    <tr>\n",
              "      <th>MOTIF_SCORE_CHANGE</th>\n",
              "      <td>3</td>\n",
              "    </tr>\n",
              "    <tr>\n",
              "      <th>LoFtool</th>\n",
              "      <td>1196</td>\n",
              "    </tr>\n",
              "    <tr>\n",
              "      <th>BLOSUM62</th>\n",
              "      <td>7</td>\n",
              "    </tr>\n",
              "  </tbody>\n",
              "</table>\n",
              "</div>\n",
              "      <button class=\"colab-df-convert\" onclick=\"convertToInteractive('df-c5df29a2-cf24-4a43-b842-e6df96a6a5bd')\"\n",
              "              title=\"Convert this dataframe to an interactive table.\"\n",
              "              style=\"display:none;\">\n",
              "        \n",
              "  <svg xmlns=\"http://www.w3.org/2000/svg\" height=\"24px\"viewBox=\"0 0 24 24\"\n",
              "       width=\"24px\">\n",
              "    <path d=\"M0 0h24v24H0V0z\" fill=\"none\"/>\n",
              "    <path d=\"M18.56 5.44l.94 2.06.94-2.06 2.06-.94-2.06-.94-.94-2.06-.94 2.06-2.06.94zm-11 1L8.5 8.5l.94-2.06 2.06-.94-2.06-.94L8.5 2.5l-.94 2.06-2.06.94zm10 10l.94 2.06.94-2.06 2.06-.94-2.06-.94-.94-2.06-.94 2.06-2.06.94z\"/><path d=\"M17.41 7.96l-1.37-1.37c-.4-.4-.92-.59-1.43-.59-.52 0-1.04.2-1.43.59L10.3 9.45l-7.72 7.72c-.78.78-.78 2.05 0 2.83L4 21.41c.39.39.9.59 1.41.59.51 0 1.02-.2 1.41-.59l7.78-7.78 2.81-2.81c.8-.78.8-2.07 0-2.86zM5.41 20L4 18.59l7.72-7.72 1.47 1.35L5.41 20z\"/>\n",
              "  </svg>\n",
              "      </button>\n",
              "      \n",
              "  <style>\n",
              "    .colab-df-container {\n",
              "      display:flex;\n",
              "      flex-wrap:wrap;\n",
              "      gap: 12px;\n",
              "    }\n",
              "\n",
              "    .colab-df-convert {\n",
              "      background-color: #E8F0FE;\n",
              "      border: none;\n",
              "      border-radius: 50%;\n",
              "      cursor: pointer;\n",
              "      display: none;\n",
              "      fill: #1967D2;\n",
              "      height: 32px;\n",
              "      padding: 0 0 0 0;\n",
              "      width: 32px;\n",
              "    }\n",
              "\n",
              "    .colab-df-convert:hover {\n",
              "      background-color: #E2EBFA;\n",
              "      box-shadow: 0px 1px 2px rgba(60, 64, 67, 0.3), 0px 1px 3px 1px rgba(60, 64, 67, 0.15);\n",
              "      fill: #174EA6;\n",
              "    }\n",
              "\n",
              "    [theme=dark] .colab-df-convert {\n",
              "      background-color: #3B4455;\n",
              "      fill: #D2E3FC;\n",
              "    }\n",
              "\n",
              "    [theme=dark] .colab-df-convert:hover {\n",
              "      background-color: #434B5C;\n",
              "      box-shadow: 0px 1px 3px 1px rgba(0, 0, 0, 0.15);\n",
              "      filter: drop-shadow(0px 1px 2px rgba(0, 0, 0, 0.3));\n",
              "      fill: #FFFFFF;\n",
              "    }\n",
              "  </style>\n",
              "\n",
              "      <script>\n",
              "        const buttonEl =\n",
              "          document.querySelector('#df-c5df29a2-cf24-4a43-b842-e6df96a6a5bd button.colab-df-convert');\n",
              "        buttonEl.style.display =\n",
              "          google.colab.kernel.accessAllowed ? 'block' : 'none';\n",
              "\n",
              "        async function convertToInteractive(key) {\n",
              "          const element = document.querySelector('#df-c5df29a2-cf24-4a43-b842-e6df96a6a5bd');\n",
              "          const dataTable =\n",
              "            await google.colab.kernel.invokeFunction('convertToInteractive',\n",
              "                                                     [key], {});\n",
              "          if (!dataTable) return;\n",
              "\n",
              "          const docLinkHtml = 'Like what you see? Visit the ' +\n",
              "            '<a target=\"_blank\" href=https://colab.research.google.com/notebooks/data_table.ipynb>data table notebook</a>'\n",
              "            + ' to learn more about interactive tables.';\n",
              "          element.innerHTML = '';\n",
              "          dataTable['output_type'] = 'display_data';\n",
              "          await google.colab.output.renderOutput(dataTable, element);\n",
              "          const docLink = document.createElement('div');\n",
              "          docLink.innerHTML = docLinkHtml;\n",
              "          element.appendChild(docLink);\n",
              "        }\n",
              "      </script>\n",
              "    </div>\n",
              "  </div>\n",
              "  "
            ]
          },
          "metadata": {},
          "execution_count": 97
        }
      ],
      "source": [
        "pd.DataFrame([[i, len(dataFile[i].unique())] for i in dataFile.columns],\n",
        "             columns=['Variable', 'Unique Values']).set_index('Variable'\n",
        "        )"
      ]
    },
    {
      "cell_type": "code",
      "execution_count": 98,
      "metadata": {
        "id": "Mh37JSaUVEC-"
      },
      "outputs": [],
      "source": [
        "# Check and manage NULL values in the data frame.\n",
        "\n",
        "number_missing = dataFile.isnull().sum()\n",
        "percentage_missing = dataFile.isnull().sum().apply(lambda x: x \\\n",
        "        / dataFile.shape[0] * 100)"
      ]
    },
    {
      "cell_type": "code",
      "execution_count": 99,
      "metadata": {
        "colab": {
          "base_uri": "https://localhost:8080/"
        },
        "id": "-z1L9XWqWI1W",
        "outputId": "4d2a02c7-dbb0-4853-cff7-0ea3fdb9b906"
      },
      "outputs": [
        {
          "output_type": "execute_result",
          "data": {
            "text/plain": [
              "MOTIF_NAME            99.996932\n",
              "MOTIF_SCORE_CHANGE    99.996932\n",
              "HIGH_INF_POS          99.996932\n",
              "MOTIF_POS             99.996932\n",
              "DISTANCE              99.834325\n",
              "SSR                   99.800577\n",
              "CLNDISDBINCL          99.743818\n",
              "CLNDNINCL             99.743818\n",
              "CLNSIGINCL            99.743818\n",
              "INTRON                86.495981\n",
              "PolyPhen              61.962324\n",
              "SIFT                  61.900963\n",
              "BLOSUM62              60.739707\n",
              "BAM_EDIT              50.958765\n",
              "Amino_acids           15.346383\n",
              "Codons                15.346383\n",
              "LoFtool                6.462846\n",
              "MC                     1.297785\n",
              "SYMBOL                 0.024544\n",
              "BIOTYPE                0.024544\n",
              "STRAND                 0.021476\n",
              "Feature_type           0.021476\n",
              "Feature                0.021476\n",
              "REF                    0.000000\n",
              "IMPACT                 0.000000\n",
              "Consequence            0.000000\n",
              "Allele                 0.000000\n",
              "CLASS                  0.000000\n",
              "ORIGIN                 0.000000\n",
              "CLNVC                  0.000000\n",
              "AF_TGP                 0.000000\n",
              "AF_ESP                 0.000000\n",
              "ALT                    0.000000\n",
              "CHROM                  0.000000\n",
              "Name: Percentage Missing, dtype: float64"
            ]
          },
          "metadata": {},
          "execution_count": 99
        }
      ],
      "source": [
        "data_missing = pd.DataFrame({'Number Missing': number_missing,\n",
        "                            'Percentage Missing': percentage_missing})\n",
        "\n",
        "# Percentage of missing data in the dataframe in descending order\n",
        "\n",
        "data_missing['Percentage Missing'].sort_values(ascending=False)"
      ]
    },
    {
      "cell_type": "code",
      "execution_count": 100,
      "metadata": {
        "colab": {
          "base_uri": "https://localhost:8080/"
        },
        "id": "zjFTJyvafkKb",
        "outputId": "bfa01c88-452a-47da-b9b0-2a9b67052136"
      },
      "outputs": [
        {
          "output_type": "execute_result",
          "data": {
            "text/plain": [
              "CHROM               0\n",
              "REF                 0\n",
              "ALT                 0\n",
              "AF_ESP              0\n",
              "AF_TGP              0\n",
              "CLNVC               0\n",
              "MC                846\n",
              "ORIGIN              0\n",
              "CLASS               0\n",
              "Allele              0\n",
              "Consequence         0\n",
              "IMPACT              0\n",
              "SYMBOL             16\n",
              "Feature_type       14\n",
              "Feature            14\n",
              "BIOTYPE            16\n",
              "Amino_acids     10004\n",
              "Codons          10004\n",
              "STRAND             14\n",
              "LoFtool          4213\n",
              "dtype: int64"
            ]
          },
          "metadata": {},
          "execution_count": 100
        }
      ],
      "source": [
        "# Drop the columns where >= 20% of the data is missing\n",
        "\n",
        "list_to_drop = list(data_missing[data_missing['Percentage Missing']\n",
        "                 >= 20].index)\n",
        "dataFile.drop(list_to_drop, axis=1, inplace=True)\n",
        "\n",
        "# Check the NULL values in a data frame.\n",
        "\n",
        "dataFile.isnull().sum()"
      ]
    },
    {
      "cell_type": "code",
      "execution_count": 101,
      "metadata": {
        "colab": {
          "base_uri": "https://localhost:8080/",
          "height": 613
        },
        "id": "mZHZ3Z9DmzUc",
        "outputId": "ccf59900-d717-42a6-d01e-ba14160e5f75"
      },
      "outputs": [
        {
          "output_type": "execute_result",
          "data": {
            "text/plain": [
              "<matplotlib.axes._subplots.AxesSubplot at 0x7f37693aa250>"
            ]
          },
          "metadata": {},
          "execution_count": 101
        },
        {
          "output_type": "display_data",
          "data": {
            "text/plain": [
              "<Figure size 864x720 with 2 Axes>"
            ],
            "image/png": "[encoded data removed]"
          },
          "metadata": {
            "needs_background": "light"
          }
        }
      ],
      "source": [
        "# Create a new figure with the specified width and height\n",
        "# Display dataFrame as heatmap\n",
        "\n",
        "plt.figure(figsize=(12, 10))\n",
        "sns.heatmap(dataFile.corr(), annot=True, linewidths=.5, cmap=plt.cm.cool)"
      ]
    },
    {
      "cell_type": "code",
      "execution_count": 102,
      "metadata": {
        "id": "NL6zbaqppPZt"
      },
      "outputs": [],
      "source": [
        "# Drop the AF_TGP column that is strongly correlated\n",
        "# Correlation for AF_ESP with AF_TGP is above 0.8\n",
        "\n",
        "dataFile.drop(['AF_TGP'],axis = 1, inplace=True)"
      ]
    },
    {
      "cell_type": "code",
      "execution_count": 103,
      "metadata": {
        "colab": {
          "base_uri": "https://localhost:8080/"
        },
        "id": "c9-hDlyqqzwp",
        "outputId": "b2bb7705-5052-4b2f-9546-cf314cd14689"
      },
      "outputs": [
        {
          "output_type": "execute_result",
          "data": {
            "text/plain": [
              "MC               object\n",
              "SYMBOL           object\n",
              "Feature_type     object\n",
              "Feature          object\n",
              "BIOTYPE          object\n",
              "Amino_acids      object\n",
              "Codons           object\n",
              "STRAND          float64\n",
              "LoFtool         float64\n",
              "dtype: object"
            ]
          },
          "metadata": {},
          "execution_count": 103
        }
      ],
      "source": [
        "# Return the data type of each column in the DataFrame\n",
        "# count the number of missing values instead.\n",
        "# dataFile.isnull().sum() returns the number of missing values for each column\n",
        "\n",
        "df_data = pd.DataFrame(dataFile.isnull().sum().astype(int),\n",
        "                       columns=['Null'])\n",
        "nullList = list(df_data[df_data['Null'] != 0].index)\n",
        "dataFile[nullList].dtypes"
      ]
    },
    {
      "cell_type": "code",
      "execution_count": 104,
      "metadata": {
        "colab": {
          "base_uri": "https://localhost:8080/"
        },
        "id": "id_-7SFRwLmn",
        "outputId": "9ff2c032-4071-47e3-eb2b-c1d21419066e"
      },
      "outputs": [
        {
          "output_type": "execute_result",
          "data": {
            "text/plain": [
              "CHROM           0\n",
              "REF             0\n",
              "ALT             0\n",
              "AF_ESP          0\n",
              "CLNVC           0\n",
              "MC              0\n",
              "ORIGIN          0\n",
              "CLASS           0\n",
              "Allele          0\n",
              "Consequence     0\n",
              "IMPACT          0\n",
              "SYMBOL          0\n",
              "Feature_type    0\n",
              "Feature         0\n",
              "BIOTYPE         0\n",
              "Amino_acids     0\n",
              "Codons          0\n",
              "STRAND          0\n",
              "LoFtool         0\n",
              "dtype: int64"
            ]
          },
          "metadata": {},
          "execution_count": 104
        }
      ],
      "source": [
        "# Feature Transformation\n",
        "# Replace nan with most frequent value in these columns\n",
        "# Columns: MC, SYMBOL, Feature_type, Feature, BIOTYPE, Amino_acids, Codons, STRAND\n",
        "\n",
        "for x in [\n",
        "    'MC',\n",
        "    'SYMBOL',\n",
        "    'Feature_type',\n",
        "    'Feature',\n",
        "    'BIOTYPE',\n",
        "    'STRAND',\n",
        "    'Amino_acids',\n",
        "    'Codons',\n",
        "    ]:\n",
        "    dataFile[x].fillna(dataFile[x].mode()[0], inplace=True)\n",
        "\n",
        "# Replace the nan value in LoFtool column with mean\n",
        "\n",
        "dataFile['LoFtool'].fillna(dataFile['LoFtool'].mean(), inplace=True)\n",
        "\n",
        "# check NULL values in a data frame\n",
        "\n",
        "dataFile.isnull().sum()"
      ]
    },
    {
      "cell_type": "code",
      "execution_count": 105,
      "metadata": {
        "id": "yHHdOjZJ0sOA"
      },
      "outputs": [],
      "source": [
        "# Look at the number of unique values each variable takes, and then create\n",
        "# and then create list variables for numeric, binary, categorical, and ordinal variables.\n",
        "\n",
        "dt = pd.DataFrame([[str(i), dataFile[i].dtypes == 'object'] for i in\n",
        "                  dataFile.columns], columns=['Variable', 'Object Type'\n",
        "                  ]).set_index('Variable')\n",
        "columns_object_type = list(dt[dt['Object Type'] == True].index)"
      ]
    },
    {
      "cell_type": "code",
      "execution_count": 106,
      "metadata": {
        "colab": {
          "base_uri": "https://localhost:8080/",
          "height": 520
        },
        "id": "vIdJuPNC1mCL",
        "outputId": "3b9411f3-26fd-4a26-cadc-5e307e78767a"
      },
      "outputs": [
        {
          "output_type": "execute_result",
          "data": {
            "text/plain": [
              "              Unique Values\n",
              "Variable                   \n",
              "CHROM                    38\n",
              "REF                     866\n",
              "ALT                     458\n",
              "CLNVC                     7\n",
              "MC                       90\n",
              "Allele                  374\n",
              "Consequence              48\n",
              "IMPACT                    4\n",
              "SYMBOL                 2328\n",
              "Feature_type              2\n",
              "Feature                2369\n",
              "BIOTYPE                   2\n",
              "Amino_acids            1262\n",
              "Codons                 2220"
            ],
            "text/html": [
              "\n",
              "  <div id=\"df-cb4a18df-aead-40c5-9a9c-fb35744b3997\">\n",
              "    <div class=\"colab-df-container\">\n",
              "      <div>\n",
              "<style scoped>\n",
              "    .dataframe tbody tr th:only-of-type {\n",
              "        vertical-align: middle;\n",
              "    }\n",
              "\n",
              "    .dataframe tbody tr th {\n",
              "        vertical-align: top;\n",
              "    }\n",
              "\n",
              "    .dataframe thead th {\n",
              "        text-align: right;\n",
              "    }\n",
              "</style>\n",
              "<table border=\"1\" class=\"dataframe\">\n",
              "  <thead>\n",
              "    <tr style=\"text-align: right;\">\n",
              "      <th></th>\n",
              "      <th>Unique Values</th>\n",
              "    </tr>\n",
              "    <tr>\n",
              "      <th>Variable</th>\n",
              "      <th></th>\n",
              "    </tr>\n",
              "  </thead>\n",
              "  <tbody>\n",
              "    <tr>\n",
              "      <th>CHROM</th>\n",
              "      <td>38</td>\n",
              "    </tr>\n",
              "    <tr>\n",
              "      <th>REF</th>\n",
              "      <td>866</td>\n",
              "    </tr>\n",
              "    <tr>\n",
              "      <th>ALT</th>\n",
              "      <td>458</td>\n",
              "    </tr>\n",
              "    <tr>\n",
              "      <th>CLNVC</th>\n",
              "      <td>7</td>\n",
              "    </tr>\n",
              "    <tr>\n",
              "      <th>MC</th>\n",
              "      <td>90</td>\n",
              "    </tr>\n",
              "    <tr>\n",
              "      <th>Allele</th>\n",
              "      <td>374</td>\n",
              "    </tr>\n",
              "    <tr>\n",
              "      <th>Consequence</th>\n",
              "      <td>48</td>\n",
              "    </tr>\n",
              "    <tr>\n",
              "      <th>IMPACT</th>\n",
              "      <td>4</td>\n",
              "    </tr>\n",
              "    <tr>\n",
              "      <th>SYMBOL</th>\n",
              "      <td>2328</td>\n",
              "    </tr>\n",
              "    <tr>\n",
              "      <th>Feature_type</th>\n",
              "      <td>2</td>\n",
              "    </tr>\n",
              "    <tr>\n",
              "      <th>Feature</th>\n",
              "      <td>2369</td>\n",
              "    </tr>\n",
              "    <tr>\n",
              "      <th>BIOTYPE</th>\n",
              "      <td>2</td>\n",
              "    </tr>\n",
              "    <tr>\n",
              "      <th>Amino_acids</th>\n",
              "      <td>1262</td>\n",
              "    </tr>\n",
              "    <tr>\n",
              "      <th>Codons</th>\n",
              "      <td>2220</td>\n",
              "    </tr>\n",
              "  </tbody>\n",
              "</table>\n",
              "</div>\n",
              "      <button class=\"colab-df-convert\" onclick=\"convertToInteractive('df-cb4a18df-aead-40c5-9a9c-fb35744b3997')\"\n",
              "              title=\"Convert this dataframe to an interactive table.\"\n",
              "              style=\"display:none;\">\n",
              "        \n",
              "  <svg xmlns=\"http://www.w3.org/2000/svg\" height=\"24px\"viewBox=\"0 0 24 24\"\n",
              "       width=\"24px\">\n",
              "    <path d=\"M0 0h24v24H0V0z\" fill=\"none\"/>\n",
              "    <path d=\"M18.56 5.44l.94 2.06.94-2.06 2.06-.94-2.06-.94-.94-2.06-.94 2.06-2.06.94zm-11 1L8.5 8.5l.94-2.06 2.06-.94-2.06-.94L8.5 2.5l-.94 2.06-2.06.94zm10 10l.94 2.06.94-2.06 2.06-.94-2.06-.94-.94-2.06-.94 2.06-2.06.94z\"/><path d=\"M17.41 7.96l-1.37-1.37c-.4-.4-.92-.59-1.43-.59-.52 0-1.04.2-1.43.59L10.3 9.45l-7.72 7.72c-.78.78-.78 2.05 0 2.83L4 21.41c.39.39.9.59 1.41.59.51 0 1.02-.2 1.41-.59l7.78-7.78 2.81-2.81c.8-.78.8-2.07 0-2.86zM5.41 20L4 18.59l7.72-7.72 1.47 1.35L5.41 20z\"/>\n",
              "  </svg>\n",
              "      </button>\n",
              "      \n",
              "  <style>\n",
              "    .colab-df-container {\n",
              "      display:flex;\n",
              "      flex-wrap:wrap;\n",
              "      gap: 12px;\n",
              "    }\n",
              "\n",
              "    .colab-df-convert {\n",
              "      background-color: #E8F0FE;\n",
              "      border: none;\n",
              "      border-radius: 50%;\n",
              "      cursor: pointer;\n",
              "      display: none;\n",
              "      fill: #1967D2;\n",
              "      height: 32px;\n",
              "      padding: 0 0 0 0;\n",
              "      width: 32px;\n",
              "    }\n",
              "\n",
              "    .colab-df-convert:hover {\n",
              "      background-color: #E2EBFA;\n",
              "      box-shadow: 0px 1px 2px rgba(60, 64, 67, 0.3), 0px 1px 3px 1px rgba(60, 64, 67, 0.15);\n",
              "      fill: #174EA6;\n",
              "    }\n",
              "\n",
              "    [theme=dark] .colab-df-convert {\n",
              "      background-color: #3B4455;\n",
              "      fill: #D2E3FC;\n",
              "    }\n",
              "\n",
              "    [theme=dark] .colab-df-convert:hover {\n",
              "      background-color: #434B5C;\n",
              "      box-shadow: 0px 1px 3px 1px rgba(0, 0, 0, 0.15);\n",
              "      filter: drop-shadow(0px 1px 2px rgba(0, 0, 0, 0.3));\n",
              "      fill: #FFFFFF;\n",
              "    }\n",
              "  </style>\n",
              "\n",
              "      <script>\n",
              "        const buttonEl =\n",
              "          document.querySelector('#df-cb4a18df-aead-40c5-9a9c-fb35744b3997 button.colab-df-convert');\n",
              "        buttonEl.style.display =\n",
              "          google.colab.kernel.accessAllowed ? 'block' : 'none';\n",
              "\n",
              "        async function convertToInteractive(key) {\n",
              "          const element = document.querySelector('#df-cb4a18df-aead-40c5-9a9c-fb35744b3997');\n",
              "          const dataTable =\n",
              "            await google.colab.kernel.invokeFunction('convertToInteractive',\n",
              "                                                     [key], {});\n",
              "          if (!dataTable) return;\n",
              "\n",
              "          const docLinkHtml = 'Like what you see? Visit the ' +\n",
              "            '<a target=\"_blank\" href=https://colab.research.google.com/notebooks/data_table.ipynb>data table notebook</a>'\n",
              "            + ' to learn more about interactive tables.';\n",
              "          element.innerHTML = '';\n",
              "          dataTable['output_type'] = 'display_data';\n",
              "          await google.colab.output.renderOutput(dataTable, element);\n",
              "          const docLink = document.createElement('div');\n",
              "          docLink.innerHTML = docLinkHtml;\n",
              "          element.appendChild(docLink);\n",
              "        }\n",
              "      </script>\n",
              "    </div>\n",
              "  </div>\n",
              "  "
            ]
          },
          "metadata": {},
          "execution_count": 106
        }
      ],
      "source": [
        "# Unique value on each column in dataframe\n",
        "\n",
        "df_data = dataFile[columns_object_type]\n",
        "df_unique_values = pd.DataFrame([[i, len(df_data[i].unique())] for i in\n",
        "                                df_data.columns], columns=['Variable',\n",
        "                                'Unique Values']).set_index('Variable')\n",
        "df_unique_values"
      ]
    },
    {
      "cell_type": "code",
      "execution_count": 107,
      "metadata": {
        "colab": {
          "base_uri": "https://localhost:8080/"
        },
        "id": "4z3tq8VN3Oi8",
        "outputId": "9f370010-c787-481a-ec74-9a9fdf30268a"
      },
      "outputs": [
        {
          "output_type": "execute_result",
          "data": {
            "text/plain": [
              "['Feature_type', 'BIOTYPE']"
            ]
          },
          "metadata": {},
          "execution_count": 107
        }
      ],
      "source": [
        "# Check which variables are binary\n",
        "\n",
        "variables_bin = list(df_unique_values[df_unique_values['Unique Values']\n",
        "                     == 2].index)\n",
        "variables_bin"
      ]
    },
    {
      "cell_type": "code",
      "execution_count": 108,
      "metadata": {
        "colab": {
          "base_uri": "https://localhost:8080/"
        },
        "id": "0BnoCupg4mJS",
        "outputId": "b3f3d38d-994d-4fc7-df4d-ac49dac94694"
      },
      "outputs": [
        {
          "output_type": "execute_result",
          "data": {
            "text/plain": [
              "['CHROM',\n",
              " 'REF',\n",
              " 'ALT',\n",
              " 'CLNVC',\n",
              " 'MC',\n",
              " 'Allele',\n",
              " 'Consequence',\n",
              " 'IMPACT',\n",
              " 'SYMBOL',\n",
              " 'Feature',\n",
              " 'Amino_acids',\n",
              " 'Codons']"
            ]
          },
          "metadata": {},
          "execution_count": 108
        }
      ],
      "source": [
        "# Check which variables are categorical\n",
        "\n",
        "variables_categorical = list(df_unique_values[df_unique_values['Unique Values']\n",
        "                     > 2].index)\n",
        "variables_categorical"
      ]
    },
    {
      "cell_type": "code",
      "execution_count": 109,
      "metadata": {
        "colab": {
          "base_uri": "https://localhost:8080/"
        },
        "id": "3qrzAsU24Pqm",
        "outputId": "f72728b6-3056-4198-8af7-0d5a319ec5c6"
      },
      "outputs": [
        {
          "output_type": "execute_result",
          "data": {
            "text/plain": [
              "CHROM          object\n",
              "REF            object\n",
              "ALT            object\n",
              "CLNVC          object\n",
              "MC             object\n",
              "Allele         object\n",
              "Consequence    object\n",
              "IMPACT         object\n",
              "SYMBOL         object\n",
              "Feature        object\n",
              "Amino_acids    object\n",
              "Codons         object\n",
              "dtype: object"
            ]
          },
          "metadata": {},
          "execution_count": 109
        }
      ],
      "source": [
        "# Apply function with lambda along the row\n",
        "\n",
        "for col in variables_categorical:\n",
        "    dataFile[col] = dataFile[col].apply(lambda x: str(x))\n",
        "\n",
        "dataFile[variables_categorical].dtypes"
      ]
    },
    {
      "cell_type": "code",
      "execution_count": 110,
      "metadata": {
        "colab": {
          "base_uri": "https://localhost:8080/"
        },
        "id": "CPw3hcCs65Sj",
        "outputId": "6c8b4778-07c7-4f4b-bf75-be2fcc45b246"
      },
      "outputs": [
        {
          "output_type": "execute_result",
          "data": {
            "text/plain": [
              "ORIGIN       int64\n",
              "AF_ESP     float64\n",
              "STRAND     float64\n",
              "CLASS        int64\n",
              "LoFtool    float64\n",
              "dtype: object"
            ]
          },
          "metadata": {},
          "execution_count": 110
        }
      ],
      "source": [
        "# numeric\n",
        "\n",
        "variables_numeric = list(set(dataFile.columns)\n",
        "                         - set(variables_categorical)\n",
        "                         - set(variables_bin))\n",
        "dataFile[variables_numeric].dtypes"
      ]
    },
    {
      "cell_type": "code",
      "execution_count": 111,
      "metadata": {
        "colab": {
          "base_uri": "https://localhost:8080/",
          "height": 206
        },
        "id": "6ku6eQDY8T7y",
        "outputId": "baa31dc5-8463-4559-e71b-92bce3b3cbca"
      },
      "outputs": [
        {
          "output_type": "execute_result",
          "data": {
            "text/plain": [
              "       CHROM  REF  ALT  AF_ESP  CLNVC  MC  ORIGIN  CLASS  Allele  Consequence  \\\n",
              "5100       8  437    0  0.0001      6  19       1      0       1           17   \n",
              "29662      8  644  106  0.0000      6  89       1      0      88           46   \n",
              "11029      1    0  335  0.0000      6  61       1      1     296            1   \n",
              "33389      9  184    0  0.0000      0  19      33      0       0           10   \n",
              "61684     21  644  106  0.0000      6  89       1      0      88           46   \n",
              "\n",
              "       IMPACT  SYMBOL  Feature_type  Feature  BIOTYPE  Amino_acids  Codons  \\\n",
              "5100        2    1872             1       98        1          780     338   \n",
              "29662       1    1404             1     2104        1          577    1447   \n",
              "11029       3    1632             1     1247        1           78    1163   \n",
              "33389       2    1571             1     1552        1          288    1636   \n",
              "61684       1     719             1      624        1          968    2084   \n",
              "\n",
              "       STRAND   LoFtool  \n",
              "5100     -1.0  0.137000  \n",
              "29662     1.0  0.116000  \n",
              "11029    -1.0  0.761000  \n",
              "33389    -1.0  0.345058  \n",
              "61684    -1.0  0.951000  "
            ],
            "text/html": [
              "\n",
              "  <div id=\"df-d388288c-c255-4fcf-b7b7-ad17f71ca00e\">\n",
              "    <div class=\"colab-df-container\">\n",
              "      <div>\n",
              "<style scoped>\n",
              "    .dataframe tbody tr th:only-of-type {\n",
              "        vertical-align: middle;\n",
              "    }\n",
              "\n",
              "    .dataframe tbody tr th {\n",
              "        vertical-align: top;\n",
              "    }\n",
              "\n",
              "    .dataframe thead th {\n",
              "        text-align: right;\n",
              "    }\n",
              "</style>\n",
              "<table border=\"1\" class=\"dataframe\">\n",
              "  <thead>\n",
              "    <tr style=\"text-align: right;\">\n",
              "      <th></th>\n",
              "      <th>CHROM</th>\n",
              "      <th>REF</th>\n",
              "      <th>ALT</th>\n",
              "      <th>AF_ESP</th>\n",
              "      <th>CLNVC</th>\n",
              "      <th>MC</th>\n",
              "      <th>ORIGIN</th>\n",
              "      <th>CLASS</th>\n",
              "      <th>Allele</th>\n",
              "      <th>Consequence</th>\n",
              "      <th>IMPACT</th>\n",
              "      <th>SYMBOL</th>\n",
              "      <th>Feature_type</th>\n",
              "      <th>Feature</th>\n",
              "      <th>BIOTYPE</th>\n",
              "      <th>Amino_acids</th>\n",
              "      <th>Codons</th>\n",
              "      <th>STRAND</th>\n",
              "      <th>LoFtool</th>\n",
              "    </tr>\n",
              "  </thead>\n",
              "  <tbody>\n",
              "    <tr>\n",
              "      <th>5100</th>\n",
              "      <td>8</td>\n",
              "      <td>437</td>\n",
              "      <td>0</td>\n",
              "      <td>0.0001</td>\n",
              "      <td>6</td>\n",
              "      <td>19</td>\n",
              "      <td>1</td>\n",
              "      <td>0</td>\n",
              "      <td>1</td>\n",
              "      <td>17</td>\n",
              "      <td>2</td>\n",
              "      <td>1872</td>\n",
              "      <td>1</td>\n",
              "      <td>98</td>\n",
              "      <td>1</td>\n",
              "      <td>780</td>\n",
              "      <td>338</td>\n",
              "      <td>-1.0</td>\n",
              "      <td>0.137000</td>\n",
              "    </tr>\n",
              "    <tr>\n",
              "      <th>29662</th>\n",
              "      <td>8</td>\n",
              "      <td>644</td>\n",
              "      <td>106</td>\n",
              "      <td>0.0000</td>\n",
              "      <td>6</td>\n",
              "      <td>89</td>\n",
              "      <td>1</td>\n",
              "      <td>0</td>\n",
              "      <td>88</td>\n",
              "      <td>46</td>\n",
              "      <td>1</td>\n",
              "      <td>1404</td>\n",
              "      <td>1</td>\n",
              "      <td>2104</td>\n",
              "      <td>1</td>\n",
              "      <td>577</td>\n",
              "      <td>1447</td>\n",
              "      <td>1.0</td>\n",
              "      <td>0.116000</td>\n",
              "    </tr>\n",
              "    <tr>\n",
              "      <th>11029</th>\n",
              "      <td>1</td>\n",
              "      <td>0</td>\n",
              "      <td>335</td>\n",
              "      <td>0.0000</td>\n",
              "      <td>6</td>\n",
              "      <td>61</td>\n",
              "      <td>1</td>\n",
              "      <td>1</td>\n",
              "      <td>296</td>\n",
              "      <td>1</td>\n",
              "      <td>3</td>\n",
              "      <td>1632</td>\n",
              "      <td>1</td>\n",
              "      <td>1247</td>\n",
              "      <td>1</td>\n",
              "      <td>78</td>\n",
              "      <td>1163</td>\n",
              "      <td>-1.0</td>\n",
              "      <td>0.761000</td>\n",
              "    </tr>\n",
              "    <tr>\n",
              "      <th>33389</th>\n",
              "      <td>9</td>\n",
              "      <td>184</td>\n",
              "      <td>0</td>\n",
              "      <td>0.0000</td>\n",
              "      <td>0</td>\n",
              "      <td>19</td>\n",
              "      <td>33</td>\n",
              "      <td>0</td>\n",
              "      <td>0</td>\n",
              "      <td>10</td>\n",
              "      <td>2</td>\n",
              "      <td>1571</td>\n",
              "      <td>1</td>\n",
              "      <td>1552</td>\n",
              "      <td>1</td>\n",
              "      <td>288</td>\n",
              "      <td>1636</td>\n",
              "      <td>-1.0</td>\n",
              "      <td>0.345058</td>\n",
              "    </tr>\n",
              "    <tr>\n",
              "      <th>61684</th>\n",
              "      <td>21</td>\n",
              "      <td>644</td>\n",
              "      <td>106</td>\n",
              "      <td>0.0000</td>\n",
              "      <td>6</td>\n",
              "      <td>89</td>\n",
              "      <td>1</td>\n",
              "      <td>0</td>\n",
              "      <td>88</td>\n",
              "      <td>46</td>\n",
              "      <td>1</td>\n",
              "      <td>719</td>\n",
              "      <td>1</td>\n",
              "      <td>624</td>\n",
              "      <td>1</td>\n",
              "      <td>968</td>\n",
              "      <td>2084</td>\n",
              "      <td>-1.0</td>\n",
              "      <td>0.951000</td>\n",
              "    </tr>\n",
              "  </tbody>\n",
              "</table>\n",
              "</div>\n",
              "      <button class=\"colab-df-convert\" onclick=\"convertToInteractive('df-d388288c-c255-4fcf-b7b7-ad17f71ca00e')\"\n",
              "              title=\"Convert this dataframe to an interactive table.\"\n",
              "              style=\"display:none;\">\n",
              "        \n",
              "  <svg xmlns=\"http://www.w3.org/2000/svg\" height=\"24px\"viewBox=\"0 0 24 24\"\n",
              "       width=\"24px\">\n",
              "    <path d=\"M0 0h24v24H0V0z\" fill=\"none\"/>\n",
              "    <path d=\"M18.56 5.44l.94 2.06.94-2.06 2.06-.94-2.06-.94-.94-2.06-.94 2.06-2.06.94zm-11 1L8.5 8.5l.94-2.06 2.06-.94-2.06-.94L8.5 2.5l-.94 2.06-2.06.94zm10 10l.94 2.06.94-2.06 2.06-.94-2.06-.94-.94-2.06-.94 2.06-2.06.94z\"/><path d=\"M17.41 7.96l-1.37-1.37c-.4-.4-.92-.59-1.43-.59-.52 0-1.04.2-1.43.59L10.3 9.45l-7.72 7.72c-.78.78-.78 2.05 0 2.83L4 21.41c.39.39.9.59 1.41.59.51 0 1.02-.2 1.41-.59l7.78-7.78 2.81-2.81c.8-.78.8-2.07 0-2.86zM5.41 20L4 18.59l7.72-7.72 1.47 1.35L5.41 20z\"/>\n",
              "  </svg>\n",
              "      </button>\n",
              "      \n",
              "  <style>\n",
              "    .colab-df-container {\n",
              "      display:flex;\n",
              "      flex-wrap:wrap;\n",
              "      gap: 12px;\n",
              "    }\n",
              "\n",
              "    .colab-df-convert {\n",
              "      background-color: #E8F0FE;\n",
              "      border: none;\n",
              "      border-radius: 50%;\n",
              "      cursor: pointer;\n",
              "      display: none;\n",
              "      fill: #1967D2;\n",
              "      height: 32px;\n",
              "      padding: 0 0 0 0;\n",
              "      width: 32px;\n",
              "    }\n",
              "\n",
              "    .colab-df-convert:hover {\n",
              "      background-color: #E2EBFA;\n",
              "      box-shadow: 0px 1px 2px rgba(60, 64, 67, 0.3), 0px 1px 3px 1px rgba(60, 64, 67, 0.15);\n",
              "      fill: #174EA6;\n",
              "    }\n",
              "\n",
              "    [theme=dark] .colab-df-convert {\n",
              "      background-color: #3B4455;\n",
              "      fill: #D2E3FC;\n",
              "    }\n",
              "\n",
              "    [theme=dark] .colab-df-convert:hover {\n",
              "      background-color: #434B5C;\n",
              "      box-shadow: 0px 1px 3px 1px rgba(0, 0, 0, 0.15);\n",
              "      filter: drop-shadow(0px 1px 2px rgba(0, 0, 0, 0.3));\n",
              "      fill: #FFFFFF;\n",
              "    }\n",
              "  </style>\n",
              "\n",
              "      <script>\n",
              "        const buttonEl =\n",
              "          document.querySelector('#df-d388288c-c255-4fcf-b7b7-ad17f71ca00e button.colab-df-convert');\n",
              "        buttonEl.style.display =\n",
              "          google.colab.kernel.accessAllowed ? 'block' : 'none';\n",
              "\n",
              "        async function convertToInteractive(key) {\n",
              "          const element = document.querySelector('#df-d388288c-c255-4fcf-b7b7-ad17f71ca00e');\n",
              "          const dataTable =\n",
              "            await google.colab.kernel.invokeFunction('convertToInteractive',\n",
              "                                                     [key], {});\n",
              "          if (!dataTable) return;\n",
              "\n",
              "          const docLinkHtml = 'Like what you see? Visit the ' +\n",
              "            '<a target=\"_blank\" href=https://colab.research.google.com/notebooks/data_table.ipynb>data table notebook</a>'\n",
              "            + ' to learn more about interactive tables.';\n",
              "          element.innerHTML = '';\n",
              "          dataTable['output_type'] = 'display_data';\n",
              "          await google.colab.output.renderOutput(dataTable, element);\n",
              "          const docLink = document.createElement('div');\n",
              "          docLink.innerHTML = docLinkHtml;\n",
              "          element.appendChild(docLink);\n",
              "        }\n",
              "      </script>\n",
              "    </div>\n",
              "  </div>\n",
              "  "
            ]
          },
          "metadata": {},
          "execution_count": 111
        }
      ],
      "source": [
        "# LabelBinarizer makes this process easy with the transform method.\n",
        "# Accepts Categorical data as input and returns an Numpy array.\n",
        "# Encode target labels with value between 0 and n_classes-1.\n",
        "# To encode target values, i.e. y , and not the input X\n",
        "\n",
        "(lb, le) = (LabelBinarizer(), LabelEncoder())\n",
        "\n",
        "# Encode target labels ordinary variables\n",
        "\n",
        "for col in variables_categorical:\n",
        "    dataFile[col] = le.fit_transform(dataFile[col])\n",
        "\n",
        "# Encode target labels ordinary variables encoding binary variables\n",
        "\n",
        "for col in variables_bin:\n",
        "    dataFile[col] = lb.fit_transform(dataFile[col])\n",
        "\n",
        "dataFile.sample(5)"
      ]
    },
    {
      "cell_type": "code",
      "execution_count": 112,
      "metadata": {
        "colab": {
          "base_uri": "https://localhost:8080/",
          "height": 885
        },
        "id": "hPzXZ09w--Qf",
        "outputId": "db235202-bb14-4ee2-ccbf-4c7b54a4d111"
      },
      "outputs": [
        {
          "output_type": "execute_result",
          "data": {
            "text/plain": [
              "<matplotlib.axes._subplots.AxesSubplot at 0x7f3761b1f2d0>"
            ]
          },
          "metadata": {},
          "execution_count": 112
        },
        {
          "output_type": "display_data",
          "data": {
            "text/plain": [
              "<Figure size 2160x1080 with 2 Axes>"
            ],
            "image/png": "[encoded data removed]"
          },
          "metadata": {
            "needs_background": "light"
          }
        }
      ],
      "source": [
        "# Display dataFrame as heatmap\n",
        "\n",
        "plt.figure(figsize=(30, 15))\n",
        "sns.heatmap(dataFile.corr(), annot=True, linewidths=.5,\n",
        "            cmap=plt.cm.cool)"
      ]
    },
    {
      "cell_type": "code",
      "execution_count": 113,
      "metadata": {
        "id": "38L-asJHBIIr"
      },
      "outputs": [],
      "source": [
        "# Drop the ALT and MC columns that are strongly correlated\n",
        "# Correlation for Allele with ALT and Consequence with MC are above 0.8\n",
        "\n",
        "dataFile.drop(['ALT', 'MC'], axis=1, inplace=True)\n",
        "variables_categorical.remove('ALT')\n",
        "variables_categorical.remove('MC')"
      ]
    },
    {
      "cell_type": "code",
      "execution_count": 114,
      "metadata": {
        "id": "QWru8yuMD39B"
      },
      "outputs": [],
      "source": [
        "# Transform features by scaling each feature to a given range.\n",
        "# The default range for the feature returned by MinMaxScaler is 0 to 1.\n",
        "\n",
        "mm = MinMaxScaler()\n",
        "for column in [variables_categorical + variables_numeric]:\n",
        "    dataFile[column] = mm.fit_transform(dataFile[column])"
      ]
    },
    {
      "cell_type": "code",
      "source": [
        "# counts = dataFile.nunique()\n",
        "# counts\n",
        "\n",
        "print(dataFile['CLASS'].value_counts()[0.])\n",
        "print(dataFile['CLASS'].value_counts()[1.])"
      ],
      "metadata": {
        "id": "D796u6am6M8d",
        "outputId": "6151eb6e-3540-45c6-ca15-a87ac92cd3b2",
        "colab": {
          "base_uri": "https://localhost:8080/"
        }
      },
      "execution_count": 115,
      "outputs": [
        {
          "output_type": "stream",
          "name": "stdout",
          "text": [
            "48754\n",
            "16434\n"
          ]
        }
      ]
    },
    {
      "cell_type": "code",
      "execution_count": 116,
      "metadata": {
        "id": "RjMrwS9bFIPD"
      },
      "outputs": [],
      "source": [
        "feature_columns = list(dataFile.columns)\n",
        "\n",
        "feature_columns.remove('CLASS')\n"
      ]
    },
    {
      "cell_type": "code",
      "execution_count": 117,
      "metadata": {
        "id": "LCOq30WiFoFE"
      },
      "outputs": [],
      "source": [
        "# Split the data into test and train data sets\n",
        "# Using StratifiedShuffleSplit so proportion of distribution of\n",
        "# class labels is almost even between train and test dataset.\n",
        "\n",
        "# Using StratifiedShuffleSplit() to get the split indexes\n",
        "\n",
        "sss = StratifiedShuffleSplit(n_splits=1, test_size=0.3, random_state=42)\n",
        "\n",
        "(train_index, test_index) = next(sss.split(dataFile[feature_columns],\n",
        "                                 dataFile.CLASS))\n",
        "\n",
        "# Creating dataframes\n",
        "\n",
        "X_train = dataFile.loc[train_index, feature_columns]\n",
        "y_train = dataFile.loc[train_index, 'CLASS']\n",
        "\n",
        "X_test = dataFile.loc[test_index, feature_columns]\n",
        "y_test = dataFile.loc[test_index, 'CLASS']\n",
        "(len(X_test), len(X_train))\n",
        "\n",
        "from imblearn.under_sampling import RandomUnderSampler\n",
        "rus = RandomUnderSampler()\n",
        "X_resampled_under, y_resampled_under =rus.fit_resample(X_train, y_train)\n",
        "X_train = X_resampled_under\n",
        "y_train = y_resampled_under"
      ]
    },
    {
      "cell_type": "code",
      "execution_count": 118,
      "metadata": {
        "colab": {
          "base_uri": "https://localhost:8080/"
        },
        "id": "kCe2yLEJXfem",
        "outputId": "4a06078e-e9e9-431a-edde-e257e8c6c58b"
      },
      "outputs": [
        {
          "output_type": "execute_result",
          "data": {
            "text/plain": [
              "16"
            ]
          },
          "metadata": {},
          "execution_count": 118
        }
      ],
      "source": [
        "# Get feature columns count\n",
        "len(feature_columns)"
      ]
    },
    {
      "cell_type": "code",
      "execution_count": 119,
      "metadata": {
        "id": "jdkyFt5Ia4p8"
      },
      "outputs": [],
      "source": [
        "# Use MLP classifier to train a neural network using backprogation algorithm.\n",
        "# We will compare results from this algorithm with results from manually created backpropagation algorithm\n",
        "\n",
        "# Initialize MLP classifier (1 hidden layer)\n",
        "neuralNet = MLPClassifier(hidden_layer_sizes=(16), activation='relu', solver='sgd', learning_rate='adaptive', learning_rate_init=0.1, max_iter=100)"
      ]
    },
    {
      "cell_type": "code",
      "execution_count": 120,
      "metadata": {
        "id": "NCX7aixEFZSL"
      },
      "outputs": [],
      "source": [
        "neuralNet2 = MLPClassifier(hidden_layer_sizes=(16), activation='relu', solver='sgd', learning_rate='adaptive', learning_rate_init=0.01, max_iter=100)"
      ]
    },
    {
      "cell_type": "code",
      "execution_count": 121,
      "metadata": {
        "id": "WhTv7VsJFimg"
      },
      "outputs": [],
      "source": [
        "neuralNet3 = MLPClassifier(hidden_layer_sizes=(16), activation='tanh', solver='sgd', learning_rate='adaptive', learning_rate_init=0.1, max_iter=100)"
      ]
    },
    {
      "cell_type": "code",
      "execution_count": 122,
      "metadata": {
        "id": "a2E04wSsFtBN"
      },
      "outputs": [],
      "source": [
        "neuralNet4 = MLPClassifier(hidden_layer_sizes=(16), activation='tanh', solver='sgd', learning_rate='adaptive', learning_rate_init=0.01, max_iter=100)"
      ]
    },
    {
      "cell_type": "code",
      "execution_count": 123,
      "metadata": {
        "id": "kN_-YYT_F7RY"
      },
      "outputs": [],
      "source": [
        "neuralNet5 = MLPClassifier(hidden_layer_sizes=(16), activation='logistic', solver='sgd', learning_rate='adaptive', learning_rate_init=0.1, max_iter=100)"
      ]
    },
    {
      "cell_type": "code",
      "execution_count": 124,
      "metadata": {
        "id": "iWWHY8CZGGJo"
      },
      "outputs": [],
      "source": [
        "neuralNet6 = MLPClassifier(hidden_layer_sizes=(16), activation='logistic', solver='sgd', learning_rate='adaptive', learning_rate_init=0.01, max_iter=100)"
      ]
    },
    {
      "cell_type": "code",
      "execution_count": 125,
      "metadata": {
        "colab": {
          "base_uri": "https://localhost:8080/"
        },
        "id": "b5mYq-a7fgJS",
        "outputId": "f90873e2-6581-4659-a48e-bfa8d4c05307"
      },
      "outputs": [
        {
          "output_type": "execute_result",
          "data": {
            "text/plain": [
              "MLPClassifier(hidden_layer_sizes=16, learning_rate='adaptive',\n",
              "              learning_rate_init=0.1, max_iter=100, solver='sgd')"
            ]
          },
          "metadata": {},
          "execution_count": 125
        }
      ],
      "source": [
        "# Fit neural networks to the training data\n",
        "neuralNet.fit(X_train, y_train)"
      ]
    },
    {
      "cell_type": "code",
      "execution_count": 126,
      "metadata": {
        "colab": {
          "base_uri": "https://localhost:8080/"
        },
        "outputId": "35147bb0-df04-43ed-b33d-4df5cc2c4e82",
        "id": "jlMEOg8YHGdZ"
      },
      "outputs": [
        {
          "output_type": "execute_result",
          "data": {
            "text/plain": [
              "MLPClassifier(hidden_layer_sizes=16, learning_rate='adaptive',\n",
              "              learning_rate_init=0.01, max_iter=100, solver='sgd')"
            ]
          },
          "metadata": {},
          "execution_count": 126
        }
      ],
      "source": [
        "neuralNet2.fit(X_train, y_train)"
      ]
    },
    {
      "cell_type": "code",
      "execution_count": 127,
      "metadata": {
        "colab": {
          "base_uri": "https://localhost:8080/"
        },
        "outputId": "e495a9c4-8183-429f-a94d-3dfdb180c81c",
        "id": "w3JtBxdXHQ13"
      },
      "outputs": [
        {
          "output_type": "execute_result",
          "data": {
            "text/plain": [
              "MLPClassifier(activation='tanh', hidden_layer_sizes=16,\n",
              "              learning_rate='adaptive', learning_rate_init=0.1, max_iter=100,\n",
              "              solver='sgd')"
            ]
          },
          "metadata": {},
          "execution_count": 127
        }
      ],
      "source": [
        "neuralNet3.fit(X_train, y_train)"
      ]
    },
    {
      "cell_type": "code",
      "execution_count": 128,
      "metadata": {
        "colab": {
          "base_uri": "https://localhost:8080/"
        },
        "outputId": "1a883b43-8019-4fa0-f00d-f29e2b703926",
        "id": "d2JU8X33HiAR"
      },
      "outputs": [
        {
          "output_type": "execute_result",
          "data": {
            "text/plain": [
              "MLPClassifier(activation='tanh', hidden_layer_sizes=16,\n",
              "              learning_rate='adaptive', learning_rate_init=0.01, max_iter=100,\n",
              "              solver='sgd')"
            ]
          },
          "metadata": {},
          "execution_count": 128
        }
      ],
      "source": [
        "neuralNet4.fit(X_train, y_train)"
      ]
    },
    {
      "cell_type": "code",
      "execution_count": 129,
      "metadata": {
        "colab": {
          "base_uri": "https://localhost:8080/"
        },
        "outputId": "486a0008-e11a-4e93-a2da-c441b82b1d96",
        "id": "oPw35PyKHut5"
      },
      "outputs": [
        {
          "output_type": "execute_result",
          "data": {
            "text/plain": [
              "MLPClassifier(activation='logistic', hidden_layer_sizes=16,\n",
              "              learning_rate='adaptive', learning_rate_init=0.1, max_iter=100,\n",
              "              solver='sgd')"
            ]
          },
          "metadata": {},
          "execution_count": 129
        }
      ],
      "source": [
        "neuralNet5.fit(X_train, y_train)"
      ]
    },
    {
      "cell_type": "code",
      "execution_count": 130,
      "metadata": {
        "colab": {
          "base_uri": "https://localhost:8080/"
        },
        "outputId": "15867094-bca2-409a-a1fa-3235b4db511a",
        "id": "rdq-Cz0oH0la"
      },
      "outputs": [
        {
          "output_type": "execute_result",
          "data": {
            "text/plain": [
              "MLPClassifier(activation='logistic', hidden_layer_sizes=16,\n",
              "              learning_rate='adaptive', learning_rate_init=0.01, max_iter=100,\n",
              "              solver='sgd')"
            ]
          },
          "metadata": {},
          "execution_count": 130
        }
      ],
      "source": [
        "neuralNet6.fit(X_train, y_train)"
      ]
    },
    {
      "cell_type": "code",
      "execution_count": 131,
      "metadata": {
        "id": "xBIUAy8djDIP"
      },
      "outputs": [],
      "source": [
        "# Use trained neural networks to generate predictions\n",
        "predict_y_train = neuralNet.predict(X_train)\n",
        "predict_y_test = neuralNet.predict(X_test)"
      ]
    },
    {
      "cell_type": "code",
      "execution_count": 132,
      "metadata": {
        "id": "hkf1ZVR3IIBM"
      },
      "outputs": [],
      "source": [
        "predict_y_train2 = neuralNet2.predict(X_train)\n",
        "predict_y_test2 = neuralNet2.predict(X_test)"
      ]
    },
    {
      "cell_type": "code",
      "execution_count": 133,
      "metadata": {
        "id": "e-u-_E5vIPKA"
      },
      "outputs": [],
      "source": [
        "predict_y_train3 = neuralNet3.predict(X_train)\n",
        "predict_y_test3 = neuralNet3.predict(X_test)"
      ]
    },
    {
      "cell_type": "code",
      "execution_count": 134,
      "metadata": {
        "id": "7Q89j89bISW2"
      },
      "outputs": [],
      "source": [
        "predict_y_train4 = neuralNet4.predict(X_train)\n",
        "predict_y_test4 = neuralNet4.predict(X_test)"
      ]
    },
    {
      "cell_type": "code",
      "execution_count": 135,
      "metadata": {
        "id": "oYFY6j6yIcyg"
      },
      "outputs": [],
      "source": [
        "predict_y_train5 = neuralNet5.predict(X_train)\n",
        "predict_y_test5 = neuralNet5.predict(X_test)"
      ]
    },
    {
      "cell_type": "code",
      "execution_count": 136,
      "metadata": {
        "id": "4DIW3xPrIgOk"
      },
      "outputs": [],
      "source": [
        "predict_y_train6 = neuralNet6.predict(X_train)\n",
        "predict_y_test6 = neuralNet6.predict(X_test)"
      ]
    },
    {
      "cell_type": "code",
      "execution_count": 137,
      "metadata": {
        "id": "S-x-STa7VmCN"
      },
      "outputs": [],
      "source": [
        "from sklearn.metrics import confusion_matrix, ConfusionMatrixDisplay, classification_report"
      ]
    },
    {
      "cell_type": "code",
      "execution_count": 138,
      "metadata": {
        "colab": {
          "base_uri": "https://localhost:8080/",
          "height": 279
        },
        "id": "teeAoRG4RAFG",
        "outputId": "5e62b2b2-e07f-4c67-94be-a930fefe8866"
      },
      "outputs": [
        {
          "output_type": "display_data",
          "data": {
            "text/plain": [
              "<Figure size 432x288 with 2 Axes>"
            ],
            "image/png": "[encoded data removed]"
          },
          "metadata": {
            "needs_background": "light"
          }
        }
      ],
      "source": [
        "# Evaluation - Confusion Matrix Display - Training Data\n",
        "conMtrxTrain = confusion_matrix(y_train, predict_y_train, labels=neuralNet.classes_)\n",
        "conMtrxDisplayTrain = ConfusionMatrixDisplay(confusion_matrix=conMtrxTrain, display_labels=neuralNet.classes_)\n",
        "conMtrxDisplayTrain.plot()\n",
        "plt.show()"
      ]
    },
    {
      "cell_type": "code",
      "execution_count": 139,
      "metadata": {
        "colab": {
          "base_uri": "https://localhost:8080/",
          "height": 279
        },
        "outputId": "682074b7-a6d2-4c4c-f5f9-0d8660b6a4d0",
        "id": "tUz2-gjeIzne"
      },
      "outputs": [
        {
          "output_type": "display_data",
          "data": {
            "text/plain": [
              "<Figure size 432x288 with 2 Axes>"
            ],
            "image/png": "[encoded data removed]"
          },
          "metadata": {
            "needs_background": "light"
          }
        }
      ],
      "source": [
        "conMtrxTrain2 = confusion_matrix(y_train, predict_y_train2, labels=neuralNet2.classes_)\n",
        "conMtrxDisplayTrain2 = ConfusionMatrixDisplay(confusion_matrix=conMtrxTrain2, display_labels=neuralNet2.classes_)\n",
        "conMtrxDisplayTrain2.plot()\n",
        "plt.show()"
      ]
    },
    {
      "cell_type": "code",
      "execution_count": 140,
      "metadata": {
        "colab": {
          "base_uri": "https://localhost:8080/",
          "height": 279
        },
        "outputId": "401068a8-9eaf-4ef8-c6e9-24005d397cfb",
        "id": "Uzs4UfoyJDRb"
      },
      "outputs": [
        {
          "output_type": "display_data",
          "data": {
            "text/plain": [
              "<Figure size 432x288 with 2 Axes>"
            ],
            "image/png": "[encoded data removed]"
          },
          "metadata": {
            "needs_background": "light"
          }
        }
      ],
      "source": [
        "conMtrxTrain3 = confusion_matrix(y_train, predict_y_train3, labels=neuralNet3.classes_)\n",
        "conMtrxDisplayTrain3 = ConfusionMatrixDisplay(confusion_matrix=conMtrxTrain3, display_labels=neuralNet3.classes_)\n",
        "conMtrxDisplayTrain3.plot()\n",
        "plt.show()"
      ]
    },
    {
      "cell_type": "code",
      "execution_count": 141,
      "metadata": {
        "colab": {
          "base_uri": "https://localhost:8080/",
          "height": 279
        },
        "outputId": "3bc866a7-2ad3-4924-b69e-5d799d9314dc",
        "id": "zKuYC2DBJT7m"
      },
      "outputs": [
        {
          "output_type": "display_data",
          "data": {
            "text/plain": [
              "<Figure size 432x288 with 2 Axes>"
            ],
            "image/png": "[encoded data removed]"
          },
          "metadata": {
            "needs_background": "light"
          }
        }
      ],
      "source": [
        "conMtrxTrain4 = confusion_matrix(y_train, predict_y_train4, labels=neuralNet4.classes_)\n",
        "conMtrxDisplayTrain4 = ConfusionMatrixDisplay(confusion_matrix=conMtrxTrain4, display_labels=neuralNet4.classes_)\n",
        "conMtrxDisplayTrain4.plot()\n",
        "plt.show()"
      ]
    },
    {
      "cell_type": "code",
      "execution_count": 142,
      "metadata": {
        "colab": {
          "base_uri": "https://localhost:8080/",
          "height": 279
        },
        "outputId": "16a5d980-0e66-49bb-bd16-46f45e21bd87",
        "id": "yxNtvLIhJa74"
      },
      "outputs": [
        {
          "output_type": "display_data",
          "data": {
            "text/plain": [
              "<Figure size 432x288 with 2 Axes>"
            ],
            "image/png": "[encoded data removed]"
          },
          "metadata": {
            "needs_background": "light"
          }
        }
      ],
      "source": [
        "conMtrxTrain5 = confusion_matrix(y_train, predict_y_train5, labels=neuralNet5.classes_)\n",
        "conMtrxDisplayTrain5 = ConfusionMatrixDisplay(confusion_matrix=conMtrxTrain5, display_labels=neuralNet5.classes_)\n",
        "conMtrxDisplayTrain5.plot()\n",
        "plt.show()"
      ]
    },
    {
      "cell_type": "code",
      "execution_count": 143,
      "metadata": {
        "colab": {
          "base_uri": "https://localhost:8080/",
          "height": 279
        },
        "outputId": "0dffbd34-d56c-4cc5-da6f-a689246b0b00",
        "id": "7eVRK_G1JlyL"
      },
      "outputs": [
        {
          "output_type": "display_data",
          "data": {
            "text/plain": [
              "<Figure size 432x288 with 2 Axes>"
            ],
            "image/png": "[encoded data removed]"
          },
          "metadata": {
            "needs_background": "light"
          }
        }
      ],
      "source": [
        "conMtrxTrain6 = confusion_matrix(y_train, predict_y_train6, labels=neuralNet6.classes_)\n",
        "conMtrxDisplayTrain6 = ConfusionMatrixDisplay(confusion_matrix=conMtrxTrain6, display_labels=neuralNet6.classes_)\n",
        "conMtrxDisplayTrain6.plot()\n",
        "plt.show()"
      ]
    },
    {
      "cell_type": "code",
      "execution_count": 144,
      "metadata": {
        "colab": {
          "base_uri": "https://localhost:8080/",
          "height": 280
        },
        "id": "eG048zTWxzrN",
        "outputId": "38015d18-2822-4190-ce4b-7ae87747c1fc"
      },
      "outputs": [
        {
          "output_type": "display_data",
          "data": {
            "text/plain": [
              "<Figure size 432x288 with 2 Axes>"
            ],
            "image/png": "[encoded data removed]"
          },
          "metadata": {
            "needs_background": "light"
          }
        }
      ],
      "source": [
        "# Evaluation - Confusion Matrix Display - Test Data\n",
        "conMtrxTest = confusion_matrix(y_test, predict_y_test, labels=neuralNet.classes_)\n",
        "conMtrxDisplayTest = ConfusionMatrixDisplay(confusion_matrix=conMtrxTest, display_labels=neuralNet.classes_)\n",
        "conMtrxDisplayTest.plot()\n",
        "plt.show()"
      ]
    },
    {
      "cell_type": "code",
      "execution_count": 145,
      "metadata": {
        "colab": {
          "base_uri": "https://localhost:8080/",
          "height": 279
        },
        "outputId": "93f0d439-2535-4c26-d163-af703c666e94",
        "id": "GkXNdkcqJ1sH"
      },
      "outputs": [
        {
          "output_type": "display_data",
          "data": {
            "text/plain": [
              "<Figure size 432x288 with 2 Axes>"
            ],
            "image/png": "[encoded data removed]"
          },
          "metadata": {
            "needs_background": "light"
          }
        }
      ],
      "source": [
        "conMtrxTest2 = confusion_matrix(y_test, predict_y_test2, labels=neuralNet2.classes_)\n",
        "conMtrxDisplayTest2 = ConfusionMatrixDisplay(confusion_matrix=conMtrxTest2, display_labels=neuralNet2.classes_)\n",
        "conMtrxDisplayTest2.plot()\n",
        "plt.show()"
      ]
    },
    {
      "cell_type": "code",
      "execution_count": 146,
      "metadata": {
        "colab": {
          "base_uri": "https://localhost:8080/",
          "height": 279
        },
        "outputId": "78372b64-52fb-4d64-d57b-0ff738701448",
        "id": "_eQkfHX7KAPY"
      },
      "outputs": [
        {
          "output_type": "display_data",
          "data": {
            "text/plain": [
              "<Figure size 432x288 with 2 Axes>"
            ],
            "image/png": "[encoded data removed]"
          },
          "metadata": {
            "needs_background": "light"
          }
        }
      ],
      "source": [
        "conMtrxTest3 = confusion_matrix(y_test, predict_y_test3, labels=neuralNet3.classes_)\n",
        "conMtrxDisplayTest3 = ConfusionMatrixDisplay(confusion_matrix=conMtrxTest3, display_labels=neuralNet3.classes_)\n",
        "conMtrxDisplayTest3.plot()\n",
        "plt.show()"
      ]
    },
    {
      "cell_type": "code",
      "execution_count": 147,
      "metadata": {
        "colab": {
          "base_uri": "https://localhost:8080/",
          "height": 279
        },
        "outputId": "0a952111-41a3-426d-d567-c3bd0911695f",
        "id": "P2yaapqwKFMb"
      },
      "outputs": [
        {
          "output_type": "display_data",
          "data": {
            "text/plain": [
              "<Figure size 432x288 with 2 Axes>"
            ],
            "image/png": "[encoded data removed]"
          },
          "metadata": {
            "needs_background": "light"
          }
        }
      ],
      "source": [
        "conMtrxTest4 = confusion_matrix(y_test, predict_y_test4, labels=neuralNet4.classes_)\n",
        "conMtrxDisplayTest4 = ConfusionMatrixDisplay(confusion_matrix=conMtrxTest4, display_labels=neuralNet4.classes_)\n",
        "conMtrxDisplayTest4.plot()\n",
        "plt.show()"
      ]
    },
    {
      "cell_type": "code",
      "execution_count": 148,
      "metadata": {
        "colab": {
          "base_uri": "https://localhost:8080/",
          "height": 279
        },
        "outputId": "15e5af19-9bad-4ae9-b58c-deac31507155",
        "id": "jYIjk1kFKKuY"
      },
      "outputs": [
        {
          "output_type": "display_data",
          "data": {
            "text/plain": [
              "<Figure size 432x288 with 2 Axes>"
            ],
            "image/png": "[encoded data removed]"
          },
          "metadata": {
            "needs_background": "light"
          }
        }
      ],
      "source": [
        "conMtrxTest5 = confusion_matrix(y_test, predict_y_test5, labels=neuralNet5.classes_)\n",
        "conMtrxDisplayTest5 = ConfusionMatrixDisplay(confusion_matrix=conMtrxTest5, display_labels=neuralNet5.classes_)\n",
        "conMtrxDisplayTest5.plot()\n",
        "plt.show()"
      ]
    },
    {
      "cell_type": "code",
      "execution_count": 149,
      "metadata": {
        "colab": {
          "base_uri": "https://localhost:8080/",
          "height": 279
        },
        "outputId": "605b2434-0958-48fe-b1c3-3519fc30b386",
        "id": "6-2GgLUkKQN8"
      },
      "outputs": [
        {
          "output_type": "display_data",
          "data": {
            "text/plain": [
              "<Figure size 432x288 with 2 Axes>"
            ],
            "image/png": "[encoded data removed]"
          },
          "metadata": {
            "needs_background": "light"
          }
        }
      ],
      "source": [
        "conMtrxTest6 = confusion_matrix(y_test, predict_y_test6, labels=neuralNet6.classes_)\n",
        "conMtrxDisplayTest6 = ConfusionMatrixDisplay(confusion_matrix=conMtrxTest6, display_labels=neuralNet6.classes_)\n",
        "conMtrxDisplayTest6.plot()\n",
        "plt.show()"
      ]
    },
    {
      "cell_type": "code",
      "execution_count": 150,
      "metadata": {
        "colab": {
          "base_uri": "https://localhost:8080/"
        },
        "id": "IhFX7rkiRaRR",
        "outputId": "36437bb0-d88b-4146-b3e0-1a5c4020ac91"
      },
      "outputs": [
        {
          "output_type": "stream",
          "name": "stdout",
          "text": [
            "Training Accuracy 1 = 0.6068758692628651\n"
          ]
        }
      ],
      "source": [
        "# Evaluation - Training Accuracy\n",
        "\n",
        "# Get sum along diagonal of matrix (for total correct predictions)\n",
        "diagMtrxSumTrain = conMtrxTrain.trace()\n",
        "\n",
        "# Get sum of all matrix elements (for total predictions)\n",
        "totMtrxSumTrain = conMtrxTrain.sum()\n",
        "\n",
        "# Print accuracy\n",
        "accTrain = diagMtrxSumTrain / totMtrxSumTrain\n",
        "print('Training Accuracy 1 = ' + str(accTrain))\n"
      ]
    },
    {
      "cell_type": "code",
      "execution_count": 151,
      "metadata": {
        "colab": {
          "base_uri": "https://localhost:8080/"
        },
        "outputId": "7300875e-c7c1-4e1b-a7ca-242f64adb920",
        "id": "j1VnPEbaKgyS"
      },
      "outputs": [
        {
          "output_type": "stream",
          "name": "stdout",
          "text": [
            "Training Accuracy 2 = 0.5964012517385258\n"
          ]
        }
      ],
      "source": [
        "diagMtrxSumTrain2 = conMtrxTrain2.trace()\n",
        "totMtrxSumTrain2 = conMtrxTrain2.sum()\n",
        "accTrain2 = diagMtrxSumTrain2 / totMtrxSumTrain2\n",
        "print('Training Accuracy 2 = ' + str(accTrain2))"
      ]
    },
    {
      "cell_type": "code",
      "execution_count": 152,
      "metadata": {
        "colab": {
          "base_uri": "https://localhost:8080/"
        },
        "outputId": "ee830580-cf63-4a2e-bd7d-3c62f5cc28c2",
        "id": "stiOE0VHKvvB"
      },
      "outputs": [
        {
          "output_type": "stream",
          "name": "stdout",
          "text": [
            "Training Accuracy 3 = 0.6180024339360223\n"
          ]
        }
      ],
      "source": [
        "diagMtrxSumTrain3 = conMtrxTrain3.trace()\n",
        "totMtrxSumTrain3 = conMtrxTrain3.sum()\n",
        "accTrain3 = diagMtrxSumTrain3 / totMtrxSumTrain3\n",
        "print('Training Accuracy 3 = ' + str(accTrain3))"
      ]
    },
    {
      "cell_type": "code",
      "execution_count": 153,
      "metadata": {
        "colab": {
          "base_uri": "https://localhost:8080/"
        },
        "outputId": "5618a65c-ad49-4752-9c6b-fcb275a87be2",
        "id": "hLJMRxU6Ky-8"
      },
      "outputs": [
        {
          "output_type": "stream",
          "name": "stdout",
          "text": [
            "Training Accuracy 4 = 0.5948800417246175\n"
          ]
        }
      ],
      "source": [
        "diagMtrxSumTrain4 = conMtrxTrain4.trace()\n",
        "totMtrxSumTrain4 = conMtrxTrain4.sum()\n",
        "accTrain4 = diagMtrxSumTrain4 / totMtrxSumTrain4\n",
        "print('Training Accuracy 4 = ' + str(accTrain4))"
      ]
    },
    {
      "cell_type": "code",
      "execution_count": 154,
      "metadata": {
        "colab": {
          "base_uri": "https://localhost:8080/"
        },
        "outputId": "623c3b8d-70bd-4669-9d77-462cf59379e6",
        "id": "qOrEZoXPLADQ"
      },
      "outputs": [
        {
          "output_type": "stream",
          "name": "stdout",
          "text": [
            "Training Accuracy 5 = 0.5905771905424201\n"
          ]
        }
      ],
      "source": [
        "diagMtrxSumTrain5 = conMtrxTrain5.trace()\n",
        "totMtrxSumTrain5 = conMtrxTrain5.sum()\n",
        "accTrain5 = diagMtrxSumTrain5 / totMtrxSumTrain5\n",
        "print('Training Accuracy 5 = ' + str(accTrain5))"
      ]
    },
    {
      "cell_type": "code",
      "execution_count": 155,
      "metadata": {
        "colab": {
          "base_uri": "https://localhost:8080/"
        },
        "outputId": "124a6a8b-3608-4800-c18c-2acf8c8e3866",
        "id": "LHRoaWVoLHRr"
      },
      "outputs": [
        {
          "output_type": "stream",
          "name": "stdout",
          "text": [
            "Training Accuracy 6 = 0.5662378303198887\n"
          ]
        }
      ],
      "source": [
        "diagMtrxSumTrain6 = conMtrxTrain6.trace()\n",
        "totMtrxSumTrain6 = conMtrxTrain6.sum()\n",
        "accTrain6 = diagMtrxSumTrain6 / totMtrxSumTrain6\n",
        "print('Training Accuracy 6 = ' + str(accTrain6))"
      ]
    },
    {
      "cell_type": "code",
      "execution_count": 156,
      "metadata": {
        "colab": {
          "base_uri": "https://localhost:8080/"
        },
        "id": "o-4yolH2kVJM",
        "outputId": "17b28d6b-c10a-4a2d-fd85-d1ea148739c5"
      },
      "outputs": [
        {
          "output_type": "stream",
          "name": "stdout",
          "text": [
            "Test Accuracy 1 = 0.45528455284552843\n"
          ]
        }
      ],
      "source": [
        "# Evaluation - Test Accuracy\n",
        "\n",
        "# Get sum along diagonal of matrix (for total correct predictions)\n",
        "diagMtrxSumTest = conMtrxTest.trace()\n",
        "\n",
        "# Get sum of all matrix elements (for total predictions)\n",
        "totMtrxSumTest = conMtrxTest.sum()\n",
        "\n",
        "# Print accuracy\n",
        "accTest = diagMtrxSumTest / totMtrxSumTest\n",
        "print('Test Accuracy 1 = ' + str(accTest))"
      ]
    },
    {
      "cell_type": "code",
      "execution_count": 157,
      "metadata": {
        "colab": {
          "base_uri": "https://localhost:8080/"
        },
        "outputId": "10c783cb-ff98-45be-9c46-301c3823ee6b",
        "id": "c_Jj28b8Lc3N"
      },
      "outputs": [
        {
          "output_type": "stream",
          "name": "stdout",
          "text": [
            "Test Accuracy 2 = 0.43779720816076084\n"
          ]
        }
      ],
      "source": [
        "diagMtrxSumTest2 = conMtrxTest2.trace()\n",
        "totMtrxSumTest2 = conMtrxTest2.sum()\n",
        "accTest2 = diagMtrxSumTest2 / totMtrxSumTest2\n",
        "print('Test Accuracy 2 = ' + str(accTest2))"
      ]
    },
    {
      "cell_type": "code",
      "execution_count": 158,
      "metadata": {
        "colab": {
          "base_uri": "https://localhost:8080/"
        },
        "outputId": "8a1f2e01-0910-4baf-abd5-7333ac3eb85f",
        "id": "T96VGN5KLvDC"
      },
      "outputs": [
        {
          "output_type": "stream",
          "name": "stdout",
          "text": [
            "Test Accuracy 3 = 0.5746791430178453\n"
          ]
        }
      ],
      "source": [
        "diagMtrxSumTest3 = conMtrxTest3.trace()\n",
        "totMtrxSumTest3 = conMtrxTest3.sum()\n",
        "accTest3 = diagMtrxSumTest3 / totMtrxSumTest3\n",
        "print('Test Accuracy 3 = ' + str(accTest3))"
      ]
    },
    {
      "cell_type": "code",
      "execution_count": 159,
      "metadata": {
        "colab": {
          "base_uri": "https://localhost:8080/"
        },
        "outputId": "8e8e13ac-015b-423a-e82a-990d2f2d749f",
        "id": "VCHFbk7zLwU9"
      },
      "outputs": [
        {
          "output_type": "stream",
          "name": "stdout",
          "text": [
            "Test Accuracy 4 = 0.46372142966712687\n"
          ]
        }
      ],
      "source": [
        "diagMtrxSumTest4 = conMtrxTest4.trace()\n",
        "totMtrxSumTest4 = conMtrxTest4.sum()\n",
        "accTest4 = diagMtrxSumTest4 / totMtrxSumTest4\n",
        "print('Test Accuracy 4 = ' + str(accTest4))"
      ]
    },
    {
      "cell_type": "code",
      "execution_count": 160,
      "metadata": {
        "colab": {
          "base_uri": "https://localhost:8080/"
        },
        "outputId": "8b673968-7df2-4ac7-dd9d-2ab58018ef9a",
        "id": "xemHpNLtL1jV"
      },
      "outputs": [
        {
          "output_type": "stream",
          "name": "stdout",
          "text": [
            "Test Accuracy 5 = 0.40701539090862604\n"
          ]
        }
      ],
      "source": [
        "diagMtrxSumTest5 = conMtrxTest5.trace()\n",
        "totMtrxSumTest5 = conMtrxTest5.sum()\n",
        "accTest5 = diagMtrxSumTest5 / totMtrxSumTest5\n",
        "print('Test Accuracy 5 = ' + str(accTest5))"
      ]
    },
    {
      "cell_type": "code",
      "execution_count": 161,
      "metadata": {
        "colab": {
          "base_uri": "https://localhost:8080/"
        },
        "outputId": "f9bcf749-e618-4fc1-873c-1fc56f97fb4c",
        "id": "GghxZnSFL61N"
      },
      "outputs": [
        {
          "output_type": "stream",
          "name": "stdout",
          "text": [
            "Test Accuracy 6 = 0.5164391266554175\n"
          ]
        }
      ],
      "source": [
        "diagMtrxSumTest6 = conMtrxTest6.trace()\n",
        "totMtrxSumTest6 = conMtrxTest6.sum()\n",
        "accTest6 = diagMtrxSumTest6 / totMtrxSumTest6\n",
        "print('Test Accuracy 6 = ' + str(accTest6))"
      ]
    },
    {
      "cell_type": "code",
      "execution_count": 162,
      "metadata": {
        "colab": {
          "base_uri": "https://localhost:8080/"
        },
        "id": "es3dVnlAVGS-",
        "outputId": "8d178f49-dbe3-48f9-c8c4-ae6bbb167051"
      },
      "outputs": [
        {
          "output_type": "stream",
          "name": "stdout",
          "text": [
            "Classification Report on Training Data 1\n",
            "              precision    recall  f1-score   support\n",
            "\n",
            "         0.0       0.77      0.30      0.44     11504\n",
            "         1.0       0.57      0.91      0.70     11504\n",
            "\n",
            "    accuracy                           0.61     23008\n",
            "   macro avg       0.67      0.61      0.57     23008\n",
            "weighted avg       0.67      0.61      0.57     23008\n",
            "\n",
            "Classification Report on Training Data 2\n",
            "              precision    recall  f1-score   support\n",
            "\n",
            "         0.0       0.76      0.28      0.41     11504\n",
            "         1.0       0.56      0.91      0.69     11504\n",
            "\n",
            "    accuracy                           0.60     23008\n",
            "   macro avg       0.66      0.60      0.55     23008\n",
            "weighted avg       0.66      0.60      0.55     23008\n",
            "\n",
            "Classification Report on Training Data 3\n",
            "              precision    recall  f1-score   support\n",
            "\n",
            "         0.0       0.64      0.54      0.59     11504\n",
            "         1.0       0.60      0.69      0.64     11504\n",
            "\n",
            "    accuracy                           0.62     23008\n",
            "   macro avg       0.62      0.62      0.62     23008\n",
            "weighted avg       0.62      0.62      0.62     23008\n",
            "\n",
            "Classification Report on Training Data 4\n",
            "              precision    recall  f1-score   support\n",
            "\n",
            "         0.0       0.70      0.33      0.45     11504\n",
            "         1.0       0.56      0.85      0.68     11504\n",
            "\n",
            "    accuracy                           0.59     23008\n",
            "   macro avg       0.63      0.59      0.57     23008\n",
            "weighted avg       0.63      0.59      0.57     23008\n",
            "\n",
            "Classification Report on Training Data 5\n",
            "              precision    recall  f1-score   support\n",
            "\n",
            "         0.0       0.84      0.22      0.35     11504\n",
            "         1.0       0.55      0.96      0.70     11504\n",
            "\n",
            "    accuracy                           0.59     23008\n",
            "   macro avg       0.70      0.59      0.53     23008\n",
            "weighted avg       0.70      0.59      0.53     23008\n",
            "\n",
            "Classification Report on Training Data 6\n",
            "              precision    recall  f1-score   support\n",
            "\n",
            "         0.0       0.58      0.48      0.53     11504\n",
            "         1.0       0.56      0.65      0.60     11504\n",
            "\n",
            "    accuracy                           0.57     23008\n",
            "   macro avg       0.57      0.57      0.56     23008\n",
            "weighted avg       0.57      0.57      0.56     23008\n",
            "\n"
          ]
        }
      ],
      "source": [
        "# Evaluation - Classification Report - Train Data\n",
        "print('Classification Report on Training Data 1')\n",
        "print(classification_report(y_train, predict_y_train))\n",
        "\n",
        "print('Classification Report on Training Data 2')\n",
        "print(classification_report(y_train, predict_y_train2))\n",
        "\n",
        "print('Classification Report on Training Data 3')\n",
        "print(classification_report(y_train, predict_y_train3))\n",
        "\n",
        "print('Classification Report on Training Data 4')\n",
        "print(classification_report(y_train, predict_y_train4))\n",
        "\n",
        "print('Classification Report on Training Data 5')\n",
        "print(classification_report(y_train, predict_y_train5))\n",
        "\n",
        "print('Classification Report on Training Data 6')\n",
        "print(classification_report(y_train, predict_y_train6))"
      ]
    },
    {
      "cell_type": "code",
      "execution_count": 163,
      "metadata": {
        "colab": {
          "base_uri": "https://localhost:8080/"
        },
        "id": "Dc4Py0deXkfx",
        "outputId": "637c8a12-bb3e-43dc-fe7b-589cc56b13d6"
      },
      "outputs": [
        {
          "output_type": "stream",
          "name": "stdout",
          "text": [
            "Classification Report on Test Data 1\n",
            "              precision    recall  f1-score   support\n",
            "\n",
            "         0.0       0.90      0.31      0.46     14627\n",
            "         1.0       0.30      0.90      0.45      4930\n",
            "\n",
            "    accuracy                           0.46     19557\n",
            "   macro avg       0.60      0.60      0.46     19557\n",
            "weighted avg       0.75      0.46      0.46     19557\n",
            "\n",
            "Classification Report on Test Data 2\n",
            "              precision    recall  f1-score   support\n",
            "\n",
            "         0.0       0.89      0.28      0.43     14627\n",
            "         1.0       0.30      0.90      0.45      4930\n",
            "\n",
            "    accuracy                           0.44     19557\n",
            "   macro avg       0.60      0.59      0.44     19557\n",
            "weighted avg       0.74      0.44      0.43     19557\n",
            "\n",
            "Classification Report on Test Data 3\n",
            "              precision    recall  f1-score   support\n",
            "\n",
            "         0.0       0.83      0.54      0.66     14627\n",
            "         1.0       0.33      0.67      0.44      4930\n",
            "\n",
            "    accuracy                           0.57     19557\n",
            "   macro avg       0.58      0.61      0.55     19557\n",
            "weighted avg       0.71      0.57      0.60     19557\n",
            "\n",
            "Classification Report on Test Data 4\n",
            "              precision    recall  f1-score   support\n",
            "\n",
            "         0.0       0.86      0.34      0.48     14627\n",
            "         1.0       0.30      0.84      0.44      4930\n",
            "\n",
            "    accuracy                           0.46     19557\n",
            "   macro avg       0.58      0.59      0.46     19557\n",
            "weighted avg       0.72      0.46      0.47     19557\n",
            "\n",
            "Classification Report on Test Data 5\n",
            "              precision    recall  f1-score   support\n",
            "\n",
            "         0.0       0.94      0.22      0.36     14627\n",
            "         1.0       0.29      0.96      0.45      4930\n",
            "\n",
            "    accuracy                           0.41     19557\n",
            "   macro avg       0.61      0.59      0.40     19557\n",
            "weighted avg       0.77      0.41      0.38     19557\n",
            "\n",
            "Classification Report on Test Data 6\n",
            "              precision    recall  f1-score   support\n",
            "\n",
            "         0.0       0.80      0.47      0.59     14627\n",
            "         1.0       0.29      0.64      0.40      4930\n",
            "\n",
            "    accuracy                           0.52     19557\n",
            "   macro avg       0.54      0.56      0.50     19557\n",
            "weighted avg       0.67      0.52      0.55     19557\n",
            "\n"
          ]
        }
      ],
      "source": [
        "# Evaluation - Classification Report - Test Data\n",
        "print('Classification Report on Test Data 1')\n",
        "print(classification_report(y_test, predict_y_test))\n",
        "\n",
        "print('Classification Report on Test Data 2')\n",
        "print(classification_report(y_test, predict_y_test2))\n",
        "\n",
        "print('Classification Report on Test Data 3')\n",
        "print(classification_report(y_test, predict_y_test3))\n",
        "\n",
        "print('Classification Report on Test Data 4')\n",
        "print(classification_report(y_test, predict_y_test4))\n",
        "\n",
        "print('Classification Report on Test Data 5')\n",
        "print(classification_report(y_test, predict_y_test5))\n",
        "\n",
        "print('Classification Report on Test Data 6')\n",
        "print(classification_report(y_test, predict_y_test6))"
      ]
    },
    {
      "cell_type": "markdown",
      "metadata": {
        "id": "ug8gw2sgsXOB"
      },
      "source": [
        "# Neural Network model"
      ]
    },
    {
      "cell_type": "markdown",
      "metadata": {
        "id": "3rWVQDASsXOD"
      },
      "source": [
        "## Layer"
      ]
    },
    {
      "cell_type": "code",
      "execution_count": 164,
      "metadata": {
        "id": "amnbAiQwsXOD"
      },
      "outputs": [],
      "source": [
        "class Layer:\n",
        "  def __init__(self, ip_size, op_size):\n",
        "    self.bias = np.random.rand(1, op_size) - 0.5\n",
        "    self.wgts = np.random.rand(ip_size, op_size) - 0.5\n",
        "\n",
        "  def for_prop(self, ip_data):\n",
        "    self.input = ip_data\n",
        "    self.output = np.dot(self.input, self.wgts) + self.bias\n",
        "    return self.output\n",
        "\n",
        "  def back_prop(self, op_err, lr):\n",
        "    ip_err = np.dot(op_err, self.wgts.T)\n",
        "    wgts_err = np.dot(self.input.T, op_err)\n",
        "\n",
        "    self.wgts -= lr * wgts_err\n",
        "    self.bias -= lr * op_err\n",
        "    return ip_err"
      ]
    },
    {
      "cell_type": "markdown",
      "metadata": {
        "id": "T4Js26EksXOE"
      },
      "source": [
        "## Activation"
      ]
    },
    {
      "cell_type": "code",
      "execution_count": 165,
      "metadata": {
        "id": "cfb4rByesXOE"
      },
      "outputs": [],
      "source": [
        "class Activation:\n",
        "  def __init__(self, activation_function, activation_derivative_function):\n",
        "    self.activation_derivative_function = activation_derivative_function\n",
        "    self.activation_function = activation_function\n",
        "\n",
        "  def for_prop(self, ip_data):\n",
        "    self.input = ip_data\n",
        "    self.output = self.activation_function(self.input)\n",
        "    return self.output\n",
        "\n",
        "  def back_prop(self, op_err, lr):\n",
        "    return self.activation_derivative_function(self.input) * op_err"
      ]
    },
    {
      "cell_type": "markdown",
      "metadata": {
        "id": "m_XqeIn_sXOE"
      },
      "source": [
        "## Activation Functions"
      ]
    },
    {
      "cell_type": "code",
      "execution_count": 166,
      "metadata": {
        "id": "AQKdTQinsXOE"
      },
      "outputs": [],
      "source": [
        "def tanh(x):\n",
        "  return np.tanh(x);\n",
        "\n",
        "def tanh_derivative(x):\n",
        "  return 1-np.tanh(x)**2;\n",
        "\n",
        "def sigmoid(x):\n",
        "    return 1 / (1 + np.exp(-x))\n",
        "\n",
        "def sigmoid_derivative(x):\n",
        "    return np.exp(-x) / (1 + np.exp(-x))**2\n",
        "\n",
        "def relu(x):\n",
        "    return np.maximum(x, 0)\n",
        "\n",
        "def relu_derivative(x):\n",
        "    return np.array(x >= 0).astype('int')\n"
      ]
    },
    {
      "cell_type": "markdown",
      "metadata": {
        "id": "oKs70bAzsXOF"
      },
      "source": [
        "## Loss Functions"
      ]
    },
    {
      "cell_type": "code",
      "execution_count": 167,
      "metadata": {
        "id": "aaIFFIiksXOF"
      },
      "outputs": [],
      "source": [
        "def mean_square_err(y_true, y_pred):\n",
        "    return np.mean(np.power(y_true-y_pred, 2));\n",
        "\n",
        "def mean_square_err_derivative(y_true, y_pred):\n",
        "    return 2*(y_pred-y_true)/y_true.size;"
      ]
    },
    {
      "cell_type": "markdown",
      "metadata": {
        "id": "vghU7HAzsXOF"
      },
      "source": [
        "## Network"
      ]
    },
    {
      "cell_type": "code",
      "execution_count": 168,
      "metadata": {
        "id": "oTFH23smsXOF"
      },
      "outputs": [],
      "source": [
        "class NeuralNetwork:\n",
        "  def __init__(self, loss, loss_derivative, layers):\n",
        "    self.loss = loss\n",
        "    self.loss_derivative = loss_derivative\n",
        "    self.layers = layers\n",
        "\n",
        "  def predict(self, ip_data):\n",
        "    result = []\n",
        "    sampl_size = len(ip_data)\n",
        "    for i in range(sampl_size):\n",
        "      output = ip_data[i]\n",
        "      for layer in self.layers:\n",
        "        output = layer.for_prop(output)\n",
        "      result.append(output)\n",
        "    return result\n",
        "\n",
        "  def fit(self, x_train, y_train, epoch, lr):\n",
        "    sampl_size = len(x_train)\n",
        "    for i in range(epoch):\n",
        "      err = 0\n",
        "      for j in range(sampl_size):\n",
        "        output = x_train[j]\n",
        "        for layer in self.layers:\n",
        "          output = layer.for_prop(output)\n",
        "\n",
        "        error = self.loss_derivative(y_train[j], output)\n",
        "        for layer in reversed(self.layers):\n",
        "          error = layer.back_prop(error, lr)\n",
        "\n",
        "        err += self.loss(y_train[j], output)\n",
        "\n",
        "      # Average error on all sampl_size\n",
        "      err /= sampl_size\n",
        "      print('epoch %d/%d   error=%f' % (i+1, epoch, err))"
      ]
    },
    {
      "cell_type": "markdown",
      "metadata": {
        "id": "qc6lN3EssXOG"
      },
      "source": [
        "## Network Initialization"
      ]
    },
    {
      "cell_type": "code",
      "execution_count": 169,
      "metadata": {
        "id": "22rYLyfesXOG"
      },
      "outputs": [],
      "source": [
        "layers = [\n",
        "  Layer(16, 10),\n",
        "  Activation(relu, relu_derivative),\n",
        "  Layer(10, 1),\n",
        "  Activation(relu, relu_derivative),\n",
        "]\n",
        "nnet = NeuralNetwork(mean_square_err, mean_square_err_derivative, layers)"
      ]
    },
    {
      "cell_type": "markdown",
      "metadata": {
        "id": "Y4YGG83BsXOG"
      },
      "source": [
        "## Fitting"
      ]
    },
    {
      "cell_type": "code",
      "execution_count": 170,
      "metadata": {
        "id": "ZcpJU8CWsXOH",
        "outputId": "8bfbaa7c-3606-4b70-a9ca-3f45c039bc89",
        "colab": {
          "base_uri": "https://localhost:8080/"
        }
      },
      "outputs": [
        {
          "output_type": "stream",
          "name": "stdout",
          "text": [
            "epoch 1/5   error=0.252437\n",
            "epoch 2/5   error=0.249774\n",
            "epoch 3/5   error=0.246623\n",
            "epoch 4/5   error=0.241366\n",
            "epoch 5/5   error=0.239741\n"
          ]
        }
      ],
      "source": [
        "X_train = dataFile.loc[train_index, feature_columns]\n",
        "y_train = dataFile.loc[train_index, 'CLASS']\n",
        "\n",
        "X_test = dataFile.loc[test_index, feature_columns]\n",
        "y_test = dataFile.loc[test_index, 'CLASS']\n",
        "(len(X_test), len(X_train))\n",
        "\n",
        "from imblearn.under_sampling import RandomUnderSampler\n",
        "rus = RandomUnderSampler()\n",
        "X_resampled_under, y_resampled_under =rus.fit_resample(X_train, y_train)\n",
        "X_train = X_resampled_under\n",
        "y_train = y_resampled_under\n",
        "\n",
        "# shuffle the training data\n",
        "from sklearn.utils import shuffle\n",
        "X_train, y_train = shuffle(X_train, y_train)\n",
        "\n",
        "\n",
        "aX_train = X_train.to_numpy()\n",
        "aX_train = aX_train.reshape(aX_train.shape[0], 1, 16)\n",
        "\n",
        "ay_train = y_train.to_numpy().reshape(y_train.shape[0],1)\n",
        "ay_train = ay_train.reshape(ay_train.shape[0], 1, 1)\n",
        "\n",
        "nnet.fit(aX_train, ay_train, epoch=5, lr=0.01)"
      ]
    },
    {
      "cell_type": "code",
      "source": [
        ""
      ],
      "metadata": {
        "id": "lMyUbn0G-Fa6"
      },
      "execution_count": 170,
      "outputs": []
    },
    {
      "cell_type": "code",
      "source": [
        "y_train"
      ],
      "metadata": {
        "id": "2VIkrroq-PrU",
        "outputId": "1ab4263b-61a2-4023-dfb1-82d6a35a5a4d",
        "colab": {
          "base_uri": "https://localhost:8080/"
        }
      },
      "execution_count": 171,
      "outputs": [
        {
          "output_type": "execute_result",
          "data": {
            "text/plain": [
              "10570    0.0\n",
              "2582     0.0\n",
              "4982     0.0\n",
              "19860    1.0\n",
              "11025    0.0\n",
              "        ... \n",
              "3426     0.0\n",
              "17104    1.0\n",
              "4839     0.0\n",
              "5342     0.0\n",
              "22585    1.0\n",
              "Name: CLASS, Length: 23008, dtype: float64"
            ]
          },
          "metadata": {},
          "execution_count": 171
        }
      ]
    },
    {
      "cell_type": "markdown",
      "metadata": {
        "id": "2Ub9bwEosXOH"
      },
      "source": [
        "## Predict"
      ]
    },
    {
      "cell_type": "code",
      "execution_count": 172,
      "metadata": {
        "id": "4tywJy4ssXOH"
      },
      "outputs": [],
      "source": [
        "aX_test = X_test.to_numpy()\n",
        "aX_test = aX_test.reshape(aX_test.shape[0], 1, 16)\n",
        "output = nnet.predict(aX_test)\n",
        "\n",
        "predict_y = np.array(output)\n",
        "ay_test = y_test.to_numpy()\n",
        "ay_test = ay_test.reshape(ay_test.shape[0], 1, 1)\n",
        "\n",
        "apredict_y = predict_y.reshape(predict_y.shape[0], 1)\n",
        "aay_test = ay_test.reshape(ay_test.shape[0], 1)"
      ]
    },
    {
      "cell_type": "markdown",
      "metadata": {
        "id": "geWmUJL6sXOI"
      },
      "source": [
        "## Accuracy"
      ]
    },
    {
      "cell_type": "code",
      "source": [
        "np.unique(apredict_y.round())\n",
        "print(apredict_y[20:])"
      ],
      "metadata": {
        "id": "5IbchGoP0OVB",
        "outputId": "05d6c144-c789-4453-ec41-db1992ec49bd",
        "colab": {
          "base_uri": "https://localhost:8080/"
        }
      },
      "execution_count": 173,
      "outputs": [
        {
          "output_type": "stream",
          "name": "stdout",
          "text": [
            "[[0.41453859]\n",
            " [0.22718647]\n",
            " [0.53314103]\n",
            " ...\n",
            " [0.24598525]\n",
            " [0.50806328]\n",
            " [0.53314103]]\n"
          ]
        }
      ]
    },
    {
      "cell_type": "code",
      "execution_count": 174,
      "metadata": {
        "id": "xtWu8SWesXOI",
        "outputId": "91ad75d1-95b3-4a25-d7f6-2a878bc9fb36",
        "colab": {
          "base_uri": "https://localhost:8080/",
          "height": 296
        }
      },
      "outputs": [
        {
          "output_type": "display_data",
          "data": {
            "text/plain": [
              "<Figure size 432x288 with 2 Axes>"
            ],
            "image/png": "[encoded data removed]"
          },
          "metadata": {
            "needs_background": "light"
          }
        },
        {
          "output_type": "stream",
          "name": "stdout",
          "text": [
            "Accuracy = 0.5171549828705834\n"
          ]
        }
      ],
      "source": [
        "from sklearn.metrics import confusion_matrix, ConfusionMatrixDisplay\n",
        "labels = [0., 1.]\n",
        "conMtrx = confusion_matrix(aay_test, apredict_y.round(), labels=labels)\n",
        "conMtrxDisplay = ConfusionMatrixDisplay(confusion_matrix=conMtrx, display_labels=labels)\n",
        "conMtrxDisplay.plot()\n",
        "plt.show()\n",
        "\n",
        "# Evaluation - Accuracy\n",
        "\n",
        "# Get sum along diagonal of matrix (for total correct predictions)\n",
        "diagMtrxSum = conMtrx.trace()\n",
        "\n",
        "# Get sum of all matrix elements (for total predictions)\n",
        "totMtrxSum = conMtrx.sum()\n",
        "\n",
        "# Print accuracy\n",
        "acc = diagMtrxSum / totMtrxSum\n",
        "print('Accuracy = ' + str(acc))"
      ]
    },
    {
      "cell_type": "markdown",
      "source": [
        "## Model Eval"
      ],
      "metadata": {
        "id": "CD2OQ4Jgv3pP"
      }
    },
    {
      "cell_type": "code",
      "source": [
        "layers = {\n",
        "  \"relu\": [\n",
        "    Layer(16, 10),\n",
        "    Activation(relu, relu_derivative),\n",
        "    Layer(10, 5),\n",
        "    Activation(relu, relu_derivative),\n",
        "    Layer(5, 1),\n",
        "    Activation(relu, relu_derivative),\n",
        "    # Layer(10, 1),\n",
        "    # Activation(sigmoid, sigmoid_derivative),\n",
        "  ],\n",
        "\n",
        "  \"tanh\": [\n",
        "    Layer(16, 10),\n",
        "    Activation(tanh, tanh_derivative),\n",
        "    Layer(10, 5),\n",
        "    Activation(tanh, tanh_derivative),\n",
        "    Layer(5, 1),\n",
        "    Activation(tanh, tanh_derivative),\n",
        "    # Layer(10, 1),\n",
        "    # Activation(sigmoid, sigmoid_derivative),\n",
        "  ],\n",
        "\n",
        "  \"sigmoid\": [\n",
        "      Layer(16, 10),\n",
        "      Activation(sigmoid, sigmoid_derivative),\n",
        "      Layer(10, 5),\n",
        "      Activation(sigmoid, sigmoid_derivative),\n",
        "      Layer(5, 1),\n",
        "      Activation(sigmoid, sigmoid_derivative),\n",
        "      # Layer(10, 1),\n",
        "      # Activation(sigmoid, sigmoid_derivative),\n",
        "    ]\n",
        "}\n",
        "\n",
        "lrs = [0.1]\n",
        "\n",
        "epochs = [5]\n",
        "\n",
        "for act, layer in layers.items():\n",
        "  for lr in lrs:\n",
        "    for epoch in epochs:\n",
        "      # print(\"Activation function: \" + act + \" lr: \" + lr + \" epoch \")\n",
        "      model_type = ' | '.join(['Activation: ' + act, 'Learning Rate: ' + str(lr), 'Epochs: ' + str(epoch)])\n",
        "      print(model_type)\n",
        "\n",
        "      nnet = NeuralNetwork(mean_square_err, mean_square_err_derivative, layer)\n",
        "\n",
        "      aX_train = X_train.to_numpy()\n",
        "      aX_train = aX_train.reshape(aX_train.shape[0], 1, 16)\n",
        "\n",
        "      ay_train = y_train.to_numpy().reshape(y_train.shape[0],1)\n",
        "      ay_train = ay_train.reshape(ay_train.shape[0], 1, 1)\n",
        "\n",
        "      nnet.fit(aX_train, ay_train, epoch=epoch, lr=lr)\n",
        "\n",
        "\n",
        "      # Predict\n",
        "      aX_test = X_test.to_numpy()\n",
        "      aX_test = aX_test.reshape(aX_test.shape[0], 1, 16)\n",
        "      output = nnet.predict(aX_test)\n",
        "\n",
        "      predict_y = np.array(output)\n",
        "      ay_test = y_test.to_numpy()\n",
        "      ay_test = ay_test.reshape(ay_test.shape[0], 1, 1)\n",
        "\n",
        "      apredict_y = predict_y.reshape(predict_y.shape[0], 1)\n",
        "      aay_test = ay_test.reshape(ay_test.shape[0], 1)\n",
        "      apredict_y = apredict_y.round()\n",
        "\n",
        "      from sklearn.metrics import confusion_matrix, ConfusionMatrixDisplay\n",
        "      labels = [0., 1.]\n",
        "      conMtrx = confusion_matrix(aay_test, apredict_y, labels=labels)\n",
        "      conMtrxDisplay = ConfusionMatrixDisplay(confusion_matrix=conMtrx, display_labels=labels)\n",
        "      conMtrxDisplay.plot()\n",
        "      plt.show()\n",
        "\n",
        "      # Evaluation - Accuracy\n",
        "\n",
        "      # Get sum along diagonal of matrix (for total correct predictions)\n",
        "      diagMtrxSum = conMtrx.trace()\n",
        "\n",
        "      # Get sum of all matrix elements (for total predictions)\n",
        "      totMtrxSum = conMtrx.sum()\n",
        "\n",
        "      # Print accuracy\n",
        "      accuracy = diagMtrxSum / totMtrxSum\n",
        "\n",
        "\n",
        "      # from sklearn.metrics import accuracy_score\n",
        "      # accuracy = accuracy_score(aay_test, apredict_y)\n",
        "\n",
        "\n",
        "      print('Accuracy = ' + str(accuracy))\n",
        "      print(classification_report(aay_test, apredict_y))\n",
        "      print()"
      ],
      "metadata": {
        "id": "dUB6ziDcv17B",
        "outputId": "cabf8303-39c6-4e05-99ac-67a51407f7c1",
        "colab": {
          "base_uri": "https://localhost:8080/",
          "height": 1000
        }
      },
      "execution_count": 175,
      "outputs": [
        {
          "output_type": "stream",
          "name": "stdout",
          "text": [
            "Activation: relu | Learning Rate: 0.1 | Epochs: 5\n",
            "epoch 1/5   error=0.278514\n",
            "epoch 2/5   error=0.385578\n",
            "epoch 3/5   error=0.500000\n",
            "epoch 4/5   error=0.500000\n",
            "epoch 5/5   error=0.500000\n"
          ]
        },
        {
          "output_type": "display_data",
          "data": {
            "text/plain": [
              "<Figure size 432x288 with 2 Axes>"
            ],
            "image/png": "[encoded data removed]"
          },
          "metadata": {
            "needs_background": "light"
          }
        },
        {
          "output_type": "stream",
          "name": "stdout",
          "text": [
            "Accuracy = 0.7479163470879991\n",
            "              precision    recall  f1-score   support\n",
            "\n",
            "         0.0       0.75      1.00      0.86     14627\n",
            "         1.0       0.00      0.00      0.00      4930\n",
            "\n",
            "    accuracy                           0.75     19557\n",
            "   macro avg       0.37      0.50      0.43     19557\n",
            "weighted avg       0.56      0.75      0.64     19557\n",
            "\n",
            "\n",
            "Activation: tanh | Learning Rate: 0.1 | Epochs: 5\n",
            "epoch 1/5   error=0.264948\n",
            "epoch 2/5   error=0.259656\n",
            "epoch 3/5   error=0.257367\n",
            "epoch 4/5   error=0.256370\n",
            "epoch 5/5   error=0.255755\n"
          ]
        },
        {
          "output_type": "display_data",
          "data": {
            "text/plain": [
              "<Figure size 432x288 with 2 Axes>"
            ],
            "image/png": "[encoded data removed]"
          },
          "metadata": {
            "needs_background": "light"
          }
        },
        {
          "output_type": "stream",
          "name": "stdout",
          "text": [
            "Accuracy = 0.45027355933936697\n",
            "              precision    recall  f1-score   support\n",
            "\n",
            "         0.0       0.84      0.33      0.47     14627\n",
            "         1.0       0.29      0.82      0.43      4930\n",
            "\n",
            "    accuracy                           0.45     19557\n",
            "   macro avg       0.57      0.57      0.45     19557\n",
            "weighted avg       0.70      0.45      0.46     19557\n",
            "\n",
            "\n",
            "Activation: sigmoid | Learning Rate: 0.1 | Epochs: 5\n",
            "epoch 1/5   error=0.252431\n",
            "epoch 2/5   error=0.250827\n",
            "epoch 3/5   error=0.247504\n",
            "epoch 4/5   error=0.242618\n",
            "epoch 5/5   error=0.240005\n"
          ]
        },
        {
          "output_type": "display_data",
          "data": {
            "text/plain": [
              "<Figure size 432x288 with 2 Axes>"
            ],
            "image/png": "[encoded data removed]"
          },
          "metadata": {
            "needs_background": "light"
          }
        },
        {
          "output_type": "stream",
          "name": "stdout",
          "text": [
            "Accuracy = 0.5416474919466175\n",
            "              precision    recall  f1-score   support\n",
            "\n",
            "         0.0       0.79      0.53      0.63     14627\n",
            "         1.0       0.29      0.57      0.39      4930\n",
            "\n",
            "    accuracy                           0.54     19557\n",
            "   macro avg       0.54      0.55      0.51     19557\n",
            "weighted avg       0.66      0.54      0.57     19557\n",
            "\n",
            "\n"
          ]
        }
      ]
    }
  ],
  "metadata": {
    "colab": {
      "collapsed_sections": [],
      "name": "Genetic_Sequence_Analysis_Using_DNN.ipynb",
      "provenance": [],
      "include_colab_link": true
    },
    "kernelspec": {
      "display_name": "Python 3",
      "name": "python3"
    },
    "language_info": {
      "name": "python"
    }
  },
  "nbformat": 4,
  "nbformat_minor": 0
}