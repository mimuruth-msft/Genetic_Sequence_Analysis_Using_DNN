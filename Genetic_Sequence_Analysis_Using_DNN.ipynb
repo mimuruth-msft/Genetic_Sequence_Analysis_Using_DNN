{
  "cells": [
    {
      "cell_type": "markdown",
      "metadata": {
        "colab_type": "text",
        "id": "view-in-github"
      },
      "source": [
        "<a href=\"https://colab.research.google.com/github/mmrepos/Genetic_Sequence_Analysis_Using_DNN/blob/Jibin/Genetic_Sequence_Analysis_Using_DNN.ipynb\" target=\"_parent\"><img src=\"https://colab.research.google.com/assets/colab-badge.svg\" alt=\"Open In Colab\"/></a>"
      ]
    },
    {
      "cell_type": "code",
      "execution_count": 3,
      "metadata": {
        "id": "NInYH8MBeBrh"
      },
      "outputs": [],
      "source": [
        "#####################################################################################################################\n",
        "#\n",
        "#   Genetic sequence analysis using deep neural network analysis\n",
        "#\n",
        "#####################################################################################################################\n",
        "\n",
        "import numpy as np\n",
        "import pandas as pd\n",
        "import seaborn as sns\n",
        "from sklearn.model_selection import train_test_split\n",
        "from sklearn.neural_network import MLPClassifier\n",
        "from sklearn.metrics import accuracy_score\n",
        "from sklearn.metrics import mean_squared_error\n",
        "from sklearn.preprocessing import LabelBinarizer, LabelEncoder, OrdinalEncoder, MinMaxScaler\n",
        "from sklearn.model_selection import StratifiedShuffleSplit, train_test_split, GridSearchCV\n",
        "import warnings\n",
        "import matplotlib.pyplot as plt\n",
        "\n",
        "import warnings\n",
        "warnings.filterwarnings('ignore', module='sklearn')\n",
        "warnings.filterwarnings('ignore', module='IPython')"
      ]
    },
    {
      "cell_type": "code",
      "execution_count": 4,
      "metadata": {
        "colab": {
          "base_uri": "https://localhost:8080/",
          "height": 456
        },
        "id": "XHY8vB-D74lc",
        "outputId": "29605b50-b045-461e-cc2a-751fc85f9b0f"
      },
      "outputs": [
        {
          "data": {
            "text/html": [
              "\n",
              "  <div id=\"df-c8585386-070e-4c61-be03-3aad825721d3\">\n",
              "    <div class=\"colab-df-container\">\n",
              "      <div>\n",
              "<style scoped>\n",
              "    .dataframe tbody tr th:only-of-type {\n",
              "        vertical-align: middle;\n",
              "    }\n",
              "\n",
              "    .dataframe tbody tr th {\n",
              "        vertical-align: top;\n",
              "    }\n",
              "\n",
              "    .dataframe thead th {\n",
              "        text-align: right;\n",
              "    }\n",
              "</style>\n",
              "<table border=\"1\" class=\"dataframe\">\n",
              "  <thead>\n",
              "    <tr style=\"text-align: right;\">\n",
              "      <th></th>\n",
              "      <th>CHROM</th>\n",
              "      <th>POS</th>\n",
              "      <th>REF</th>\n",
              "      <th>ALT</th>\n",
              "      <th>AF_ESP</th>\n",
              "      <th>AF_EXAC</th>\n",
              "      <th>AF_TGP</th>\n",
              "      <th>CLNDISDB</th>\n",
              "      <th>CLNDISDBINCL</th>\n",
              "      <th>CLNDN</th>\n",
              "      <th>...</th>\n",
              "      <th>SIFT</th>\n",
              "      <th>PolyPhen</th>\n",
              "      <th>MOTIF_NAME</th>\n",
              "      <th>MOTIF_POS</th>\n",
              "      <th>HIGH_INF_POS</th>\n",
              "      <th>MOTIF_SCORE_CHANGE</th>\n",
              "      <th>LoFtool</th>\n",
              "      <th>CADD_PHRED</th>\n",
              "      <th>CADD_RAW</th>\n",
              "      <th>BLOSUM62</th>\n",
              "    </tr>\n",
              "  </thead>\n",
              "  <tbody>\n",
              "    <tr>\n",
              "      <th>0</th>\n",
              "      <td>1</td>\n",
              "      <td>1168180</td>\n",
              "      <td>G</td>\n",
              "      <td>C</td>\n",
              "      <td>0.0771</td>\n",
              "      <td>0.10020</td>\n",
              "      <td>0.1066</td>\n",
              "      <td>MedGen:CN169374</td>\n",
              "      <td>NaN</td>\n",
              "      <td>not_specified</td>\n",
              "      <td>...</td>\n",
              "      <td>tolerated</td>\n",
              "      <td>benign</td>\n",
              "      <td>NaN</td>\n",
              "      <td>NaN</td>\n",
              "      <td>NaN</td>\n",
              "      <td>NaN</td>\n",
              "      <td>NaN</td>\n",
              "      <td>1.053</td>\n",
              "      <td>-0.208682</td>\n",
              "      <td>2.0</td>\n",
              "    </tr>\n",
              "    <tr>\n",
              "      <th>1</th>\n",
              "      <td>1</td>\n",
              "      <td>1470752</td>\n",
              "      <td>G</td>\n",
              "      <td>A</td>\n",
              "      <td>0.0000</td>\n",
              "      <td>0.00000</td>\n",
              "      <td>0.0000</td>\n",
              "      <td>MedGen:C1843891,OMIM:607454,Orphanet:ORPHA9877...</td>\n",
              "      <td>NaN</td>\n",
              "      <td>Spinocerebellar_ataxia_21|not_provided</td>\n",
              "      <td>...</td>\n",
              "      <td>deleterious_low_confidence</td>\n",
              "      <td>benign</td>\n",
              "      <td>NaN</td>\n",
              "      <td>NaN</td>\n",
              "      <td>NaN</td>\n",
              "      <td>NaN</td>\n",
              "      <td>NaN</td>\n",
              "      <td>31.000</td>\n",
              "      <td>6.517838</td>\n",
              "      <td>-3.0</td>\n",
              "    </tr>\n",
              "    <tr>\n",
              "      <th>2</th>\n",
              "      <td>1</td>\n",
              "      <td>1737942</td>\n",
              "      <td>A</td>\n",
              "      <td>G</td>\n",
              "      <td>0.0000</td>\n",
              "      <td>0.00001</td>\n",
              "      <td>0.0000</td>\n",
              "      <td>Human_Phenotype_Ontology:HP:0000486,MedGen:C00...</td>\n",
              "      <td>NaN</td>\n",
              "      <td>Strabismus|Nystagmus|Hypothyroidism|Intellectu...</td>\n",
              "      <td>...</td>\n",
              "      <td>deleterious</td>\n",
              "      <td>probably_damaging</td>\n",
              "      <td>NaN</td>\n",
              "      <td>NaN</td>\n",
              "      <td>NaN</td>\n",
              "      <td>NaN</td>\n",
              "      <td>NaN</td>\n",
              "      <td>28.100</td>\n",
              "      <td>6.061752</td>\n",
              "      <td>-1.0</td>\n",
              "    </tr>\n",
              "    <tr>\n",
              "      <th>3</th>\n",
              "      <td>1</td>\n",
              "      <td>2160305</td>\n",
              "      <td>G</td>\n",
              "      <td>A</td>\n",
              "      <td>0.0000</td>\n",
              "      <td>0.00000</td>\n",
              "      <td>0.0000</td>\n",
              "      <td>MedGen:C1321551,OMIM:182212,SNOMED_CT:83092002...</td>\n",
              "      <td>NaN</td>\n",
              "      <td>Shprintzen-Goldberg_syndrome|not_provided</td>\n",
              "      <td>...</td>\n",
              "      <td>NaN</td>\n",
              "      <td>NaN</td>\n",
              "      <td>NaN</td>\n",
              "      <td>NaN</td>\n",
              "      <td>NaN</td>\n",
              "      <td>NaN</td>\n",
              "      <td>NaN</td>\n",
              "      <td>22.500</td>\n",
              "      <td>3.114491</td>\n",
              "      <td>NaN</td>\n",
              "    </tr>\n",
              "    <tr>\n",
              "      <th>4</th>\n",
              "      <td>1</td>\n",
              "      <td>2160305</td>\n",
              "      <td>G</td>\n",
              "      <td>T</td>\n",
              "      <td>0.0000</td>\n",
              "      <td>0.00000</td>\n",
              "      <td>0.0000</td>\n",
              "      <td>MedGen:C1321551,OMIM:182212,SNOMED_CT:83092002</td>\n",
              "      <td>NaN</td>\n",
              "      <td>Shprintzen-Goldberg_syndrome</td>\n",
              "      <td>...</td>\n",
              "      <td>NaN</td>\n",
              "      <td>NaN</td>\n",
              "      <td>NaN</td>\n",
              "      <td>NaN</td>\n",
              "      <td>NaN</td>\n",
              "      <td>NaN</td>\n",
              "      <td>NaN</td>\n",
              "      <td>24.700</td>\n",
              "      <td>4.766224</td>\n",
              "      <td>-3.0</td>\n",
              "    </tr>\n",
              "    <tr>\n",
              "      <th>5</th>\n",
              "      <td>1</td>\n",
              "      <td>2160554</td>\n",
              "      <td>G</td>\n",
              "      <td>C</td>\n",
              "      <td>0.0000</td>\n",
              "      <td>0.00000</td>\n",
              "      <td>0.0000</td>\n",
              "      <td>MedGen:C1321551,OMIM:182212,SNOMED_CT:83092002...</td>\n",
              "      <td>NaN</td>\n",
              "      <td>Shprintzen-Goldberg_syndrome|not_provided</td>\n",
              "      <td>...</td>\n",
              "      <td>NaN</td>\n",
              "      <td>NaN</td>\n",
              "      <td>NaN</td>\n",
              "      <td>NaN</td>\n",
              "      <td>NaN</td>\n",
              "      <td>NaN</td>\n",
              "      <td>NaN</td>\n",
              "      <td>23.700</td>\n",
              "      <td>4.079099</td>\n",
              "      <td>-2.0</td>\n",
              "    </tr>\n",
              "    <tr>\n",
              "      <th>6</th>\n",
              "      <td>1</td>\n",
              "      <td>3328358</td>\n",
              "      <td>T</td>\n",
              "      <td>C</td>\n",
              "      <td>0.0000</td>\n",
              "      <td>0.00000</td>\n",
              "      <td>0.0000</td>\n",
              "      <td>MedGen:CN169374</td>\n",
              "      <td>NaN</td>\n",
              "      <td>not_specified</td>\n",
              "      <td>...</td>\n",
              "      <td>NaN</td>\n",
              "      <td>NaN</td>\n",
              "      <td>NaN</td>\n",
              "      <td>NaN</td>\n",
              "      <td>NaN</td>\n",
              "      <td>NaN</td>\n",
              "      <td>0.101</td>\n",
              "      <td>0.172</td>\n",
              "      <td>-0.543433</td>\n",
              "      <td>-1.0</td>\n",
              "    </tr>\n",
              "    <tr>\n",
              "      <th>7</th>\n",
              "      <td>1</td>\n",
              "      <td>3328659</td>\n",
              "      <td>C</td>\n",
              "      <td>T</td>\n",
              "      <td>0.1523</td>\n",
              "      <td>0.13103</td>\n",
              "      <td>0.1060</td>\n",
              "      <td>MedGen:CN169374</td>\n",
              "      <td>NaN</td>\n",
              "      <td>not_specified</td>\n",
              "      <td>...</td>\n",
              "      <td>NaN</td>\n",
              "      <td>NaN</td>\n",
              "      <td>NaN</td>\n",
              "      <td>NaN</td>\n",
              "      <td>NaN</td>\n",
              "      <td>NaN</td>\n",
              "      <td>0.101</td>\n",
              "      <td>23.000</td>\n",
              "      <td>3.424422</td>\n",
              "      <td>-3.0</td>\n",
              "    </tr>\n",
              "    <tr>\n",
              "      <th>8</th>\n",
              "      <td>1</td>\n",
              "      <td>3347452</td>\n",
              "      <td>G</td>\n",
              "      <td>A</td>\n",
              "      <td>0.0000</td>\n",
              "      <td>0.00357</td>\n",
              "      <td>0.0030</td>\n",
              "      <td>MedGen:C3809288,OMIM:615373|MedGen:CN169374|Me...</td>\n",
              "      <td>NaN</td>\n",
              "      <td>Left_ventricular_noncompaction_8|not_specified...</td>\n",
              "      <td>...</td>\n",
              "      <td>NaN</td>\n",
              "      <td>NaN</td>\n",
              "      <td>NaN</td>\n",
              "      <td>NaN</td>\n",
              "      <td>NaN</td>\n",
              "      <td>NaN</td>\n",
              "      <td>0.101</td>\n",
              "      <td>11.360</td>\n",
              "      <td>1.126629</td>\n",
              "      <td>1.0</td>\n",
              "    </tr>\n",
              "    <tr>\n",
              "      <th>9</th>\n",
              "      <td>1</td>\n",
              "      <td>5925304</td>\n",
              "      <td>G</td>\n",
              "      <td>A</td>\n",
              "      <td>0.0045</td>\n",
              "      <td>0.00231</td>\n",
              "      <td>0.0058</td>\n",
              "      <td>MedGen:C0687120,Orphanet:ORPHA655,SNOMED_CT:20...</td>\n",
              "      <td>NaN</td>\n",
              "      <td>Nephronophthisis|not_specified</td>\n",
              "      <td>...</td>\n",
              "      <td>deleterious</td>\n",
              "      <td>benign</td>\n",
              "      <td>NaN</td>\n",
              "      <td>NaN</td>\n",
              "      <td>NaN</td>\n",
              "      <td>NaN</td>\n",
              "      <td>0.021</td>\n",
              "      <td>22.100</td>\n",
              "      <td>2.969650</td>\n",
              "      <td>-1.0</td>\n",
              "    </tr>\n",
              "  </tbody>\n",
              "</table>\n",
              "<p>10 rows × 46 columns</p>\n",
              "</div>\n",
              "      <button class=\"colab-df-convert\" onclick=\"convertToInteractive('df-c8585386-070e-4c61-be03-3aad825721d3')\"\n",
              "              title=\"Convert this dataframe to an interactive table.\"\n",
              "              style=\"display:none;\">\n",
              "        \n",
              "  <svg xmlns=\"http://www.w3.org/2000/svg\" height=\"24px\"viewBox=\"0 0 24 24\"\n",
              "       width=\"24px\">\n",
              "    <path d=\"M0 0h24v24H0V0z\" fill=\"none\"/>\n",
              "    <path d=\"M18.56 5.44l.94 2.06.94-2.06 2.06-.94-2.06-.94-.94-2.06-.94 2.06-2.06.94zm-11 1L8.5 8.5l.94-2.06 2.06-.94-2.06-.94L8.5 2.5l-.94 2.06-2.06.94zm10 10l.94 2.06.94-2.06 2.06-.94-2.06-.94-.94-2.06-.94 2.06-2.06.94z\"/><path d=\"M17.41 7.96l-1.37-1.37c-.4-.4-.92-.59-1.43-.59-.52 0-1.04.2-1.43.59L10.3 9.45l-7.72 7.72c-.78.78-.78 2.05 0 2.83L4 21.41c.39.39.9.59 1.41.59.51 0 1.02-.2 1.41-.59l7.78-7.78 2.81-2.81c.8-.78.8-2.07 0-2.86zM5.41 20L4 18.59l7.72-7.72 1.47 1.35L5.41 20z\"/>\n",
              "  </svg>\n",
              "      </button>\n",
              "      \n",
              "  <style>\n",
              "    .colab-df-container {\n",
              "      display:flex;\n",
              "      flex-wrap:wrap;\n",
              "      gap: 12px;\n",
              "    }\n",
              "\n",
              "    .colab-df-convert {\n",
              "      background-color: #E8F0FE;\n",
              "      border: none;\n",
              "      border-radius: 50%;\n",
              "      cursor: pointer;\n",
              "      display: none;\n",
              "      fill: #1967D2;\n",
              "      height: 32px;\n",
              "      padding: 0 0 0 0;\n",
              "      width: 32px;\n",
              "    }\n",
              "\n",
              "    .colab-df-convert:hover {\n",
              "      background-color: #E2EBFA;\n",
              "      box-shadow: 0px 1px 2px rgba(60, 64, 67, 0.3), 0px 1px 3px 1px rgba(60, 64, 67, 0.15);\n",
              "      fill: #174EA6;\n",
              "    }\n",
              "\n",
              "    [theme=dark] .colab-df-convert {\n",
              "      background-color: #3B4455;\n",
              "      fill: #D2E3FC;\n",
              "    }\n",
              "\n",
              "    [theme=dark] .colab-df-convert:hover {\n",
              "      background-color: #434B5C;\n",
              "      box-shadow: 0px 1px 3px 1px rgba(0, 0, 0, 0.15);\n",
              "      filter: drop-shadow(0px 1px 2px rgba(0, 0, 0, 0.3));\n",
              "      fill: #FFFFFF;\n",
              "    }\n",
              "  </style>\n",
              "\n",
              "      <script>\n",
              "        const buttonEl =\n",
              "          document.querySelector('#df-c8585386-070e-4c61-be03-3aad825721d3 button.colab-df-convert');\n",
              "        buttonEl.style.display =\n",
              "          google.colab.kernel.accessAllowed ? 'block' : 'none';\n",
              "\n",
              "        async function convertToInteractive(key) {\n",
              "          const element = document.querySelector('#df-c8585386-070e-4c61-be03-3aad825721d3');\n",
              "          const dataTable =\n",
              "            await google.colab.kernel.invokeFunction('convertToInteractive',\n",
              "                                                     [key], {});\n",
              "          if (!dataTable) return;\n",
              "\n",
              "          const docLinkHtml = 'Like what you see? Visit the ' +\n",
              "            '<a target=\"_blank\" href=https://colab.research.google.com/notebooks/data_table.ipynb>data table notebook</a>'\n",
              "            + ' to learn more about interactive tables.';\n",
              "          element.innerHTML = '';\n",
              "          dataTable['output_type'] = 'display_data';\n",
              "          await google.colab.output.renderOutput(dataTable, element);\n",
              "          const docLink = document.createElement('div');\n",
              "          docLink.innerHTML = docLinkHtml;\n",
              "          element.appendChild(docLink);\n",
              "        }\n",
              "      </script>\n",
              "    </div>\n",
              "  </div>\n",
              "  "
            ],
            "text/plain": [
              "  CHROM      POS REF ALT  AF_ESP  AF_EXAC  AF_TGP  \\\n",
              "0     1  1168180   G   C  0.0771  0.10020  0.1066   \n",
              "1     1  1470752   G   A  0.0000  0.00000  0.0000   \n",
              "2     1  1737942   A   G  0.0000  0.00001  0.0000   \n",
              "3     1  2160305   G   A  0.0000  0.00000  0.0000   \n",
              "4     1  2160305   G   T  0.0000  0.00000  0.0000   \n",
              "5     1  2160554   G   C  0.0000  0.00000  0.0000   \n",
              "6     1  3328358   T   C  0.0000  0.00000  0.0000   \n",
              "7     1  3328659   C   T  0.1523  0.13103  0.1060   \n",
              "8     1  3347452   G   A  0.0000  0.00357  0.0030   \n",
              "9     1  5925304   G   A  0.0045  0.00231  0.0058   \n",
              "\n",
              "                                            CLNDISDB CLNDISDBINCL  \\\n",
              "0                                    MedGen:CN169374          NaN   \n",
              "1  MedGen:C1843891,OMIM:607454,Orphanet:ORPHA9877...          NaN   \n",
              "2  Human_Phenotype_Ontology:HP:0000486,MedGen:C00...          NaN   \n",
              "3  MedGen:C1321551,OMIM:182212,SNOMED_CT:83092002...          NaN   \n",
              "4     MedGen:C1321551,OMIM:182212,SNOMED_CT:83092002          NaN   \n",
              "5  MedGen:C1321551,OMIM:182212,SNOMED_CT:83092002...          NaN   \n",
              "6                                    MedGen:CN169374          NaN   \n",
              "7                                    MedGen:CN169374          NaN   \n",
              "8  MedGen:C3809288,OMIM:615373|MedGen:CN169374|Me...          NaN   \n",
              "9  MedGen:C0687120,Orphanet:ORPHA655,SNOMED_CT:20...          NaN   \n",
              "\n",
              "                                               CLNDN  ...  \\\n",
              "0                                      not_specified  ...   \n",
              "1             Spinocerebellar_ataxia_21|not_provided  ...   \n",
              "2  Strabismus|Nystagmus|Hypothyroidism|Intellectu...  ...   \n",
              "3          Shprintzen-Goldberg_syndrome|not_provided  ...   \n",
              "4                       Shprintzen-Goldberg_syndrome  ...   \n",
              "5          Shprintzen-Goldberg_syndrome|not_provided  ...   \n",
              "6                                      not_specified  ...   \n",
              "7                                      not_specified  ...   \n",
              "8  Left_ventricular_noncompaction_8|not_specified...  ...   \n",
              "9                     Nephronophthisis|not_specified  ...   \n",
              "\n",
              "                         SIFT           PolyPhen MOTIF_NAME MOTIF_POS  \\\n",
              "0                   tolerated             benign        NaN       NaN   \n",
              "1  deleterious_low_confidence             benign        NaN       NaN   \n",
              "2                 deleterious  probably_damaging        NaN       NaN   \n",
              "3                         NaN                NaN        NaN       NaN   \n",
              "4                         NaN                NaN        NaN       NaN   \n",
              "5                         NaN                NaN        NaN       NaN   \n",
              "6                         NaN                NaN        NaN       NaN   \n",
              "7                         NaN                NaN        NaN       NaN   \n",
              "8                         NaN                NaN        NaN       NaN   \n",
              "9                 deleterious             benign        NaN       NaN   \n",
              "\n",
              "  HIGH_INF_POS MOTIF_SCORE_CHANGE  LoFtool  CADD_PHRED  CADD_RAW BLOSUM62  \n",
              "0          NaN                NaN      NaN       1.053 -0.208682      2.0  \n",
              "1          NaN                NaN      NaN      31.000  6.517838     -3.0  \n",
              "2          NaN                NaN      NaN      28.100  6.061752     -1.0  \n",
              "3          NaN                NaN      NaN      22.500  3.114491      NaN  \n",
              "4          NaN                NaN      NaN      24.700  4.766224     -3.0  \n",
              "5          NaN                NaN      NaN      23.700  4.079099     -2.0  \n",
              "6          NaN                NaN    0.101       0.172 -0.543433     -1.0  \n",
              "7          NaN                NaN    0.101      23.000  3.424422     -3.0  \n",
              "8          NaN                NaN    0.101      11.360  1.126629      1.0  \n",
              "9          NaN                NaN    0.021      22.100  2.969650     -1.0  \n",
              "\n",
              "[10 rows x 46 columns]"
            ]
          },
          "execution_count": 2,
          "metadata": {},
          "execution_count": 4
        }
      ],
      "source": [
        "# Load the clinvar_conflicting.csv files and assign the variable name dataFile\n",
        "dataFile = pd.read_csv\\\n",
        "(f'https://raw.githubusercontent.com/mmrepos/'\\\n",
        "'Genetic_Sequence_Analysis_Using_DNN/main/'\n",
        "'Dataset/clinvar_conflicting.csv')\n",
        "# Inspect the first ten records in the DataFrame\n",
        "dataFile.head(10)"
      ]
    },
    {
      "cell_type": "code",
      "execution_count": 5,
      "metadata": {
        "colab": {
          "base_uri": "https://localhost:8080/"
        },
        "id": "4FHVgllDMJLO",
        "outputId": "3a1a1bd6-59fa-4d81-e069-c3deae998eb2"
      },
      "outputs": [
        {
          "data": {
            "text/plain": [
              "(65188, 46)"
            ]
          },
          "execution_count": 3,
          "metadata": {},
          "execution_count": 5
        }
      ],
      "source": [
        "dataFile.shape"
      ]
    },
    {
      "cell_type": "code",
      "execution_count": 6,
      "metadata": {
        "colab": {
          "base_uri": "https://localhost:8080/"
        },
        "id": "D6oXh-yeMpj6",
        "outputId": "6d017904-6126-44af-de65-062661237b6a"
      },
      "outputs": [
        {
          "data": {
            "text/plain": [
              "0    48754\n",
              "1    16434\n",
              "Name: CLASS, dtype: int64"
            ]
          },
          "execution_count": 4,
          "metadata": {},
          "execution_count": 6
        }
      ],
      "source": [
        "dataFile.CLASS.value_counts()"
      ]
    },
    {
      "cell_type": "code",
      "execution_count": 7,
      "metadata": {
        "colab": {
          "base_uri": "https://localhost:8080/",
          "height": 1000
        },
        "id": "6aedcr-GNJzN",
        "outputId": "ae3a277b-ec8a-4b8f-fc41-3e369587a7ce"
      },
      "outputs": [
        {
          "data": {
            "text/html": [
              "\n",
              "  <div id=\"df-8b319289-645d-433d-8add-07f928f63ed3\">\n",
              "    <div class=\"colab-df-container\">\n",
              "      <div>\n",
              "<style scoped>\n",
              "    .dataframe tbody tr th:only-of-type {\n",
              "        vertical-align: middle;\n",
              "    }\n",
              "\n",
              "    .dataframe tbody tr th {\n",
              "        vertical-align: top;\n",
              "    }\n",
              "\n",
              "    .dataframe thead th {\n",
              "        text-align: right;\n",
              "    }\n",
              "</style>\n",
              "<table border=\"1\" class=\"dataframe\">\n",
              "  <thead>\n",
              "    <tr style=\"text-align: right;\">\n",
              "      <th></th>\n",
              "      <th>Unique Values</th>\n",
              "    </tr>\n",
              "    <tr>\n",
              "      <th>Variable</th>\n",
              "      <th></th>\n",
              "    </tr>\n",
              "  </thead>\n",
              "  <tbody>\n",
              "    <tr>\n",
              "      <th>CHROM</th>\n",
              "      <td>38</td>\n",
              "    </tr>\n",
              "    <tr>\n",
              "      <th>POS</th>\n",
              "      <td>63115</td>\n",
              "    </tr>\n",
              "    <tr>\n",
              "      <th>REF</th>\n",
              "      <td>866</td>\n",
              "    </tr>\n",
              "    <tr>\n",
              "      <th>ALT</th>\n",
              "      <td>458</td>\n",
              "    </tr>\n",
              "    <tr>\n",
              "      <th>AF_ESP</th>\n",
              "      <td>2842</td>\n",
              "    </tr>\n",
              "    <tr>\n",
              "      <th>AF_EXAC</th>\n",
              "      <td>6667</td>\n",
              "    </tr>\n",
              "    <tr>\n",
              "      <th>AF_TGP</th>\n",
              "      <td>2087</td>\n",
              "    </tr>\n",
              "    <tr>\n",
              "      <th>CLNDISDB</th>\n",
              "      <td>9234</td>\n",
              "    </tr>\n",
              "    <tr>\n",
              "      <th>CLNDISDBINCL</th>\n",
              "      <td>94</td>\n",
              "    </tr>\n",
              "    <tr>\n",
              "      <th>CLNDN</th>\n",
              "      <td>9260</td>\n",
              "    </tr>\n",
              "    <tr>\n",
              "      <th>CLNDNINCL</th>\n",
              "      <td>102</td>\n",
              "    </tr>\n",
              "    <tr>\n",
              "      <th>CLNHGVS</th>\n",
              "      <td>65188</td>\n",
              "    </tr>\n",
              "    <tr>\n",
              "      <th>CLNSIGINCL</th>\n",
              "      <td>138</td>\n",
              "    </tr>\n",
              "    <tr>\n",
              "      <th>CLNVC</th>\n",
              "      <td>7</td>\n",
              "    </tr>\n",
              "    <tr>\n",
              "      <th>CLNVI</th>\n",
              "      <td>27655</td>\n",
              "    </tr>\n",
              "    <tr>\n",
              "      <th>MC</th>\n",
              "      <td>91</td>\n",
              "    </tr>\n",
              "    <tr>\n",
              "      <th>ORIGIN</th>\n",
              "      <td>31</td>\n",
              "    </tr>\n",
              "    <tr>\n",
              "      <th>SSR</th>\n",
              "      <td>3</td>\n",
              "    </tr>\n",
              "    <tr>\n",
              "      <th>CLASS</th>\n",
              "      <td>2</td>\n",
              "    </tr>\n",
              "    <tr>\n",
              "      <th>Allele</th>\n",
              "      <td>374</td>\n",
              "    </tr>\n",
              "    <tr>\n",
              "      <th>Consequence</th>\n",
              "      <td>48</td>\n",
              "    </tr>\n",
              "    <tr>\n",
              "      <th>IMPACT</th>\n",
              "      <td>4</td>\n",
              "    </tr>\n",
              "    <tr>\n",
              "      <th>SYMBOL</th>\n",
              "      <td>2329</td>\n",
              "    </tr>\n",
              "    <tr>\n",
              "      <th>Feature_type</th>\n",
              "      <td>3</td>\n",
              "    </tr>\n",
              "    <tr>\n",
              "      <th>Feature</th>\n",
              "      <td>2370</td>\n",
              "    </tr>\n",
              "    <tr>\n",
              "      <th>BIOTYPE</th>\n",
              "      <td>3</td>\n",
              "    </tr>\n",
              "    <tr>\n",
              "      <th>EXON</th>\n",
              "      <td>3265</td>\n",
              "    </tr>\n",
              "    <tr>\n",
              "      <th>INTRON</th>\n",
              "      <td>1930</td>\n",
              "    </tr>\n",
              "    <tr>\n",
              "      <th>cDNA_position</th>\n",
              "      <td>13971</td>\n",
              "    </tr>\n",
              "    <tr>\n",
              "      <th>CDS_position</th>\n",
              "      <td>13664</td>\n",
              "    </tr>\n",
              "    <tr>\n",
              "      <th>Protein_position</th>\n",
              "      <td>7340</td>\n",
              "    </tr>\n",
              "    <tr>\n",
              "      <th>Amino_acids</th>\n",
              "      <td>1263</td>\n",
              "    </tr>\n",
              "    <tr>\n",
              "      <th>Codons</th>\n",
              "      <td>2221</td>\n",
              "    </tr>\n",
              "    <tr>\n",
              "      <th>DISTANCE</th>\n",
              "      <td>97</td>\n",
              "    </tr>\n",
              "    <tr>\n",
              "      <th>STRAND</th>\n",
              "      <td>3</td>\n",
              "    </tr>\n",
              "    <tr>\n",
              "      <th>BAM_EDIT</th>\n",
              "      <td>3</td>\n",
              "    </tr>\n",
              "    <tr>\n",
              "      <th>SIFT</th>\n",
              "      <td>5</td>\n",
              "    </tr>\n",
              "    <tr>\n",
              "      <th>PolyPhen</th>\n",
              "      <td>5</td>\n",
              "    </tr>\n",
              "    <tr>\n",
              "      <th>MOTIF_NAME</th>\n",
              "      <td>3</td>\n",
              "    </tr>\n",
              "    <tr>\n",
              "      <th>MOTIF_POS</th>\n",
              "      <td>2</td>\n",
              "    </tr>\n",
              "    <tr>\n",
              "      <th>HIGH_INF_POS</th>\n",
              "      <td>2</td>\n",
              "    </tr>\n",
              "    <tr>\n",
              "      <th>MOTIF_SCORE_CHANGE</th>\n",
              "      <td>3</td>\n",
              "    </tr>\n",
              "    <tr>\n",
              "      <th>LoFtool</th>\n",
              "      <td>1196</td>\n",
              "    </tr>\n",
              "    <tr>\n",
              "      <th>CADD_PHRED</th>\n",
              "      <td>9325</td>\n",
              "    </tr>\n",
              "    <tr>\n",
              "      <th>CADD_RAW</th>\n",
              "      <td>63804</td>\n",
              "    </tr>\n",
              "    <tr>\n",
              "      <th>BLOSUM62</th>\n",
              "      <td>7</td>\n",
              "    </tr>\n",
              "  </tbody>\n",
              "</table>\n",
              "</div>\n",
              "      <button class=\"colab-df-convert\" onclick=\"convertToInteractive('df-8b319289-645d-433d-8add-07f928f63ed3')\"\n",
              "              title=\"Convert this dataframe to an interactive table.\"\n",
              "              style=\"display:none;\">\n",
              "        \n",
              "  <svg xmlns=\"http://www.w3.org/2000/svg\" height=\"24px\"viewBox=\"0 0 24 24\"\n",
              "       width=\"24px\">\n",
              "    <path d=\"M0 0h24v24H0V0z\" fill=\"none\"/>\n",
              "    <path d=\"M18.56 5.44l.94 2.06.94-2.06 2.06-.94-2.06-.94-.94-2.06-.94 2.06-2.06.94zm-11 1L8.5 8.5l.94-2.06 2.06-.94-2.06-.94L8.5 2.5l-.94 2.06-2.06.94zm10 10l.94 2.06.94-2.06 2.06-.94-2.06-.94-.94-2.06-.94 2.06-2.06.94z\"/><path d=\"M17.41 7.96l-1.37-1.37c-.4-.4-.92-.59-1.43-.59-.52 0-1.04.2-1.43.59L10.3 9.45l-7.72 7.72c-.78.78-.78 2.05 0 2.83L4 21.41c.39.39.9.59 1.41.59.51 0 1.02-.2 1.41-.59l7.78-7.78 2.81-2.81c.8-.78.8-2.07 0-2.86zM5.41 20L4 18.59l7.72-7.72 1.47 1.35L5.41 20z\"/>\n",
              "  </svg>\n",
              "      </button>\n",
              "      \n",
              "  <style>\n",
              "    .colab-df-container {\n",
              "      display:flex;\n",
              "      flex-wrap:wrap;\n",
              "      gap: 12px;\n",
              "    }\n",
              "\n",
              "    .colab-df-convert {\n",
              "      background-color: #E8F0FE;\n",
              "      border: none;\n",
              "      border-radius: 50%;\n",
              "      cursor: pointer;\n",
              "      display: none;\n",
              "      fill: #1967D2;\n",
              "      height: 32px;\n",
              "      padding: 0 0 0 0;\n",
              "      width: 32px;\n",
              "    }\n",
              "\n",
              "    .colab-df-convert:hover {\n",
              "      background-color: #E2EBFA;\n",
              "      box-shadow: 0px 1px 2px rgba(60, 64, 67, 0.3), 0px 1px 3px 1px rgba(60, 64, 67, 0.15);\n",
              "      fill: #174EA6;\n",
              "    }\n",
              "\n",
              "    [theme=dark] .colab-df-convert {\n",
              "      background-color: #3B4455;\n",
              "      fill: #D2E3FC;\n",
              "    }\n",
              "\n",
              "    [theme=dark] .colab-df-convert:hover {\n",
              "      background-color: #434B5C;\n",
              "      box-shadow: 0px 1px 3px 1px rgba(0, 0, 0, 0.15);\n",
              "      filter: drop-shadow(0px 1px 2px rgba(0, 0, 0, 0.3));\n",
              "      fill: #FFFFFF;\n",
              "    }\n",
              "  </style>\n",
              "\n",
              "      <script>\n",
              "        const buttonEl =\n",
              "          document.querySelector('#df-8b319289-645d-433d-8add-07f928f63ed3 button.colab-df-convert');\n",
              "        buttonEl.style.display =\n",
              "          google.colab.kernel.accessAllowed ? 'block' : 'none';\n",
              "\n",
              "        async function convertToInteractive(key) {\n",
              "          const element = document.querySelector('#df-8b319289-645d-433d-8add-07f928f63ed3');\n",
              "          const dataTable =\n",
              "            await google.colab.kernel.invokeFunction('convertToInteractive',\n",
              "                                                     [key], {});\n",
              "          if (!dataTable) return;\n",
              "\n",
              "          const docLinkHtml = 'Like what you see? Visit the ' +\n",
              "            '<a target=\"_blank\" href=https://colab.research.google.com/notebooks/data_table.ipynb>data table notebook</a>'\n",
              "            + ' to learn more about interactive tables.';\n",
              "          element.innerHTML = '';\n",
              "          dataTable['output_type'] = 'display_data';\n",
              "          await google.colab.output.renderOutput(dataTable, element);\n",
              "          const docLink = document.createElement('div');\n",
              "          docLink.innerHTML = docLinkHtml;\n",
              "          element.appendChild(docLink);\n",
              "        }\n",
              "      </script>\n",
              "    </div>\n",
              "  </div>\n",
              "  "
            ]
          },
          "metadata": {},
          "execution_count": 7
        }
      ],
      "source": [
        "# get unique values of a column in a Pandas dataframe\n",
        "pd.DataFrame([[i, len(dataFile[i].unique())] \n",
        "              for i in dataFile.columns],\n",
        "             columns=['Variable', 'Unique Values']).set_index('Variable')"
      ]
    },
    {
      "cell_type": "code",
      "execution_count": 8,
      "metadata": {
        "id": "sOvADTDUQEyn"
      },
      "outputs": [],
      "source": [
        "#\n",
        "unique_columns = pd.DataFrame([[i, len(dataFile[i].unique())] for i in\n",
        "                              dataFile.columns], columns=['Variable',\n",
        "                              'Unique Values']).set_index('Variable')\n",
        "to_drop = list(unique_columns[unique_columns['Unique Values']\n",
        "               > 3000].index)\n",
        "dataFile.drop(to_drop, axis=1, inplace=True)"
      ]
    },
    {
      "cell_type": "code",
      "execution_count": 9,
      "metadata": {
        "colab": {
          "base_uri": "https://localhost:8080/",
          "height": 1000
        },
        "id": "s1Sks8tzRHMr",
        "outputId": "a52d733e-e190-4a9c-e3a7-2d32fb0935cc"
      },
      "outputs": [
        {
          "output_type": "execute_result",
          "data": {
            "text/plain": [
              "                    Unique Values\n",
              "Variable                         \n",
              "CHROM                          38\n",
              "POS                         63115\n",
              "REF                           866\n",
              "ALT                           458\n",
              "AF_ESP                       2842\n",
              "AF_EXAC                      6667\n",
              "AF_TGP                       2087\n",
              "CLNDISDB                     9234\n",
              "CLNDISDBINCL                   94\n",
              "CLNDN                        9260\n",
              "CLNDNINCL                     102\n",
              "CLNHGVS                     65188\n",
              "CLNSIGINCL                    138\n",
              "CLNVC                           7\n",
              "CLNVI                       27655\n",
              "MC                             91\n",
              "ORIGIN                         31\n",
              "SSR                             3\n",
              "CLASS                           2\n",
              "Allele                        374\n",
              "Consequence                    48\n",
              "IMPACT                          4\n",
              "SYMBOL                       2329\n",
              "Feature_type                    3\n",
              "Feature                      2370\n",
              "BIOTYPE                         3\n",
              "EXON                         3265\n",
              "INTRON                       1930\n",
              "cDNA_position               13971\n",
              "CDS_position                13664\n",
              "Protein_position             7340\n",
              "Amino_acids                  1263\n",
              "Codons                       2221\n",
              "DISTANCE                       97\n",
              "STRAND                          3\n",
              "BAM_EDIT                        3\n",
              "SIFT                            5\n",
              "PolyPhen                        5\n",
              "MOTIF_NAME                      3\n",
              "MOTIF_POS                       2\n",
              "HIGH_INF_POS                    2\n",
              "MOTIF_SCORE_CHANGE              3\n",
              "LoFtool                      1196\n",
              "CADD_PHRED                   9325\n",
              "CADD_RAW                    63804\n",
              "BLOSUM62                        7"
            ]
          },
          "execution_count": 5,
          "metadata": {},
          "output_type": "execute_result"
        }
      ],
      "source": [
        "# get unique values of a column in a Pandas dataframe\n",
        "pd.DataFrame([[i, len(dataFile[i].unique())] \n",
        "              for i in dataFile.columns],\n",
        "             columns=['Variable', 'Unique Values']).set_index('Variable')"
      ]
    },
    {
      "cell_type": "code",
      "execution_count": null,
      "metadata": {
        "id": "sOvADTDUQEyn"
      },
      "outputs": [],
      "source": [
        "#\n",
        "unique_columns = pd.DataFrame([[i, len(dataFile[i].unique())] for i in\n",
        "                              dataFile.columns], columns=['Variable',\n",
        "                              'Unique Values']).set_index('Variable')\n",
        "to_drop = list(unique_columns[unique_columns['Unique Values']\n",
        "               > 3000].index)\n",
        "dataFile.drop(to_drop, axis=1, inplace=True)"
      ]
    },
    {
      "cell_type": "code",
      "execution_count": null,
      "metadata": {
        "colab": {
          "base_uri": "https://localhost:8080/",
          "height": 1000
        },
        "id": "s1Sks8tzRHMr",
        "outputId": "1654301a-9722-4a48-f09d-9eb4f70ee86e"
      },
      "outputs": [
        {
          "data": {
            "text/html": [
              "\n",
              "  <div id=\"df-db08941a-b9b7-473c-9df4-0e723d2b1541\">\n",
              "    <div class=\"colab-df-container\">\n",
              "      <div>\n",
              "<style scoped>\n",
              "    .dataframe tbody tr th:only-of-type {\n",
              "        vertical-align: middle;\n",
              "    }\n",
              "\n",
              "    .dataframe tbody tr th {\n",
              "        vertical-align: top;\n",
              "    }\n",
              "\n",
              "    .dataframe thead th {\n",
              "        text-align: right;\n",
              "    }\n",
              "</style>\n",
              "<table border=\"1\" class=\"dataframe\">\n",
              "  <thead>\n",
              "    <tr style=\"text-align: right;\">\n",
              "      <th></th>\n",
              "      <th>Unique Values</th>\n",
              "    </tr>\n",
              "    <tr>\n",
              "      <th>Variable</th>\n",
              "      <th></th>\n",
              "    </tr>\n",
              "  </thead>\n",
              "  <tbody>\n",
              "    <tr>\n",
              "      <th>CHROM</th>\n",
              "      <td>38</td>\n",
              "    </tr>\n",
              "    <tr>\n",
              "      <th>REF</th>\n",
              "      <td>866</td>\n",
              "    </tr>\n",
              "    <tr>\n",
              "      <th>ALT</th>\n",
              "      <td>458</td>\n",
              "    </tr>\n",
              "    <tr>\n",
              "      <th>AF_ESP</th>\n",
              "      <td>2842</td>\n",
              "    </tr>\n",
              "    <tr>\n",
              "      <th>AF_TGP</th>\n",
              "      <td>2087</td>\n",
              "    </tr>\n",
              "    <tr>\n",
              "      <th>CLNDISDBINCL</th>\n",
              "      <td>94</td>\n",
              "    </tr>\n",
              "    <tr>\n",
              "      <th>CLNDNINCL</th>\n",
              "      <td>102</td>\n",
              "    </tr>\n",
              "    <tr>\n",
              "      <th>CLNSIGINCL</th>\n",
              "      <td>138</td>\n",
              "    </tr>\n",
              "    <tr>\n",
              "      <th>CLNVC</th>\n",
              "      <td>7</td>\n",
              "    </tr>\n",
              "    <tr>\n",
              "      <th>MC</th>\n",
              "      <td>91</td>\n",
              "    </tr>\n",
              "    <tr>\n",
              "      <th>ORIGIN</th>\n",
              "      <td>31</td>\n",
              "    </tr>\n",
              "    <tr>\n",
              "      <th>SSR</th>\n",
              "      <td>3</td>\n",
              "    </tr>\n",
              "    <tr>\n",
              "      <th>CLASS</th>\n",
              "      <td>2</td>\n",
              "    </tr>\n",
              "    <tr>\n",
              "      <th>Allele</th>\n",
              "      <td>374</td>\n",
              "    </tr>\n",
              "    <tr>\n",
              "      <th>Consequence</th>\n",
              "      <td>48</td>\n",
              "    </tr>\n",
              "    <tr>\n",
              "      <th>IMPACT</th>\n",
              "      <td>4</td>\n",
              "    </tr>\n",
              "    <tr>\n",
              "      <th>SYMBOL</th>\n",
              "      <td>2329</td>\n",
              "    </tr>\n",
              "    <tr>\n",
              "      <th>Feature_type</th>\n",
              "      <td>3</td>\n",
              "    </tr>\n",
              "    <tr>\n",
              "      <th>Feature</th>\n",
              "      <td>2370</td>\n",
              "    </tr>\n",
              "    <tr>\n",
              "      <th>BIOTYPE</th>\n",
              "      <td>3</td>\n",
              "    </tr>\n",
              "    <tr>\n",
              "      <th>INTRON</th>\n",
              "      <td>1930</td>\n",
              "    </tr>\n",
              "    <tr>\n",
              "      <th>Amino_acids</th>\n",
              "      <td>1263</td>\n",
              "    </tr>\n",
              "    <tr>\n",
              "      <th>Codons</th>\n",
              "      <td>2221</td>\n",
              "    </tr>\n",
              "    <tr>\n",
              "      <th>DISTANCE</th>\n",
              "      <td>97</td>\n",
              "    </tr>\n",
              "    <tr>\n",
              "      <th>STRAND</th>\n",
              "      <td>3</td>\n",
              "    </tr>\n",
              "    <tr>\n",
              "      <th>BAM_EDIT</th>\n",
              "      <td>3</td>\n",
              "    </tr>\n",
              "    <tr>\n",
              "      <th>SIFT</th>\n",
              "      <td>5</td>\n",
              "    </tr>\n",
              "    <tr>\n",
              "      <th>PolyPhen</th>\n",
              "      <td>5</td>\n",
              "    </tr>\n",
              "    <tr>\n",
              "      <th>MOTIF_NAME</th>\n",
              "      <td>3</td>\n",
              "    </tr>\n",
              "    <tr>\n",
              "      <th>MOTIF_POS</th>\n",
              "      <td>2</td>\n",
              "    </tr>\n",
              "    <tr>\n",
              "      <th>HIGH_INF_POS</th>\n",
              "      <td>2</td>\n",
              "    </tr>\n",
              "    <tr>\n",
              "      <th>MOTIF_SCORE_CHANGE</th>\n",
              "      <td>3</td>\n",
              "    </tr>\n",
              "    <tr>\n",
              "      <th>LoFtool</th>\n",
              "      <td>1196</td>\n",
              "    </tr>\n",
              "    <tr>\n",
              "      <th>BLOSUM62</th>\n",
              "      <td>7</td>\n",
              "    </tr>\n",
              "  </tbody>\n",
              "</table>\n",
              "</div>\n",
              "      <button class=\"colab-df-convert\" onclick=\"convertToInteractive('df-db08941a-b9b7-473c-9df4-0e723d2b1541')\"\n",
              "              title=\"Convert this dataframe to an interactive table.\"\n",
              "              style=\"display:none;\">\n",
              "        \n",
              "  <svg xmlns=\"http://www.w3.org/2000/svg\" height=\"24px\"viewBox=\"0 0 24 24\"\n",
              "       width=\"24px\">\n",
              "    <path d=\"M0 0h24v24H0V0z\" fill=\"none\"/>\n",
              "    <path d=\"M18.56 5.44l.94 2.06.94-2.06 2.06-.94-2.06-.94-.94-2.06-.94 2.06-2.06.94zm-11 1L8.5 8.5l.94-2.06 2.06-.94-2.06-.94L8.5 2.5l-.94 2.06-2.06.94zm10 10l.94 2.06.94-2.06 2.06-.94-2.06-.94-.94-2.06-.94 2.06-2.06.94z\"/><path d=\"M17.41 7.96l-1.37-1.37c-.4-.4-.92-.59-1.43-.59-.52 0-1.04.2-1.43.59L10.3 9.45l-7.72 7.72c-.78.78-.78 2.05 0 2.83L4 21.41c.39.39.9.59 1.41.59.51 0 1.02-.2 1.41-.59l7.78-7.78 2.81-2.81c.8-.78.8-2.07 0-2.86zM5.41 20L4 18.59l7.72-7.72 1.47 1.35L5.41 20z\"/>\n",
              "  </svg>\n",
              "      </button>\n",
              "      \n",
              "  <style>\n",
              "    .colab-df-container {\n",
              "      display:flex;\n",
              "      flex-wrap:wrap;\n",
              "      gap: 12px;\n",
              "    }\n",
              "\n",
              "    .colab-df-convert {\n",
              "      background-color: #E8F0FE;\n",
              "      border: none;\n",
              "      border-radius: 50%;\n",
              "      cursor: pointer;\n",
              "      display: none;\n",
              "      fill: #1967D2;\n",
              "      height: 32px;\n",
              "      padding: 0 0 0 0;\n",
              "      width: 32px;\n",
              "    }\n",
              "\n",
              "    .colab-df-convert:hover {\n",
              "      background-color: #E2EBFA;\n",
              "      box-shadow: 0px 1px 2px rgba(60, 64, 67, 0.3), 0px 1px 3px 1px rgba(60, 64, 67, 0.15);\n",
              "      fill: #174EA6;\n",
              "    }\n",
              "\n",
              "    [theme=dark] .colab-df-convert {\n",
              "      background-color: #3B4455;\n",
              "      fill: #D2E3FC;\n",
              "    }\n",
              "\n",
              "    [theme=dark] .colab-df-convert:hover {\n",
              "      background-color: #434B5C;\n",
              "      box-shadow: 0px 1px 3px 1px rgba(0, 0, 0, 0.15);\n",
              "      filter: drop-shadow(0px 1px 2px rgba(0, 0, 0, 0.3));\n",
              "      fill: #FFFFFF;\n",
              "    }\n",
              "  </style>\n",
              "\n",
              "      <script>\n",
              "        const buttonEl =\n",
              "          document.querySelector('#df-db08941a-b9b7-473c-9df4-0e723d2b1541 button.colab-df-convert');\n",
              "        buttonEl.style.display =\n",
              "          google.colab.kernel.accessAllowed ? 'block' : 'none';\n",
              "\n",
              "        async function convertToInteractive(key) {\n",
              "          const element = document.querySelector('#df-db08941a-b9b7-473c-9df4-0e723d2b1541');\n",
              "          const dataTable =\n",
              "            await google.colab.kernel.invokeFunction('convertToInteractive',\n",
              "                                                     [key], {});\n",
              "          if (!dataTable) return;\n",
              "\n",
              "          const docLinkHtml = 'Like what you see? Visit the ' +\n",
              "            '<a target=\"_blank\" href=https://colab.research.google.com/notebooks/data_table.ipynb>data table notebook</a>'\n",
              "            + ' to learn more about interactive tables.';\n",
              "          element.innerHTML = '';\n",
              "          dataTable['output_type'] = 'display_data';\n",
              "          await google.colab.output.renderOutput(dataTable, element);\n",
              "          const docLink = document.createElement('div');\n",
              "          docLink.innerHTML = docLinkHtml;\n",
              "          element.appendChild(docLink);\n",
              "        }\n",
              "      </script>\n",
              "    </div>\n",
              "  </div>\n",
              "  "
            ],
            "text/plain": [
              "                    Unique Values\n",
              "Variable                         \n",
              "CHROM                          38\n",
              "REF                           866\n",
              "ALT                           458\n",
              "AF_ESP                       2842\n",
              "AF_TGP                       2087\n",
              "CLNDISDBINCL                   94\n",
              "CLNDNINCL                     102\n",
              "CLNSIGINCL                    138\n",
              "CLNVC                           7\n",
              "MC                             91\n",
              "ORIGIN                         31\n",
              "SSR                             3\n",
              "CLASS                           2\n",
              "Allele                        374\n",
              "Consequence                    48\n",
              "IMPACT                          4\n",
              "SYMBOL                       2329\n",
              "Feature_type                    3\n",
              "Feature                      2370\n",
              "BIOTYPE                         3\n",
              "INTRON                       1930\n",
              "Amino_acids                  1263\n",
              "Codons                       2221\n",
              "DISTANCE                       97\n",
              "STRAND                          3\n",
              "BAM_EDIT                        3\n",
              "SIFT                            5\n",
              "PolyPhen                        5\n",
              "MOTIF_NAME                      3\n",
              "MOTIF_POS                       2\n",
              "HIGH_INF_POS                    2\n",
              "MOTIF_SCORE_CHANGE              3\n",
              "LoFtool                      1196\n",
              "BLOSUM62                        7"
            ]
          },
          "execution_count": 7,
          "metadata": {},
          "execution_count": 9
        }
      ],
      "source": [
        "pd.DataFrame([[i, len(dataFile[i].unique())] for i in dataFile.columns],\n",
        "             columns=['Variable', 'Unique Values']).set_index('Variable'\n",
        "        )"
      ]
    },
    {
      "cell_type": "code",
      "execution_count": 10,
      "metadata": {
        "id": "Mh37JSaUVEC-"
      },
      "outputs": [],
      "source": [
        "# Check and manage NULL values in the data frame.\n",
        "\n",
        "number_missing = dataFile.isnull().sum()\n",
        "percentage_missing = dataFile.isnull().sum().apply(lambda x: x \\\n",
        "        / dataFile.shape[0] * 100)"
      ]
    },
    {
      "cell_type": "code",
      "execution_count": 11,
      "metadata": {
        "colab": {
          "base_uri": "https://localhost:8080/"
        },
        "id": "-z1L9XWqWI1W",
        "outputId": "ba31b960-5dc4-4a58-da37-3c0bda96b29d"
      },
      "outputs": [
        {
          "data": {
            "text/plain": [
              "MOTIF_NAME            99.996932\n",
              "MOTIF_SCORE_CHANGE    99.996932\n",
              "HIGH_INF_POS          99.996932\n",
              "MOTIF_POS             99.996932\n",
              "DISTANCE              99.834325\n",
              "SSR                   99.800577\n",
              "CLNDISDBINCL          99.743818\n",
              "CLNDNINCL             99.743818\n",
              "CLNSIGINCL            99.743818\n",
              "INTRON                86.495981\n",
              "PolyPhen              61.962324\n",
              "SIFT                  61.900963\n",
              "BLOSUM62              60.739707\n",
              "BAM_EDIT              50.958765\n",
              "Amino_acids           15.346383\n",
              "Codons                15.346383\n",
              "LoFtool                6.462846\n",
              "MC                     1.297785\n",
              "SYMBOL                 0.024544\n",
              "BIOTYPE                0.024544\n",
              "STRAND                 0.021476\n",
              "Feature_type           0.021476\n",
              "Feature                0.021476\n",
              "REF                    0.000000\n",
              "IMPACT                 0.000000\n",
              "Consequence            0.000000\n",
              "Allele                 0.000000\n",
              "CLASS                  0.000000\n",
              "ORIGIN                 0.000000\n",
              "CLNVC                  0.000000\n",
              "AF_TGP                 0.000000\n",
              "AF_ESP                 0.000000\n",
              "ALT                    0.000000\n",
              "CHROM                  0.000000\n",
              "Name: Percentage Missing, dtype: float64"
            ]
          },
          "execution_count": 9,
          "metadata": {},
          "execution_count": 11
        }
      ],
      "source": [
        "data_missing = pd.DataFrame({'Number Missing': number_missing,\n",
        "                            'Percentage Missing': percentage_missing})\n",
        "\n",
        "# Percentage of missing data in the dataframe in descending order\n",
        "\n",
        "data_missing['Percentage Missing'].sort_values(ascending=False)"
      ]
    },
    {
      "cell_type": "code",
      "execution_count": 12,
      "metadata": {
        "colab": {
          "base_uri": "https://localhost:8080/"
        },
        "id": "zjFTJyvafkKb",
        "outputId": "de24bfb4-a617-4997-f8c9-81236e7a91a9"
      },
      "outputs": [
        {
          "data": {
            "text/plain": [
              "CHROM               0\n",
              "REF                 0\n",
              "ALT                 0\n",
              "AF_ESP              0\n",
              "AF_TGP              0\n",
              "CLNVC               0\n",
              "MC                846\n",
              "ORIGIN              0\n",
              "CLASS               0\n",
              "Allele              0\n",
              "Consequence         0\n",
              "IMPACT              0\n",
              "SYMBOL             16\n",
              "Feature_type       14\n",
              "Feature            14\n",
              "BIOTYPE            16\n",
              "Amino_acids     10004\n",
              "Codons          10004\n",
              "STRAND             14\n",
              "LoFtool          4213\n",
              "dtype: int64"
            ]
          },
          "execution_count": 10,
          "metadata": {},
          "execution_count": 12
        }
      ],
      "source": [
        "# Drop the columns where >= 20% of the data is missing\n",
        "\n",
        "list_to_drop = list(data_missing[data_missing['Percentage Missing']\n",
        "                 >= 20].index)\n",
        "dataFile.drop(list_to_drop, axis=1, inplace=True)\n",
        "\n",
        "# Check the NULL values in a data frame.\n",
        "\n",
        "dataFile.isnull().sum()"
      ]
    },
    {
      "cell_type": "code",
      "execution_count": 13,
      "metadata": {
        "colab": {
          "base_uri": "https://localhost:8080/",
          "height": 613
        },
        "id": "mZHZ3Z9DmzUc",
        "outputId": "1ad769ad-b724-4a39-b0e6-b3961fe091f2"
      },
      "outputs": [
        {
          "data": {
            "text/plain": [
              "<matplotlib.axes._subplots.AxesSubplot at 0x7f0d891683d0>"
            ]
          },
          "execution_count": 11,
          "metadata": {},
          "execution_count": 13
        },
        {
          "data": {
            "image/png": "[encoded data removed]",
            "text/plain": [
              "<Figure size 864x720 with 2 Axes>"
            ]
          },
          "metadata": {
            "needs_background": "light"
          },
          "output_type": "display_data"
        }
      ],
      "source": [
        "# Create a new figure with the specified width and height\n",
        "# Display dataFrame as heatmap\n",
        "\n",
        "plt.figure(figsize=(12, 10))\n",
        "sns.heatmap(dataFile.corr(), annot=True, linewidths=.5, cmap=plt.cm.cool)"
      ]
    },
    {
      "cell_type": "code",
      "execution_count": 14,
      "metadata": {
        "id": "NL6zbaqppPZt"
      },
      "outputs": [],
      "source": [
        "# Drop the AF_TGP column that is strongly correlated\n",
        "# Correlation for AF_ESP with AF_TGP is above 0.8\n",
        "\n",
        "dataFile.drop(['AF_TGP'],axis = 1, inplace=True)"
      ]
    },
    {
      "cell_type": "code",
      "execution_count": 15,
      "metadata": {
        "colab": {
          "base_uri": "https://localhost:8080/"
        },
        "id": "c9-hDlyqqzwp",
        "outputId": "64fa6710-c137-494f-d039-e309164e9e2d"
      },
      "outputs": [
        {
          "data": {
            "text/plain": [
              "MC               object\n",
              "SYMBOL           object\n",
              "Feature_type     object\n",
              "Feature          object\n",
              "BIOTYPE          object\n",
              "Amino_acids      object\n",
              "Codons           object\n",
              "STRAND          float64\n",
              "LoFtool         float64\n",
              "dtype: object"
            ]
          },
          "execution_count": 13,
          "metadata": {},
          "execution_count": 15
        }
      ],
      "source": [
        "# Return the data type of each column in the DataFrame\n",
        "# count the number of missing values instead.\n",
        "# dataFile.isnull().sum() returns the number of missing values for each column\n",
        "\n",
        "df_data = pd.DataFrame(dataFile.isnull().sum().astype(int),\n",
        "                       columns=['Null'])\n",
        "nullList = list(df_data[df_data['Null'] != 0].index)\n",
        "dataFile[nullList].dtypes"
      ]
    },
    {
      "cell_type": "code",
      "execution_count": 16,
      "metadata": {
        "colab": {
          "base_uri": "https://localhost:8080/"
        },
        "id": "id_-7SFRwLmn",
        "outputId": "d416dd8c-bc79-4990-a52c-5392cbf8c699"
      },
      "outputs": [
        {
          "data": {
            "text/plain": [
              "CHROM           0\n",
              "REF             0\n",
              "ALT             0\n",
              "AF_ESP          0\n",
              "CLNVC           0\n",
              "MC              0\n",
              "ORIGIN          0\n",
              "CLASS           0\n",
              "Allele          0\n",
              "Consequence     0\n",
              "IMPACT          0\n",
              "SYMBOL          0\n",
              "Feature_type    0\n",
              "Feature         0\n",
              "BIOTYPE         0\n",
              "Amino_acids     0\n",
              "Codons          0\n",
              "STRAND          0\n",
              "LoFtool         0\n",
              "dtype: int64"
            ]
          },
          "execution_count": 14,
          "metadata": {},
          "execution_count": 16
        }
      ],
      "source": [
        "# Feature Transformation\n",
        "# Replace nan with most frequent value in these columns\n",
        "# Columns: MC, SYMBOL, Feature_type, Feature, BIOTYPE, Amino_acids, Codons, STRAND\n",
        "\n",
        "for x in [\n",
        "    'MC',\n",
        "    'SYMBOL',\n",
        "    'Feature_type',\n",
        "    'Feature',\n",
        "    'BIOTYPE',\n",
        "    'STRAND',\n",
        "    'Amino_acids',\n",
        "    'Codons',\n",
        "    ]:\n",
        "    dataFile[x].fillna(dataFile[x].mode()[0], inplace=True)\n",
        "\n",
        "# Replace the nan value in LoFtool column with mean\n",
        "\n",
        "dataFile['LoFtool'].fillna(dataFile['LoFtool'].mean(), inplace=True)\n",
        "\n",
        "# check NULL values in a data frame\n",
        "\n",
        "dataFile.isnull().sum()"
      ]
    },
    {
      "cell_type": "code",
      "execution_count": 17,
      "metadata": {
        "id": "yHHdOjZJ0sOA"
      },
      "outputs": [],
      "source": [
        "# Look at the number of unique values each variable takes, and then create\n",
        "# and then create list variables for numeric, binary, categorical, and ordinal variables.\n",
        "\n",
        "dt = pd.DataFrame([[str(i), dataFile[i].dtypes == 'object'] for i in\n",
        "                  dataFile.columns], columns=['Variable', 'Object Type'\n",
        "                  ]).set_index('Variable')\n",
        "columns_object_type = list(dt[dt['Object Type'] == True].index)"
      ]
    },
    {
      "cell_type": "code",
      "execution_count": 18,
      "metadata": {
        "colab": {
          "base_uri": "https://localhost:8080/",
          "height": 520
        },
        "id": "vIdJuPNC1mCL",
        "outputId": "f3d99182-3117-4583-e0c1-4e0b2ed50180"
      },
      "outputs": [
        {
          "data": {
            "text/html": [
              "\n",
              "  <div id=\"df-f47cf58f-2632-4231-a941-4800e1ac9580\">\n",
              "    <div class=\"colab-df-container\">\n",
              "      <div>\n",
              "<style scoped>\n",
              "    .dataframe tbody tr th:only-of-type {\n",
              "        vertical-align: middle;\n",
              "    }\n",
              "\n",
              "    .dataframe tbody tr th {\n",
              "        vertical-align: top;\n",
              "    }\n",
              "\n",
              "    .dataframe thead th {\n",
              "        text-align: right;\n",
              "    }\n",
              "</style>\n",
              "<table border=\"1\" class=\"dataframe\">\n",
              "  <thead>\n",
              "    <tr style=\"text-align: right;\">\n",
              "      <th></th>\n",
              "      <th>Unique Values</th>\n",
              "    </tr>\n",
              "    <tr>\n",
              "      <th>Variable</th>\n",
              "      <th></th>\n",
              "    </tr>\n",
              "  </thead>\n",
              "  <tbody>\n",
              "    <tr>\n",
              "      <th>CHROM</th>\n",
              "      <td>38</td>\n",
              "    </tr>\n",
              "    <tr>\n",
              "      <th>REF</th>\n",
              "      <td>866</td>\n",
              "    </tr>\n",
              "    <tr>\n",
              "      <th>ALT</th>\n",
              "      <td>458</td>\n",
              "    </tr>\n",
              "    <tr>\n",
              "      <th>CLNVC</th>\n",
              "      <td>7</td>\n",
              "    </tr>\n",
              "    <tr>\n",
              "      <th>MC</th>\n",
              "      <td>90</td>\n",
              "    </tr>\n",
              "    <tr>\n",
              "      <th>Allele</th>\n",
              "      <td>374</td>\n",
              "    </tr>\n",
              "    <tr>\n",
              "      <th>Consequence</th>\n",
              "      <td>48</td>\n",
              "    </tr>\n",
              "    <tr>\n",
              "      <th>IMPACT</th>\n",
              "      <td>4</td>\n",
              "    </tr>\n",
              "    <tr>\n",
              "      <th>SYMBOL</th>\n",
              "      <td>2328</td>\n",
              "    </tr>\n",
              "    <tr>\n",
              "      <th>Feature_type</th>\n",
              "      <td>2</td>\n",
              "    </tr>\n",
              "    <tr>\n",
              "      <th>Feature</th>\n",
              "      <td>2369</td>\n",
              "    </tr>\n",
              "    <tr>\n",
              "      <th>BIOTYPE</th>\n",
              "      <td>2</td>\n",
              "    </tr>\n",
              "    <tr>\n",
              "      <th>Amino_acids</th>\n",
              "      <td>1262</td>\n",
              "    </tr>\n",
              "    <tr>\n",
              "      <th>Codons</th>\n",
              "      <td>2220</td>\n",
              "    </tr>\n",
              "  </tbody>\n",
              "</table>\n",
              "</div>\n",
              "      <button class=\"colab-df-convert\" onclick=\"convertToInteractive('df-f47cf58f-2632-4231-a941-4800e1ac9580')\"\n",
              "              title=\"Convert this dataframe to an interactive table.\"\n",
              "              style=\"display:none;\">\n",
              "        \n",
              "  <svg xmlns=\"http://www.w3.org/2000/svg\" height=\"24px\"viewBox=\"0 0 24 24\"\n",
              "       width=\"24px\">\n",
              "    <path d=\"M0 0h24v24H0V0z\" fill=\"none\"/>\n",
              "    <path d=\"M18.56 5.44l.94 2.06.94-2.06 2.06-.94-2.06-.94-.94-2.06-.94 2.06-2.06.94zm-11 1L8.5 8.5l.94-2.06 2.06-.94-2.06-.94L8.5 2.5l-.94 2.06-2.06.94zm10 10l.94 2.06.94-2.06 2.06-.94-2.06-.94-.94-2.06-.94 2.06-2.06.94z\"/><path d=\"M17.41 7.96l-1.37-1.37c-.4-.4-.92-.59-1.43-.59-.52 0-1.04.2-1.43.59L10.3 9.45l-7.72 7.72c-.78.78-.78 2.05 0 2.83L4 21.41c.39.39.9.59 1.41.59.51 0 1.02-.2 1.41-.59l7.78-7.78 2.81-2.81c.8-.78.8-2.07 0-2.86zM5.41 20L4 18.59l7.72-7.72 1.47 1.35L5.41 20z\"/>\n",
              "  </svg>\n",
              "      </button>\n",
              "      \n",
              "  <style>\n",
              "    .colab-df-container {\n",
              "      display:flex;\n",
              "      flex-wrap:wrap;\n",
              "      gap: 12px;\n",
              "    }\n",
              "\n",
              "    .colab-df-convert {\n",
              "      background-color: #E8F0FE;\n",
              "      border: none;\n",
              "      border-radius: 50%;\n",
              "      cursor: pointer;\n",
              "      display: none;\n",
              "      fill: #1967D2;\n",
              "      height: 32px;\n",
              "      padding: 0 0 0 0;\n",
              "      width: 32px;\n",
              "    }\n",
              "\n",
              "    .colab-df-convert:hover {\n",
              "      background-color: #E2EBFA;\n",
              "      box-shadow: 0px 1px 2px rgba(60, 64, 67, 0.3), 0px 1px 3px 1px rgba(60, 64, 67, 0.15);\n",
              "      fill: #174EA6;\n",
              "    }\n",
              "\n",
              "    [theme=dark] .colab-df-convert {\n",
              "      background-color: #3B4455;\n",
              "      fill: #D2E3FC;\n",
              "    }\n",
              "\n",
              "    [theme=dark] .colab-df-convert:hover {\n",
              "      background-color: #434B5C;\n",
              "      box-shadow: 0px 1px 3px 1px rgba(0, 0, 0, 0.15);\n",
              "      filter: drop-shadow(0px 1px 2px rgba(0, 0, 0, 0.3));\n",
              "      fill: #FFFFFF;\n",
              "    }\n",
              "  </style>\n",
              "\n",
              "      <script>\n",
              "        const buttonEl =\n",
              "          document.querySelector('#df-f47cf58f-2632-4231-a941-4800e1ac9580 button.colab-df-convert');\n",
              "        buttonEl.style.display =\n",
              "          google.colab.kernel.accessAllowed ? 'block' : 'none';\n",
              "\n",
              "        async function convertToInteractive(key) {\n",
              "          const element = document.querySelector('#df-f47cf58f-2632-4231-a941-4800e1ac9580');\n",
              "          const dataTable =\n",
              "            await google.colab.kernel.invokeFunction('convertToInteractive',\n",
              "                                                     [key], {});\n",
              "          if (!dataTable) return;\n",
              "\n",
              "          const docLinkHtml = 'Like what you see? Visit the ' +\n",
              "            '<a target=\"_blank\" href=https://colab.research.google.com/notebooks/data_table.ipynb>data table notebook</a>'\n",
              "            + ' to learn more about interactive tables.';\n",
              "          element.innerHTML = '';\n",
              "          dataTable['output_type'] = 'display_data';\n",
              "          await google.colab.output.renderOutput(dataTable, element);\n",
              "          const docLink = document.createElement('div');\n",
              "          docLink.innerHTML = docLinkHtml;\n",
              "          element.appendChild(docLink);\n",
              "        }\n",
              "      </script>\n",
              "    </div>\n",
              "  </div>\n",
              "  "
            ],
            "text/plain": [
              "              Unique Values\n",
              "Variable                   \n",
              "CHROM                    38\n",
              "REF                     866\n",
              "ALT                     458\n",
              "CLNVC                     7\n",
              "MC                       90\n",
              "Allele                  374\n",
              "Consequence              48\n",
              "IMPACT                    4\n",
              "SYMBOL                 2328\n",
              "Feature_type              2\n",
              "Feature                2369\n",
              "BIOTYPE                   2\n",
              "Amino_acids            1262\n",
              "Codons                 2220"
            ]
          },
          "execution_count": 16,
          "metadata": {},
          "execution_count": 18
        }
      ],
      "source": [
        "# Unique value on each column in dataframe\n",
        "\n",
        "df_data = dataFile[columns_object_type]\n",
        "df_unique_values = pd.DataFrame([[i, len(df_data[i].unique())] for i in\n",
        "                                df_data.columns], columns=['Variable',\n",
        "                                'Unique Values']).set_index('Variable')\n",
        "df_unique_values"
      ]
    },
    {
      "cell_type": "code",
      "execution_count": 19,
      "metadata": {
        "colab": {
          "base_uri": "https://localhost:8080/"
        },
        "id": "4z3tq8VN3Oi8",
        "outputId": "b9b2f231-dab7-4c0a-a2c7-bd992e1b404e"
      },
      "outputs": [
        {
          "data": {
            "text/plain": [
              "['Feature_type', 'BIOTYPE']"
            ]
          },
          "execution_count": 17,
          "metadata": {},
          "execution_count": 19
        }
      ],
      "source": [
        "# Check which variables are binary\n",
        "\n",
        "variables_bin = list(df_unique_values[df_unique_values['Unique Values']\n",
        "                     == 2].index)\n",
        "variables_bin"
      ]
    },
    {
      "cell_type": "code",
      "execution_count": 20,
      "metadata": {
        "colab": {
          "base_uri": "https://localhost:8080/"
        },
        "id": "0BnoCupg4mJS",
        "outputId": "21a8d85e-a415-4eca-b024-8fe348f3fd61"
      },
      "outputs": [
        {
          "data": {
            "text/plain": [
              "['CHROM',\n",
              " 'REF',\n",
              " 'ALT',\n",
              " 'CLNVC',\n",
              " 'MC',\n",
              " 'Allele',\n",
              " 'Consequence',\n",
              " 'IMPACT',\n",
              " 'SYMBOL',\n",
              " 'Feature',\n",
              " 'Amino_acids',\n",
              " 'Codons']"
            ]
          },
          "execution_count": 18,
          "metadata": {},
          "execution_count": 20
        }
      ],
      "source": [
        "# Check which variables are categorical\n",
        "\n",
        "variables_categorical = list(df_unique_values[df_unique_values['Unique Values']\n",
        "                     > 2].index)\n",
        "variables_categorical"
      ]
    },
    {
      "cell_type": "code",
      "execution_count": 21,
      "metadata": {
        "colab": {
          "base_uri": "https://localhost:8080/"
        },
        "id": "3qrzAsU24Pqm",
        "outputId": "2ab614c3-ee74-4e22-a834-4af024c4898f"
      },
      "outputs": [
        {
          "data": {
            "text/plain": [
              "CHROM          object\n",
              "REF            object\n",
              "ALT            object\n",
              "CLNVC          object\n",
              "MC             object\n",
              "Allele         object\n",
              "Consequence    object\n",
              "IMPACT         object\n",
              "SYMBOL         object\n",
              "Feature        object\n",
              "Amino_acids    object\n",
              "Codons         object\n",
              "dtype: object"
            ]
          },
          "execution_count": 19,
          "metadata": {},
          "execution_count": 21
        }
      ],
      "source": [
        "# Apply function with lambda along the row\n",
        "\n",
        "for col in variables_categorical:\n",
        "    dataFile[col] = dataFile[col].apply(lambda x: str(x))\n",
        "\n",
        "dataFile[variables_categorical].dtypes"
      ]
    },
    {
      "cell_type": "code",
      "execution_count": 22,
      "metadata": {
        "colab": {
          "base_uri": "https://localhost:8080/"
        },
        "id": "CPw3hcCs65Sj",
        "outputId": "83082f4d-cb46-409d-af0c-bf57ce106a04"
      },
      "outputs": [
        {
          "output_type": "execute_result",
          "data": {
            "text/plain": [
              "LoFtool    float64\n",
              "AF_ESP     float64\n",
              "CLASS        int64\n",
              "ORIGIN       int64\n",
              "STRAND     float64\n",
              "dtype: object"
            ]
          },
          "metadata": {},
          "execution_count": 22
        }
      ],
      "source": [
        "# numeric\n",
        "\n",
        "variables_numeric = list(set(dataFile.columns)\n",
        "                         - set(variables_categorical)\n",
        "                         - set(variables_bin))\n",
        "dataFile[variables_numeric].dtypes"
      ]
    },
    {
      "cell_type": "code",
      "execution_count": 23,
      "metadata": {
        "colab": {
          "base_uri": "https://localhost:8080/",
          "height": 206
        },
        "id": "6ku6eQDY8T7y",
        "outputId": "f2d75a48-2bb1-423d-bd40-71afc07e5c29"
      },
      "outputs": [
        {
          "data": {
            "text/plain": [
              "       CHROM  REF  ALT  AF_ESP  CLNVC  MC  ORIGIN  CLASS  Allele  Consequence  \\\n",
              "27372      7  224  213     0.0      6  24       1      0     168           17   \n",
              "14638      2  437    0     0.0      6  19       1      0       1           17   \n",
              "58388     19  437    0     0.0      6  19       1      1       1           18   \n",
              "32240      8  224  335     0.0      6  19       1      0     296           17   \n",
              "26883      7  644  106     0.0      6  89       1      0      88           46   \n",
              "\n",
              "       IMPACT  SYMBOL  Feature_type  Feature  BIOTYPE  Amino_acids  Codons  \\\n",
              "27372       2     340             1     1025        1          606     369   \n",
              "14638       2     174             1       17        1          905    1167   \n",
              "58388       2    1923             1      228        1         1154     548   \n",
              "32240       2     249             1     1642        1          364    1583   \n",
              "26883       1    1495             1     1594        1          838    1214   \n",
              "\n",
              "       STRAND  LoFtool  \n",
              "27372     1.0   0.3290  \n",
              "14638     1.0   0.7820  \n",
              "58388     1.0   0.0893  \n",
              "32240    -1.0   0.6400  \n",
              "26883    -1.0   0.9650  "
            ],
            "text/html": [
              "\n",
              "  <div id=\"df-3e62ecc0-9fd5-45e6-888a-7a6cefc19655\">\n",
              "    <div class=\"colab-df-container\">\n",
              "      <div>\n",
              "<style scoped>\n",
              "    .dataframe tbody tr th:only-of-type {\n",
              "        vertical-align: middle;\n",
              "    }\n",
              "\n",
              "    .dataframe tbody tr th {\n",
              "        vertical-align: top;\n",
              "    }\n",
              "\n",
              "    .dataframe thead th {\n",
              "        text-align: right;\n",
              "    }\n",
              "</style>\n",
              "<table border=\"1\" class=\"dataframe\">\n",
              "  <thead>\n",
              "    <tr style=\"text-align: right;\">\n",
              "      <th></th>\n",
              "      <th>CHROM</th>\n",
              "      <th>REF</th>\n",
              "      <th>ALT</th>\n",
              "      <th>AF_ESP</th>\n",
              "      <th>CLNVC</th>\n",
              "      <th>MC</th>\n",
              "      <th>ORIGIN</th>\n",
              "      <th>CLASS</th>\n",
              "      <th>Allele</th>\n",
              "      <th>Consequence</th>\n",
              "      <th>IMPACT</th>\n",
              "      <th>SYMBOL</th>\n",
              "      <th>Feature_type</th>\n",
              "      <th>Feature</th>\n",
              "      <th>BIOTYPE</th>\n",
              "      <th>Amino_acids</th>\n",
              "      <th>Codons</th>\n",
              "      <th>STRAND</th>\n",
              "      <th>LoFtool</th>\n",
              "    </tr>\n",
              "  </thead>\n",
              "  <tbody>\n",
              "    <tr>\n",
              "      <th>27372</th>\n",
              "      <td>7</td>\n",
              "      <td>224</td>\n",
              "      <td>213</td>\n",
              "      <td>0.0</td>\n",
              "      <td>6</td>\n",
              "      <td>24</td>\n",
              "      <td>1</td>\n",
              "      <td>0</td>\n",
              "      <td>168</td>\n",
              "      <td>17</td>\n",
              "      <td>2</td>\n",
              "      <td>340</td>\n",
              "      <td>1</td>\n",
              "      <td>1025</td>\n",
              "      <td>1</td>\n",
              "      <td>606</td>\n",
              "      <td>369</td>\n",
              "      <td>1.0</td>\n",
              "      <td>0.3290</td>\n",
              "    </tr>\n",
              "    <tr>\n",
              "      <th>14638</th>\n",
              "      <td>2</td>\n",
              "      <td>437</td>\n",
              "      <td>0</td>\n",
              "      <td>0.0</td>\n",
              "      <td>6</td>\n",
              "      <td>19</td>\n",
              "      <td>1</td>\n",
              "      <td>0</td>\n",
              "      <td>1</td>\n",
              "      <td>17</td>\n",
              "      <td>2</td>\n",
              "      <td>174</td>\n",
              "      <td>1</td>\n",
              "      <td>17</td>\n",
              "      <td>1</td>\n",
              "      <td>905</td>\n",
              "      <td>1167</td>\n",
              "      <td>1.0</td>\n",
              "      <td>0.7820</td>\n",
              "    </tr>\n",
              "    <tr>\n",
              "      <th>58388</th>\n",
              "      <td>19</td>\n",
              "      <td>437</td>\n",
              "      <td>0</td>\n",
              "      <td>0.0</td>\n",
              "      <td>6</td>\n",
              "      <td>19</td>\n",
              "      <td>1</td>\n",
              "      <td>1</td>\n",
              "      <td>1</td>\n",
              "      <td>18</td>\n",
              "      <td>2</td>\n",
              "      <td>1923</td>\n",
              "      <td>1</td>\n",
              "      <td>228</td>\n",
              "      <td>1</td>\n",
              "      <td>1154</td>\n",
              "      <td>548</td>\n",
              "      <td>1.0</td>\n",
              "      <td>0.0893</td>\n",
              "    </tr>\n",
              "    <tr>\n",
              "      <th>32240</th>\n",
              "      <td>8</td>\n",
              "      <td>224</td>\n",
              "      <td>335</td>\n",
              "      <td>0.0</td>\n",
              "      <td>6</td>\n",
              "      <td>19</td>\n",
              "      <td>1</td>\n",
              "      <td>0</td>\n",
              "      <td>296</td>\n",
              "      <td>17</td>\n",
              "      <td>2</td>\n",
              "      <td>249</td>\n",
              "      <td>1</td>\n",
              "      <td>1642</td>\n",
              "      <td>1</td>\n",
              "      <td>364</td>\n",
              "      <td>1583</td>\n",
              "      <td>-1.0</td>\n",
              "      <td>0.6400</td>\n",
              "    </tr>\n",
              "    <tr>\n",
              "      <th>26883</th>\n",
              "      <td>7</td>\n",
              "      <td>644</td>\n",
              "      <td>106</td>\n",
              "      <td>0.0</td>\n",
              "      <td>6</td>\n",
              "      <td>89</td>\n",
              "      <td>1</td>\n",
              "      <td>0</td>\n",
              "      <td>88</td>\n",
              "      <td>46</td>\n",
              "      <td>1</td>\n",
              "      <td>1495</td>\n",
              "      <td>1</td>\n",
              "      <td>1594</td>\n",
              "      <td>1</td>\n",
              "      <td>838</td>\n",
              "      <td>1214</td>\n",
              "      <td>-1.0</td>\n",
              "      <td>0.9650</td>\n",
              "    </tr>\n",
              "  </tbody>\n",
              "</table>\n",
              "</div>\n",
              "      <button class=\"colab-df-convert\" onclick=\"convertToInteractive('df-3e62ecc0-9fd5-45e6-888a-7a6cefc19655')\"\n",
              "              title=\"Convert this dataframe to an interactive table.\"\n",
              "              style=\"display:none;\">\n",
              "        \n",
              "  <svg xmlns=\"http://www.w3.org/2000/svg\" height=\"24px\"viewBox=\"0 0 24 24\"\n",
              "       width=\"24px\">\n",
              "    <path d=\"M0 0h24v24H0V0z\" fill=\"none\"/>\n",
              "    <path d=\"M18.56 5.44l.94 2.06.94-2.06 2.06-.94-2.06-.94-.94-2.06-.94 2.06-2.06.94zm-11 1L8.5 8.5l.94-2.06 2.06-.94-2.06-.94L8.5 2.5l-.94 2.06-2.06.94zm10 10l.94 2.06.94-2.06 2.06-.94-2.06-.94-.94-2.06-.94 2.06-2.06.94z\"/><path d=\"M17.41 7.96l-1.37-1.37c-.4-.4-.92-.59-1.43-.59-.52 0-1.04.2-1.43.59L10.3 9.45l-7.72 7.72c-.78.78-.78 2.05 0 2.83L4 21.41c.39.39.9.59 1.41.59.51 0 1.02-.2 1.41-.59l7.78-7.78 2.81-2.81c.8-.78.8-2.07 0-2.86zM5.41 20L4 18.59l7.72-7.72 1.47 1.35L5.41 20z\"/>\n",
              "  </svg>\n",
              "      </button>\n",
              "      \n",
              "  <style>\n",
              "    .colab-df-container {\n",
              "      display:flex;\n",
              "      flex-wrap:wrap;\n",
              "      gap: 12px;\n",
              "    }\n",
              "\n",
              "    .colab-df-convert {\n",
              "      background-color: #E8F0FE;\n",
              "      border: none;\n",
              "      border-radius: 50%;\n",
              "      cursor: pointer;\n",
              "      display: none;\n",
              "      fill: #1967D2;\n",
              "      height: 32px;\n",
              "      padding: 0 0 0 0;\n",
              "      width: 32px;\n",
              "    }\n",
              "\n",
              "    .colab-df-convert:hover {\n",
              "      background-color: #E2EBFA;\n",
              "      box-shadow: 0px 1px 2px rgba(60, 64, 67, 0.3), 0px 1px 3px 1px rgba(60, 64, 67, 0.15);\n",
              "      fill: #174EA6;\n",
              "    }\n",
              "\n",
              "    [theme=dark] .colab-df-convert {\n",
              "      background-color: #3B4455;\n",
              "      fill: #D2E3FC;\n",
              "    }\n",
              "\n",
              "    [theme=dark] .colab-df-convert:hover {\n",
              "      background-color: #434B5C;\n",
              "      box-shadow: 0px 1px 3px 1px rgba(0, 0, 0, 0.15);\n",
              "      filter: drop-shadow(0px 1px 2px rgba(0, 0, 0, 0.3));\n",
              "      fill: #FFFFFF;\n",
              "    }\n",
              "  </style>\n",
              "\n",
              "      <script>\n",
              "        const buttonEl =\n",
              "          document.querySelector('#df-3e62ecc0-9fd5-45e6-888a-7a6cefc19655 button.colab-df-convert');\n",
              "        buttonEl.style.display =\n",
              "          google.colab.kernel.accessAllowed ? 'block' : 'none';\n",
              "\n",
              "        async function convertToInteractive(key) {\n",
              "          const element = document.querySelector('#df-3e62ecc0-9fd5-45e6-888a-7a6cefc19655');\n",
              "          const dataTable =\n",
              "            await google.colab.kernel.invokeFunction('convertToInteractive',\n",
              "                                                     [key], {});\n",
              "          if (!dataTable) return;\n",
              "\n",
              "          const docLinkHtml = 'Like what you see? Visit the ' +\n",
              "            '<a target=\"_blank\" href=https://colab.research.google.com/notebooks/data_table.ipynb>data table notebook</a>'\n",
              "            + ' to learn more about interactive tables.';\n",
              "          element.innerHTML = '';\n",
              "          dataTable['output_type'] = 'display_data';\n",
              "          await google.colab.output.renderOutput(dataTable, element);\n",
              "          const docLink = document.createElement('div');\n",
              "          docLink.innerHTML = docLinkHtml;\n",
              "          element.appendChild(docLink);\n",
              "        }\n",
              "      </script>\n",
              "    </div>\n",
              "  </div>\n",
              "  "
            ],
            "text/plain": [
              "       CHROM  REF  ALT  AF_ESP  CLNVC  MC  ORIGIN  CLASS  Allele  Consequence  \\\n",
              "13615      2  437    0  0.0000      6  89       1      0       1           46   \n",
              "29766      8  437    0  0.0035      6  89       1      0       1           46   \n",
              "38943     11  437    0  0.0000      6  89       1      0       1           46   \n",
              "38697     11    0  335  0.0000      6  19       1      0     296           17   \n",
              "30277      8  437  106  0.0000      6  61       1      1      88            1   \n",
              "\n",
              "       IMPACT  SYMBOL  Feature_type  Feature  BIOTYPE  Amino_acids  Codons  \\\n",
              "13615       1    1263             1      122        1          577    1418   \n",
              "29766       1    1404             1     2104        1          516     853   \n",
              "38943       1    1311             1       86        1          358    1838   \n",
              "38697       2    1310             1      125        1          465     239   \n",
              "30277       3     974             1      234        1           78    1163   \n",
              "\n",
              "       STRAND   LoFtool  \n",
              "13615    -1.0  0.345058  \n",
              "29766     1.0  0.116000  \n",
              "38943     1.0  0.021200  \n",
              "38697     1.0  0.009710  \n",
              "30277    -1.0  0.038000  "
            ]
          },
          "execution_count": 21,
          "metadata": {},
          "execution_count": 23
        }
      ],
      "source": [
        "# LabelBinarizer makes this process easy with the transform method.\n",
        "# Accepts Categorical data as input and returns an Numpy array.\n",
        "# Encode target labels with value between 0 and n_classes-1.\n",
        "# To encode target values, i.e. y , and not the input X\n",
        "\n",
        "(lb, le) = (LabelBinarizer(), LabelEncoder())\n",
        "\n",
        "# Encode target labels ordinary variables\n",
        "\n",
        "for col in variables_categorical:\n",
        "    dataFile[col] = le.fit_transform(dataFile[col])\n",
        "\n",
        "# Encode target labels ordinary variables encoding binary variables\n",
        "\n",
        "for col in variables_bin:\n",
        "    dataFile[col] = lb.fit_transform(dataFile[col])\n",
        "\n",
        "dataFile.sample(5)"
      ]
    },
    {
      "cell_type": "code",
      "execution_count": 24,
      "metadata": {
        "colab": {
          "base_uri": "https://localhost:8080/",
          "height": 801
        },
        "id": "hPzXZ09w--Qf",
        "outputId": "3ad4dfdd-5313-4de6-cb58-d7394d192c8e"
      },
      "outputs": [
        {
          "data": {
            "text/plain": [
              "<matplotlib.axes._subplots.AxesSubplot at 0x7f0d83703990>"
            ]
          },
          "execution_count": 22,
          "metadata": {},
          "execution_count": 24
        },
        {
          "data": {
            "image/png": "[encoded data removed]",
            "text/plain": [
              "<Figure size 2160x1080 with 2 Axes>"
            ]
          },
          "metadata": {
            "needs_background": "light"
          },
          "output_type": "display_data"
        }
      ],
      "source": [
        "# Display dataFrame as heatmap\n",
        "\n",
        "plt.figure(figsize=(30, 15))\n",
        "sns.heatmap(dataFile.corr(), annot=True, linewidths=.5,\n",
        "            cmap=plt.cm.cool)"
      ]
    },
    {
      "cell_type": "code",
      "execution_count": 25,
      "metadata": {
        "id": "38L-asJHBIIr"
      },
      "outputs": [],
      "source": [
        "# Drop the ALT and MC columns that are strongly correlated\n",
        "# Correlation for Allele with ALT and Consequence with MC are above 0.8\n",
        "\n",
        "dataFile.drop(['ALT', 'MC'], axis=1, inplace=True)\n",
        "variables_categorical.remove('ALT')\n",
        "variables_categorical.remove('MC')"
      ]
    },
    {
      "cell_type": "code",
      "execution_count": 26,
      "metadata": {
        "id": "QWru8yuMD39B"
      },
      "outputs": [],
      "source": [
        "# Transform features by scaling each feature to a given range.\n",
        "# The default range for the feature returned by MinMaxScaler is 0 to 1.\n",
        "\n",
        "mm = MinMaxScaler()\n",
        "for column in [variables_categorical + variables_numeric]:\n",
        "    dataFile[column] = mm.fit_transform(dataFile[column])"
      ]
    },
    {
      "cell_type": "code",
      "source": [
        "# counts = dataFile.nunique()\n",
        "# counts\n",
        "\n",
        "print(dataFile['CLASS'].value_counts()[0.])\n",
        "print(dataFile['CLASS'].value_counts()[1.])"
      ],
      "metadata": {
        "id": "D796u6am6M8d",
        "outputId": "3e78f534-b0ef-4434-b646-fe1938e56a91",
        "colab": {
          "base_uri": "https://localhost:8080/"
        }
      },
      "execution_count": 27,
      "outputs": [
        {
          "output_type": "stream",
          "name": "stdout",
          "text": [
            "48754\n",
            "16434\n"
          ]
        }
      ]
    },
    {
      "cell_type": "code",
      "execution_count": 28,
      "metadata": {
        "id": "RjMrwS9bFIPD"
      },
      "outputs": [],
      "source": [
        "feature_columns = list(dataFile.columns)\n",
        "\n",
        "feature_columns.remove('CLASS')\n"
      ]
    },
    {
      "cell_type": "code",
      "execution_count": 29,
      "metadata": {
        "id": "LCOq30WiFoFE"
      },
      "outputs": [],
      "source": [
        "# Split the data into test and train data sets\n",
        "# Using StratifiedShuffleSplit so proportion of distribution of\n",
        "# class labels is almost even between train and test dataset.\n",
        "\n",
        "# Using StratifiedShuffleSplit() to get the split indexes\n",
        "\n",
        "sss = StratifiedShuffleSplit(n_splits=1, test_size=0.3, random_state=42)\n",
        "\n",
        "(train_index, test_index) = next(sss.split(dataFile[feature_columns],\n",
        "                                 dataFile.CLASS))\n",
        "\n",
        "# Creating dataframes\n",
        "\n",
        "X_train = dataFile.loc[train_index, feature_columns]\n",
        "y_train = dataFile.loc[train_index, 'CLASS']\n",
        "\n",
        "X_test = dataFile.loc[test_index, feature_columns]\n",
        "y_test = dataFile.loc[test_index, 'CLASS']\n",
        "(len(X_test), len(X_train))\n",
        "\n",
        "from imblearn.under_sampling import RandomUnderSampler\n",
        "rus = RandomUnderSampler()\n",
        "X_resampled_under, y_resampled_under =rus.fit_resample(X_train, y_train)\n",
        "X_train = X_resampled_under\n",
        "y_train = y_resampled_under"
      ]
    },
    {
      "cell_type": "code",
      "execution_count": 30,
      "metadata": {
        "colab": {
          "base_uri": "https://localhost:8080/"
        },
        "id": "kCe2yLEJXfem",
        "outputId": "13f7a909-d7ae-48a1-c93e-e7d4f81410c7"
      },
      "outputs": [
        {
          "data": {
            "text/plain": [
              "16"
            ]
          },
          "execution_count": 27,
          "metadata": {},
          "execution_count": 30
        }
      ],
      "source": [
        "# Get feature columns count\n",
        "len(feature_columns)"
      ]
    },
    {
      "cell_type": "code",
      "execution_count": 87,
      "metadata": {
        "id": "jdkyFt5Ia4p8"
      },
      "outputs": [],
      "source": [
        "# Use MLP classifier to train a neural network using backprogation algorithm.\n",
        "# We will compare results from this algorithm with results from manually created backpropagation algorithm\n",
        "\n",
        "# Initialize MLP classifier (1 hidden layer)\n",
        "neuralNet = MLPClassifier(hidden_layer_sizes=(16), activation='relu', solver='sgd', learning_rate='adaptive', learning_rate_init=0.1, max_iter=100)"
      ]
    },
    {
      "cell_type": "code",
      "execution_count": 88,
      "metadata": {
        "id": "NCX7aixEFZSL"
      },
      "outputs": [],
      "source": [
        "neuralNet2 = MLPClassifier(hidden_layer_sizes=(16), activation='relu', solver='sgd', learning_rate='adaptive', learning_rate_init=0.01, max_iter=100)"
      ]
    },
    {
      "cell_type": "code",
      "execution_count": 89,
      "metadata": {
        "id": "WhTv7VsJFimg"
      },
      "outputs": [],
      "source": [
        "neuralNet3 = MLPClassifier(hidden_layer_sizes=(16), activation='tanh', solver='sgd', learning_rate='adaptive', learning_rate_init=0.1, max_iter=100)"
      ]
    },
    {
      "cell_type": "code",
      "execution_count": 90,
      "metadata": {
        "id": "a2E04wSsFtBN"
      },
      "outputs": [],
      "source": [
        "neuralNet4 = MLPClassifier(hidden_layer_sizes=(16), activation='tanh', solver='sgd', learning_rate='adaptive', learning_rate_init=0.01, max_iter=100)"
      ]
    },
    {
      "cell_type": "code",
      "execution_count": 91,
      "metadata": {
        "id": "kN_-YYT_F7RY"
      },
      "outputs": [],
      "source": [
        "neuralNet5 = MLPClassifier(hidden_layer_sizes=(16), activation='logistic', solver='sgd', learning_rate='adaptive', learning_rate_init=0.1, max_iter=100)"
      ]
    },
    {
      "cell_type": "code",
      "execution_count": 92,
      "metadata": {
        "id": "iWWHY8CZGGJo"
      },
      "outputs": [],
      "source": [
        "neuralNet6 = MLPClassifier(hidden_layer_sizes=(16), activation='logistic', solver='sgd', learning_rate='adaptive', learning_rate_init=0.01, max_iter=100)"
      ]
    },
    {
      "cell_type": "code",
      "execution_count": 93,
      "metadata": {
        "colab": {
          "base_uri": "https://localhost:8080/"
        },
        "id": "b5mYq-a7fgJS",
        "outputId": "aa71a0d5-21bd-4e70-df75-86256d577afb"
      },
      "outputs": [
        {
          "data": {
            "text/plain": [
              "MLPClassifier(hidden_layer_sizes=16, learning_rate='adaptive',\n",
              "              learning_rate_init=0.1, max_iter=100, solver='sgd')"
            ]
          },
          "execution_count": 29,
          "metadata": {},
          "execution_count": 93
        }
      ],
      "source": [
        "# Fit neural networks to the training data\n",
        "neuralNet.fit(X_train, y_train)"
      ]
    },
    {
      "cell_type": "code",
      "execution_count": 94,
      "metadata": {
        "colab": {
          "base_uri": "https://localhost:8080/"
        },
        "outputId": "a9f57e52-e7e7-46dd-8eac-7cac92342d2a",
        "id": "jlMEOg8YHGdZ"
      },
      "outputs": [
        {
          "output_type": "execute_result",
          "data": {
            "text/plain": [
              "MLPClassifier(hidden_layer_sizes=16, learning_rate='adaptive',\n",
              "              learning_rate_init=0.01, max_iter=100, solver='sgd')"
            ]
          },
          "metadata": {},
          "execution_count": 94
        }
      ],
      "source": [
        "neuralNet2.fit(X_train, y_train)"
      ]
    },
    {
      "cell_type": "code",
      "execution_count": 95,
      "metadata": {
        "colab": {
          "base_uri": "https://localhost:8080/"
        },
        "outputId": "bf77406e-42a4-42b8-f01f-7fa9aa398290",
        "id": "w3JtBxdXHQ13"
      },
      "outputs": [
        {
          "output_type": "execute_result",
          "data": {
            "text/plain": [
              "MLPClassifier(activation='tanh', hidden_layer_sizes=16,\n",
              "              learning_rate='adaptive', learning_rate_init=0.1, max_iter=100,\n",
              "              solver='sgd')"
            ]
          },
          "metadata": {},
          "execution_count": 95
        }
      ],
      "source": [
        "neuralNet3.fit(X_train, y_train)"
      ]
    },
    {
      "cell_type": "code",
      "execution_count": 96,
      "metadata": {
        "colab": {
          "base_uri": "https://localhost:8080/"
        },
        "outputId": "1026bde7-d4a2-45fd-84ec-070b7a52f674",
        "id": "d2JU8X33HiAR"
      },
      "outputs": [
        {
          "output_type": "execute_result",
          "data": {
            "text/plain": [
              "MLPClassifier(activation='tanh', hidden_layer_sizes=16,\n",
              "              learning_rate='adaptive', learning_rate_init=0.01, max_iter=100,\n",
              "              solver='sgd')"
            ]
          },
          "metadata": {},
          "execution_count": 96
        }
      ],
      "source": [
        "neuralNet4.fit(X_train, y_train)"
      ]
    },
    {
      "cell_type": "code",
      "execution_count": 97,
      "metadata": {
        "colab": {
          "base_uri": "https://localhost:8080/"
        },
        "outputId": "b5f5b97c-4272-447f-a133-0b64b05e1900",
        "id": "oPw35PyKHut5"
      },
      "outputs": [
        {
          "output_type": "execute_result",
          "data": {
            "text/plain": [
              "MLPClassifier(activation='logistic', hidden_layer_sizes=16,\n",
              "              learning_rate='adaptive', learning_rate_init=0.1, max_iter=100,\n",
              "              solver='sgd')"
            ]
          },
          "metadata": {},
          "execution_count": 97
        }
      ],
      "source": [
        "neuralNet5.fit(X_train, y_train)"
      ]
    },
    {
      "cell_type": "code",
      "execution_count": 98,
      "metadata": {
        "colab": {
          "base_uri": "https://localhost:8080/"
        },
        "outputId": "b52fb2ed-3250-4ad2-b200-fdf20f2ec06d",
        "id": "rdq-Cz0oH0la"
      },
      "outputs": [
        {
          "output_type": "execute_result",
          "data": {
            "text/plain": [
              "MLPClassifier(activation='logistic', hidden_layer_sizes=16,\n",
              "              learning_rate='adaptive', learning_rate_init=0.01, max_iter=100,\n",
              "              solver='sgd')"
            ]
          },
          "metadata": {},
          "execution_count": 98
        }
      ],
      "source": [
        "neuralNet6.fit(X_train, y_train)"
      ]
    },
    {
      "cell_type": "code",
      "execution_count": 99,
      "metadata": {
        "id": "xBIUAy8djDIP"
      },
      "outputs": [],
      "source": [
        "# Use trained neural networks to generate predictions\n",
        "predict_y_train = neuralNet.predict(X_train)\n",
        "predict_y_test = neuralNet.predict(X_test)"
      ]
    },
    {
      "cell_type": "code",
      "execution_count": 100,
      "metadata": {
        "id": "hkf1ZVR3IIBM"
      },
      "outputs": [],
      "source": [
        "predict_y_train2 = neuralNet2.predict(X_train)\n",
        "predict_y_test2 = neuralNet2.predict(X_test)"
      ]
    },
    {
      "cell_type": "code",
      "execution_count": 101,
      "metadata": {
        "id": "e-u-_E5vIPKA"
      },
      "outputs": [],
      "source": [
        "predict_y_train3 = neuralNet3.predict(X_train)\n",
        "predict_y_test3 = neuralNet3.predict(X_test)"
      ]
    },
    {
      "cell_type": "code",
      "execution_count": 102,
      "metadata": {
        "id": "7Q89j89bISW2"
      },
      "outputs": [],
      "source": [
        "predict_y_train4 = neuralNet4.predict(X_train)\n",
        "predict_y_test4 = neuralNet4.predict(X_test)"
      ]
    },
    {
      "cell_type": "code",
      "execution_count": 103,
      "metadata": {
        "id": "oYFY6j6yIcyg"
      },
      "outputs": [],
      "source": [
        "predict_y_train5 = neuralNet5.predict(X_train)\n",
        "predict_y_test5 = neuralNet5.predict(X_test)"
      ]
    },
    {
      "cell_type": "code",
      "execution_count": 104,
      "metadata": {
        "id": "4DIW3xPrIgOk"
      },
      "outputs": [],
      "source": [
        "predict_y_train6 = neuralNet6.predict(X_train)\n",
        "predict_y_test6 = neuralNet6.predict(X_test)"
      ]
    },
    {
      "cell_type": "code",
      "execution_count": 56,
      "metadata": {
        "id": "S-x-STa7VmCN"
      },
      "outputs": [],
      "source": [
        "from sklearn.metrics import confusion_matrix, ConfusionMatrixDisplay, classification_report"
      ]
    },
    {
      "cell_type": "code",
      "execution_count": 105,
      "metadata": {
        "colab": {
          "base_uri": "https://localhost:8080/",
          "height": 283
        },
        "id": "teeAoRG4RAFG",
        "outputId": "4022186d-8ba5-4d10-9cb6-74cab21c73f7"
      },
      "outputs": [
        {
          "output_type": "display_data",
          "data": {
            "text/plain": [
              "<Figure size 432x288 with 2 Axes>"
            ],
            "image/png": "[encoded data removed]"
          },
          "metadata": {
            "needs_background": "light"
          }
        }
      ],
      "source": [
        "# Evaluation - Confusion Matrix Display - Training Data\n",
        "conMtrxTrain = confusion_matrix(y_train, predict_y_train, labels=neuralNet.classes_)\n",
        "conMtrxDisplayTrain = ConfusionMatrixDisplay(confusion_matrix=conMtrxTrain, display_labels=neuralNet.classes_)\n",
        "conMtrxDisplayTrain.plot()\n",
        "plt.show()"
      ]
    },
    {
      "cell_type": "code",
      "execution_count": 107,
      "metadata": {
        "colab": {
          "base_uri": "https://localhost:8080/",
          "height": 279
        },
        "outputId": "723e4457-0727-4647-b9ae-ee056830f49d",
        "id": "tUz2-gjeIzne"
      },
      "outputs": [
        {
          "output_type": "display_data",
          "data": {
            "text/plain": [
              "<Figure size 432x288 with 2 Axes>"
            ],
            "image/png": "[encoded data removed]"
          },
          "metadata": {
            "needs_background": "light"
          }
        }
      ],
      "source": [
        "conMtrxTrain2 = confusion_matrix(y_train, predict_y_train2, labels=neuralNet2.classes_)\n",
        "conMtrxDisplayTrain2 = ConfusionMatrixDisplay(confusion_matrix=conMtrxTrain2, display_labels=neuralNet2.classes_)\n",
        "conMtrxDisplayTrain2.plot()\n",
        "plt.show()"
      ]
    },
    {
      "cell_type": "code",
      "execution_count": 109,
      "metadata": {
        "colab": {
          "base_uri": "https://localhost:8080/",
          "height": 279
        },
        "outputId": "fef5001c-e1f6-496b-a20b-ee688bdcd553",
        "id": "Uzs4UfoyJDRb"
      },
      "outputs": [
        {
          "output_type": "display_data",
          "data": {
            "text/plain": [
              "<Figure size 432x288 with 2 Axes>"
            ],
            "image/png": "[encoded data removed]"
          },
          "metadata": {
            "needs_background": "light"
          }
        }
      ],
      "source": [
        "conMtrxTrain3 = confusion_matrix(y_train, predict_y_train3, labels=neuralNet3.classes_)\n",
        "conMtrxDisplayTrain3 = ConfusionMatrixDisplay(confusion_matrix=conMtrxTrain3, display_labels=neuralNet3.classes_)\n",
        "conMtrxDisplayTrain3.plot()\n",
        "plt.show()"
      ]
    },
    {
      "cell_type": "code",
      "execution_count": 111,
      "metadata": {
        "colab": {
          "base_uri": "https://localhost:8080/",
          "height": 279
        },
        "outputId": "823c7f95-dad2-4aad-ea63-798a95f35fa3",
        "id": "zKuYC2DBJT7m"
      },
      "outputs": [
        {
          "output_type": "display_data",
          "data": {
            "text/plain": [
              "<Figure size 432x288 with 2 Axes>"
            ],
            "image/png": "[encoded data removed]"
          },
          "metadata": {
            "needs_background": "light"
          }
        }
      ],
      "source": [
        "conMtrxTrain4 = confusion_matrix(y_train, predict_y_train4, labels=neuralNet4.classes_)\n",
        "conMtrxDisplayTrain4 = ConfusionMatrixDisplay(confusion_matrix=conMtrxTrain4, display_labels=neuralNet4.classes_)\n",
        "conMtrxDisplayTrain4.plot()\n",
        "plt.show()"
      ]
    },
    {
      "cell_type": "code",
      "execution_count": 113,
      "metadata": {
        "colab": {
          "base_uri": "https://localhost:8080/",
          "height": 279
        },
        "outputId": "0b9cdd08-b6b6-4196-a70a-51974b5491ea",
        "id": "yxNtvLIhJa74"
      },
      "outputs": [
        {
          "output_type": "display_data",
          "data": {
            "text/plain": [
              "<Figure size 432x288 with 2 Axes>"
            ],
            "image/png": "[encoded data removed]"
          },
          "metadata": {
            "needs_background": "light"
          }
        }
      ],
      "source": [
        "conMtrxTrain5 = confusion_matrix(y_train, predict_y_train5, labels=neuralNet5.classes_)\n",
        "conMtrxDisplayTrain5 = ConfusionMatrixDisplay(confusion_matrix=conMtrxTrain5, display_labels=neuralNet5.classes_)\n",
        "conMtrxDisplayTrain5.plot()\n",
        "plt.show()"
      ]
    },
    {
      "cell_type": "code",
      "execution_count": 115,
      "metadata": {
        "colab": {
          "base_uri": "https://localhost:8080/",
          "height": 279
        },
        "outputId": "2a46f77c-94ac-4015-bf74-987b5728ec64",
        "id": "7eVRK_G1JlyL"
      },
      "outputs": [
        {
          "output_type": "display_data",
          "data": {
            "text/plain": [
              "<Figure size 432x288 with 2 Axes>"
            ],
            "image/png": "[encoded data removed]"
          },
          "metadata": {
            "needs_background": "light"
          }
        }
      ],
      "source": [
        "conMtrxTrain6 = confusion_matrix(y_train, predict_y_train6, labels=neuralNet6.classes_)\n",
        "conMtrxDisplayTrain6 = ConfusionMatrixDisplay(confusion_matrix=conMtrxTrain6, display_labels=neuralNet6.classes_)\n",
        "conMtrxDisplayTrain6.plot()\n",
        "plt.show()"
      ]
    },
    {
      "cell_type": "code",
      "execution_count": 117,
      "metadata": {
        "colab": {
          "base_uri": "https://localhost:8080/",
          "height": 279
        },
        "id": "eG048zTWxzrN",
        "outputId": "27b3da81-94b0-4eb4-e2cf-6c0021adf287"
      },
      "outputs": [
        {
          "output_type": "display_data",
          "data": {
            "text/plain": [
              "<Figure size 432x288 with 2 Axes>"
            ],
            "image/png": "[encoded data removed]"
          },
          "metadata": {
            "needs_background": "light"
          }
        }
      ],
      "source": [
        "# Evaluation - Confusion Matrix Display - Test Data\n",
        "conMtrxTest = confusion_matrix(y_test, predict_y_test, labels=neuralNet.classes_)\n",
        "conMtrxDisplayTest = ConfusionMatrixDisplay(confusion_matrix=conMtrxTest, display_labels=neuralNet.classes_)\n",
        "conMtrxDisplayTest.plot()\n",
        "plt.show()"
      ]
    },
    {
      "cell_type": "code",
      "execution_count": 119,
      "metadata": {
        "colab": {
          "base_uri": "https://localhost:8080/",
          "height": 279
        },
        "outputId": "7c6d6ffd-b4ec-47cc-8a8c-a17e69aba738",
        "id": "GkXNdkcqJ1sH"
      },
      "outputs": [
        {
          "output_type": "display_data",
          "data": {
            "text/plain": [
              "<Figure size 432x288 with 2 Axes>"
            ],
            "image/png": "[encoded data removed]"
          },
          "metadata": {
            "needs_background": "light"
          }
        }
      ],
      "source": [
        "conMtrxTest2 = confusion_matrix(y_test, predict_y_test2, labels=neuralNet2.classes_)\n",
        "conMtrxDisplayTest2 = ConfusionMatrixDisplay(confusion_matrix=conMtrxTest2, display_labels=neuralNet2.classes_)\n",
        "conMtrxDisplayTest2.plot()\n",
        "plt.show()"
      ]
    },
    {
      "cell_type": "code",
      "execution_count": 122,
      "metadata": {
        "colab": {
          "base_uri": "https://localhost:8080/",
          "height": 279
        },
        "outputId": "7001e660-7376-48e1-9985-200fc3b0fabf",
        "id": "_eQkfHX7KAPY"
      },
      "outputs": [
        {
          "output_type": "display_data",
          "data": {
            "text/plain": [
              "<Figure size 432x288 with 2 Axes>"
            ],
            "image/png": "[encoded data removed]"
          },
          "metadata": {
            "needs_background": "light"
          }
        }
      ],
      "source": [
        "conMtrxTest3 = confusion_matrix(y_test, predict_y_test3, labels=neuralNet3.classes_)\n",
        "conMtrxDisplayTest3 = ConfusionMatrixDisplay(confusion_matrix=conMtrxTest3, display_labels=neuralNet3.classes_)\n",
        "conMtrxDisplayTest3.plot()\n",
        "plt.show()"
      ]
    },
    {
      "cell_type": "code",
      "execution_count": 124,
      "metadata": {
        "colab": {
          "base_uri": "https://localhost:8080/",
          "height": 279
        },
        "outputId": "c26cd058-4f1c-4e2e-8dde-a3958f7abeb1",
        "id": "P2yaapqwKFMb"
      },
      "outputs": [
        {
          "output_type": "display_data",
          "data": {
            "text/plain": [
              "<Figure size 432x288 with 2 Axes>"
            ],
            "image/png": "[encoded data removed]"
          },
          "metadata": {
            "needs_background": "light"
          }
        }
      ],
      "source": [
        "conMtrxTest4 = confusion_matrix(y_test, predict_y_test4, labels=neuralNet4.classes_)\n",
        "conMtrxDisplayTest4 = ConfusionMatrixDisplay(confusion_matrix=conMtrxTest4, display_labels=neuralNet4.classes_)\n",
        "conMtrxDisplayTest4.plot()\n",
        "plt.show()"
      ]
    },
    {
      "cell_type": "code",
      "execution_count": 126,
      "metadata": {
        "colab": {
          "base_uri": "https://localhost:8080/",
          "height": 279
        },
        "outputId": "084ba9de-dcef-411b-aed9-d02899a4e559",
        "id": "jYIjk1kFKKuY"
      },
      "outputs": [
        {
          "output_type": "display_data",
          "data": {
            "text/plain": [
              "<Figure size 432x288 with 2 Axes>"
            ],
            "image/png": "[encoded data removed]"
          },
          "metadata": {
            "needs_background": "light"
          }
        }
      ],
      "source": [
        "conMtrxTest5 = confusion_matrix(y_test, predict_y_test5, labels=neuralNet5.classes_)\n",
        "conMtrxDisplayTest5 = ConfusionMatrixDisplay(confusion_matrix=conMtrxTest5, display_labels=neuralNet5.classes_)\n",
        "conMtrxDisplayTest5.plot()\n",
        "plt.show()"
      ]
    },
    {
      "cell_type": "code",
      "execution_count": 128,
      "metadata": {
        "colab": {
          "base_uri": "https://localhost:8080/",
          "height": 279
        },
        "outputId": "e3bbc323-f37a-4da4-8c30-2eb2972e9241",
        "id": "6-2GgLUkKQN8"
      },
      "outputs": [
        {
          "output_type": "display_data",
          "data": {
            "text/plain": [
              "<Figure size 432x288 with 2 Axes>"
            ],
            "image/png": "[encoded data removed]"
          },
          "metadata": {
            "needs_background": "light"
          }
        }
      ],
      "source": [
        "conMtrxTest6 = confusion_matrix(y_test, predict_y_test6, labels=neuralNet6.classes_)\n",
        "conMtrxDisplayTest6 = ConfusionMatrixDisplay(confusion_matrix=conMtrxTest6, display_labels=neuralNet6.classes_)\n",
        "conMtrxDisplayTest6.plot()\n",
        "plt.show()"
      ]
    },
    {
      "cell_type": "code",
      "execution_count": 130,
      "metadata": {
        "colab": {
          "base_uri": "https://localhost:8080/"
        },
        "id": "IhFX7rkiRaRR",
        "outputId": "c7d9204c-9964-46b3-8fca-2b8b8febfa69"
      },
      "outputs": [
        {
          "output_type": "stream",
          "name": "stdout",
          "text": [
            "Training Accuracy 1 = 0.6180458970792768\n"
          ]
        }
      ],
      "source": [
        "# Evaluation - Training Accuracy\n",
        "\n",
        "# Get sum along diagonal of matrix (for total correct predictions)\n",
        "diagMtrxSumTrain = conMtrxTrain.trace()\n",
        "\n",
        "# Get sum of all matrix elements (for total predictions)\n",
        "totMtrxSumTrain = conMtrxTrain.sum()\n",
        "\n",
        "# Print accuracy\n",
        "accTrain = diagMtrxSumTrain / totMtrxSumTrain\n",
        "print('Training Accuracy 1 = ' + str(accTrain))\n"
      ]
    },
    {
      "cell_type": "code",
      "execution_count": 133,
      "metadata": {
        "colab": {
          "base_uri": "https://localhost:8080/"
        },
        "outputId": "62340fd5-2f89-4651-ac06-6460c279b903",
        "id": "j1VnPEbaKgyS"
      },
      "outputs": [
        {
          "output_type": "stream",
          "name": "stdout",
          "text": [
            "Training Accuracy 2 = 0.5934457579972183\n"
          ]
        }
      ],
      "source": [
        "diagMtrxSumTrain2 = conMtrxTrain2.trace()\n",
        "totMtrxSumTrain2 = conMtrxTrain2.sum()\n",
        "accTrain2 = diagMtrxSumTrain2 / totMtrxSumTrain2\n",
        "print('Training Accuracy 2 = ' + str(accTrain2))"
      ]
    },
    {
      "cell_type": "code",
      "execution_count": 134,
      "metadata": {
        "colab": {
          "base_uri": "https://localhost:8080/"
        },
        "outputId": "1549d58e-ee06-4a7a-833a-10905c7dce55",
        "id": "stiOE0VHKvvB"
      },
      "outputs": [
        {
          "output_type": "stream",
          "name": "stdout",
          "text": [
            "Training Accuracy 3 = 0.5825799721835884\n"
          ]
        }
      ],
      "source": [
        "diagMtrxSumTrain3 = conMtrxTrain3.trace()\n",
        "totMtrxSumTrain3 = conMtrxTrain3.sum()\n",
        "accTrain3 = diagMtrxSumTrain3 / totMtrxSumTrain3\n",
        "print('Training Accuracy 3 = ' + str(accTrain3))"
      ]
    },
    {
      "cell_type": "code",
      "execution_count": 136,
      "metadata": {
        "colab": {
          "base_uri": "https://localhost:8080/"
        },
        "outputId": "a140c6a1-907a-4e44-da15-c9eaba7f7235",
        "id": "hLJMRxU6Ky-8"
      },
      "outputs": [
        {
          "output_type": "stream",
          "name": "stdout",
          "text": [
            "Training Accuracy 4 = 0.6054415855354659\n"
          ]
        }
      ],
      "source": [
        "diagMtrxSumTrain4 = conMtrxTrain4.trace()\n",
        "totMtrxSumTrain4 = conMtrxTrain4.sum()\n",
        "accTrain4 = diagMtrxSumTrain4 / totMtrxSumTrain4\n",
        "print('Training Accuracy 4 = ' + str(accTrain4))"
      ]
    },
    {
      "cell_type": "code",
      "execution_count": 137,
      "metadata": {
        "colab": {
          "base_uri": "https://localhost:8080/"
        },
        "outputId": "42d24cf0-190c-4ba6-f223-93fd53b91c73",
        "id": "qOrEZoXPLADQ"
      },
      "outputs": [
        {
          "output_type": "stream",
          "name": "stdout",
          "text": [
            "Training Accuracy 5 = 0.6036595966620306\n"
          ]
        }
      ],
      "source": [
        "diagMtrxSumTrain5 = conMtrxTrain5.trace()\n",
        "totMtrxSumTrain5 = conMtrxTrain5.sum()\n",
        "accTrain5 = diagMtrxSumTrain5 / totMtrxSumTrain5\n",
        "print('Training Accuracy 5 = ' + str(accTrain5))"
      ]
    },
    {
      "cell_type": "code",
      "execution_count": 138,
      "metadata": {
        "colab": {
          "base_uri": "https://localhost:8080/"
        },
        "outputId": "9cc674aa-5d91-4084-dc6e-ce885ee983b3",
        "id": "LHRoaWVoLHRr"
      },
      "outputs": [
        {
          "output_type": "stream",
          "name": "stdout",
          "text": [
            "Training Accuracy 6 = 0.5758431849791377\n"
          ]
        }
      ],
      "source": [
        "diagMtrxSumTrain6 = conMtrxTrain6.trace()\n",
        "totMtrxSumTrain6 = conMtrxTrain6.sum()\n",
        "accTrain6 = diagMtrxSumTrain6 / totMtrxSumTrain6\n",
        "print('Training Accuracy 6 = ' + str(accTrain6))"
      ]
    },
    {
      "cell_type": "code",
      "execution_count": 139,
      "metadata": {
        "colab": {
          "base_uri": "https://localhost:8080/"
        },
        "id": "o-4yolH2kVJM",
        "outputId": "8524bee2-92d4-4b93-9526-bc0dc9d769aa"
      },
      "outputs": [
        {
          "output_type": "stream",
          "name": "stdout",
          "text": [
            "Test Accuracy 1 = 0.5240578820882549\n"
          ]
        }
      ],
      "source": [
        "# Evaluation - Test Accuracy\n",
        "\n",
        "# Get sum along diagonal of matrix (for total correct predictions)\n",
        "diagMtrxSumTest = conMtrxTest.trace()\n",
        "\n",
        "# Get sum of all matrix elements (for total predictions)\n",
        "totMtrxSumTest = conMtrxTest.sum()\n",
        "\n",
        "# Print accuracy\n",
        "accTest = diagMtrxSumTest / totMtrxSumTest\n",
        "print('Test Accuracy 1 = ' + str(accTest))"
      ]
    },
    {
      "cell_type": "code",
      "execution_count": 141,
      "metadata": {
        "colab": {
          "base_uri": "https://localhost:8080/"
        },
        "outputId": "6d02cd75-4e4c-41c4-8e33-0bcdb13ebf9c",
        "id": "c_Jj28b8Lc3N"
      },
      "outputs": [
        {
          "output_type": "stream",
          "name": "stdout",
          "text": [
            "Test Accuracy 2 = 0.42803088408242573\n"
          ]
        }
      ],
      "source": [
        "diagMtrxSumTest2 = conMtrxTest2.trace()\n",
        "totMtrxSumTest2 = conMtrxTest2.sum()\n",
        "accTest2 = diagMtrxSumTest2 / totMtrxSumTest2\n",
        "print('Test Accuracy 2 = ' + str(accTest2))"
      ]
    },
    {
      "cell_type": "code",
      "execution_count": 142,
      "metadata": {
        "colab": {
          "base_uri": "https://localhost:8080/"
        },
        "outputId": "68bd099b-d771-48eb-92d6-c86acb48acbc",
        "id": "T96VGN5KLvDC"
      },
      "outputs": [
        {
          "output_type": "stream",
          "name": "stdout",
          "text": [
            "Test Accuracy 3 = 0.6380324180600296\n"
          ]
        }
      ],
      "source": [
        "diagMtrxSumTest3 = conMtrxTest3.trace()\n",
        "totMtrxSumTest3 = conMtrxTest3.sum()\n",
        "accTest3 = diagMtrxSumTest3 / totMtrxSumTest3\n",
        "print('Test Accuracy 3 = ' + str(accTest3))"
      ]
    },
    {
      "cell_type": "code",
      "execution_count": 143,
      "metadata": {
        "colab": {
          "base_uri": "https://localhost:8080/"
        },
        "outputId": "d0507b8d-a26f-4273-d9bf-d9f06a5558f4",
        "id": "VCHFbk7zLwU9"
      },
      "outputs": [
        {
          "output_type": "stream",
          "name": "stdout",
          "text": [
            "Test Accuracy 4 = 0.47435700772102063\n"
          ]
        }
      ],
      "source": [
        "diagMtrxSumTest4 = conMtrxTest4.trace()\n",
        "totMtrxSumTest4 = conMtrxTest4.sum()\n",
        "accTest4 = diagMtrxSumTest4 / totMtrxSumTest4\n",
        "print('Test Accuracy 4 = ' + str(accTest4))"
      ]
    },
    {
      "cell_type": "code",
      "execution_count": 144,
      "metadata": {
        "colab": {
          "base_uri": "https://localhost:8080/"
        },
        "outputId": "174e087d-edad-4de2-8c14-f28121d3bd25",
        "id": "xemHpNLtL1jV"
      },
      "outputs": [
        {
          "output_type": "stream",
          "name": "stdout",
          "text": [
            "Test Accuracy 5 = 0.5128598455795879\n"
          ]
        }
      ],
      "source": [
        "diagMtrxSumTest5 = conMtrxTest5.trace()\n",
        "totMtrxSumTest5 = conMtrxTest5.sum()\n",
        "accTest5 = diagMtrxSumTest5 / totMtrxSumTest5\n",
        "print('Test Accuracy 5 = ' + str(accTest5))"
      ]
    },
    {
      "cell_type": "code",
      "execution_count": 145,
      "metadata": {
        "colab": {
          "base_uri": "https://localhost:8080/"
        },
        "outputId": "c6ecbbea-ff4c-4123-c582-a5fcca0c9e3f",
        "id": "GghxZnSFL61N"
      },
      "outputs": [
        {
          "output_type": "stream",
          "name": "stdout",
          "text": [
            "Test Accuracy 6 = 0.48632203303165106\n"
          ]
        }
      ],
      "source": [
        "diagMtrxSumTest6 = conMtrxTest6.trace()\n",
        "totMtrxSumTest6 = conMtrxTest6.sum()\n",
        "accTest6 = diagMtrxSumTest6 / totMtrxSumTest6\n",
        "print('Test Accuracy 6 = ' + str(accTest6))"
      ]
    },
    {
      "cell_type": "code",
      "execution_count": 146,
      "metadata": {
        "colab": {
          "base_uri": "https://localhost:8080/"
        },
        "id": "es3dVnlAVGS-",
        "outputId": "81571bc9-87c8-4012-f9bd-87dd4e8bf62f"
      },
      "outputs": [
        {
          "name": "stdout",
          "output_type": "stream",
          "text": [
            "Classification Report on Training Data 1\n",
            "              precision    recall  f1-score   support\n",
            "\n",
            "         0.0       0.68      0.45      0.54     11504\n",
            "         1.0       0.59      0.78      0.67     11504\n",
            "\n",
            "    accuracy                           0.62     23008\n",
            "   macro avg       0.63      0.62      0.61     23008\n",
            "weighted avg       0.63      0.62      0.61     23008\n",
            "\n",
            "Classification Report on Training Data 2\n",
            "              precision    recall  f1-score   support\n",
            "\n",
            "         0.0       0.77      0.26      0.39     11504\n",
            "         1.0       0.56      0.92      0.69     11504\n",
            "\n",
            "    accuracy                           0.59     23008\n",
            "   macro avg       0.66      0.59      0.54     23008\n",
            "weighted avg       0.66      0.59      0.54     23008\n",
            "\n",
            "Classification Report on Training Data 3\n",
            "              precision    recall  f1-score   support\n",
            "\n",
            "         0.0       0.57      0.71      0.63     11504\n",
            "         1.0       0.61      0.45      0.52     11504\n",
            "\n",
            "    accuracy                           0.58     23008\n",
            "   macro avg       0.59      0.58      0.58     23008\n",
            "weighted avg       0.59      0.58      0.58     23008\n",
            "\n",
            "Classification Report on Training Data 4\n",
            "              precision    recall  f1-score   support\n",
            "\n",
            "         0.0       0.71      0.36      0.48     11504\n",
            "         1.0       0.57      0.85      0.68     11504\n",
            "\n",
            "    accuracy                           0.61     23008\n",
            "   macro avg       0.64      0.61      0.58     23008\n",
            "weighted avg       0.64      0.61      0.58     23008\n",
            "\n",
            "Classification Report on Training Data 5\n",
            "              precision    recall  f1-score   support\n",
            "\n",
            "         0.0       0.65      0.44      0.53     11504\n",
            "         1.0       0.58      0.76      0.66     11504\n",
            "\n",
            "    accuracy                           0.60     23008\n",
            "   macro avg       0.62      0.60      0.59     23008\n",
            "weighted avg       0.62      0.60      0.59     23008\n",
            "\n",
            "Classification Report on Training Data 6\n",
            "              precision    recall  f1-score   support\n",
            "\n",
            "         0.0       0.61      0.41      0.49     11504\n",
            "         1.0       0.56      0.74      0.63     11504\n",
            "\n",
            "    accuracy                           0.58     23008\n",
            "   macro avg       0.58      0.58      0.56     23008\n",
            "weighted avg       0.58      0.58      0.56     23008\n",
            "\n"
          ]
        }
      ],
      "source": [
        "# Evaluation - Classification Report - Train Data\n",
        "print('Classification Report on Training Data 1')\n",
        "print(classification_report(y_train, predict_y_train))\n",
        "\n",
        "print('Classification Report on Training Data 2')\n",
        "print(classification_report(y_train, predict_y_train2))\n",
        "\n",
        "print('Classification Report on Training Data 3')\n",
        "print(classification_report(y_train, predict_y_train3))\n",
        "\n",
        "print('Classification Report on Training Data 4')\n",
        "print(classification_report(y_train, predict_y_train4))\n",
        "\n",
        "print('Classification Report on Training Data 5')\n",
        "print(classification_report(y_train, predict_y_train5))\n",
        "\n",
        "print('Classification Report on Training Data 6')\n",
        "print(classification_report(y_train, predict_y_train6))"
      ]
    },
    {
      "cell_type": "code",
      "execution_count": 148,
      "metadata": {
        "colab": {
          "base_uri": "https://localhost:8080/"
        },
        "id": "Dc4Py0deXkfx",
        "outputId": "02fa3e73-17df-456b-95b1-4d35e595d4ea"
      },
      "outputs": [
        {
          "name": "stdout",
          "output_type": "stream",
          "text": [
            "Classification Report on Test Data 1\n",
            "              precision    recall  f1-score   support\n",
            "\n",
            "         0.0       0.85      0.44      0.58     14627\n",
            "         1.0       0.32      0.77      0.45      4930\n",
            "\n",
            "    accuracy                           0.52     19557\n",
            "   macro avg       0.58      0.61      0.52     19557\n",
            "weighted avg       0.72      0.52      0.55     19557\n",
            "\n",
            "Classification Report on Test Data 2\n",
            "              precision    recall  f1-score   support\n",
            "\n",
            "         0.0       0.91      0.26      0.41     14627\n",
            "         1.0       0.30      0.92      0.45      4930\n",
            "\n",
            "    accuracy                           0.43     19557\n",
            "   macro avg       0.60      0.59      0.43     19557\n",
            "weighted avg       0.75      0.43      0.42     19557\n",
            "\n",
            "Classification Report on Test Data 3\n",
            "              precision    recall  f1-score   support\n",
            "\n",
            "         0.0       0.79      0.70      0.74     14627\n",
            "         1.0       0.33      0.44      0.38      4930\n",
            "\n",
            "    accuracy                           0.64     19557\n",
            "   macro avg       0.56      0.57      0.56     19557\n",
            "weighted avg       0.67      0.64      0.65     19557\n",
            "\n",
            "Classification Report on Test Data 4\n",
            "              precision    recall  f1-score   support\n",
            "\n",
            "         0.0       0.87      0.35      0.50     14627\n",
            "         1.0       0.30      0.84      0.45      4930\n",
            "\n",
            "    accuracy                           0.47     19557\n",
            "   macro avg       0.58      0.59      0.47     19557\n",
            "weighted avg       0.72      0.47      0.49     19557\n",
            "\n",
            "Classification Report on Test Data 5\n",
            "              precision    recall  f1-score   support\n",
            "\n",
            "         0.0       0.84      0.43      0.57     14627\n",
            "         1.0       0.31      0.75      0.44      4930\n",
            "\n",
            "    accuracy                           0.51     19557\n",
            "   macro avg       0.57      0.59      0.50     19557\n",
            "weighted avg       0.70      0.51      0.54     19557\n",
            "\n",
            "Classification Report on Test Data 6\n",
            "              precision    recall  f1-score   support\n",
            "\n",
            "         0.0       0.82      0.40      0.54     14627\n",
            "         1.0       0.29      0.74      0.42      4930\n",
            "\n",
            "    accuracy                           0.49     19557\n",
            "   macro avg       0.56      0.57      0.48     19557\n",
            "weighted avg       0.69      0.49      0.51     19557\n",
            "\n"
          ]
        }
      ],
      "source": [
        "# Evaluation - Classification Report - Test Data\n",
        "print('Classification Report on Test Data 1')\n",
        "print(classification_report(y_test, predict_y_test))\n",
        "\n",
        "print('Classification Report on Test Data 2')\n",
        "print(classification_report(y_test, predict_y_test2))\n",
        "\n",
        "print('Classification Report on Test Data 3')\n",
        "print(classification_report(y_test, predict_y_test3))\n",
        "\n",
        "print('Classification Report on Test Data 4')\n",
        "print(classification_report(y_test, predict_y_test4))\n",
        "\n",
        "print('Classification Report on Test Data 5')\n",
        "print(classification_report(y_test, predict_y_test5))\n",
        "\n",
        "print('Classification Report on Test Data 6')\n",
        "print(classification_report(y_test, predict_y_test6))"
      ]
    },
    {
      "cell_type": "markdown",
      "metadata": {
        "id": "ug8gw2sgsXOB"
      },
      "source": [
        "# Neural Network model"
      ]
    },
    {
      "cell_type": "markdown",
      "metadata": {
        "id": "3rWVQDASsXOD"
      },
      "source": [
        "## Layer"
      ]
    },
    {
      "cell_type": "code",
      "execution_count": null,
      "metadata": {
        "id": "amnbAiQwsXOD"
      },
      "outputs": [],
      "source": [
        "class Layer:\n",
        "  def __init__(self, ip_size, op_size):\n",
        "    self.bias = np.random.rand(1, op_size) - 0.5\n",
        "    self.wgts = np.random.rand(ip_size, op_size) - 0.5\n",
        "\n",
        "  def for_prop(self, ip_data):\n",
        "    self.input = ip_data\n",
        "    self.output = np.dot(self.input, self.wgts) + self.bias\n",
        "    return self.output\n",
        "\n",
        "  def back_prop(self, op_err, lr):\n",
        "    ip_err = np.dot(op_err, self.wgts.T)\n",
        "    wgts_err = np.dot(self.input.T, op_err)\n",
        "\n",
        "    self.wgts -= lr * wgts_err\n",
        "    self.bias -= lr * op_err\n",
        "    return ip_err"
      ]
    },
    {
      "cell_type": "markdown",
      "metadata": {
        "id": "T4Js26EksXOE"
      },
      "source": [
        "## Activation"
      ]
    },
    {
      "cell_type": "code",
      "execution_count": null,
      "metadata": {
        "id": "cfb4rByesXOE"
      },
      "outputs": [],
      "source": [
        "class Activation:\n",
        "  def __init__(self, activation_function, activation_derivative_function):\n",
        "    self.activation_derivative_function = activation_derivative_function\n",
        "    self.activation_function = activation_function\n",
        "\n",
        "  def for_prop(self, ip_data):\n",
        "    self.input = ip_data\n",
        "    self.output = self.activation_function(self.input)\n",
        "    return self.output\n",
        "\n",
        "  def back_prop(self, op_err, lr):\n",
        "    return self.activation_derivative_function(self.input) * op_err"
      ]
    },
    {
      "cell_type": "markdown",
      "metadata": {
        "id": "m_XqeIn_sXOE"
      },
      "source": [
        "## Activation Functions"
      ]
    },
    {
      "cell_type": "code",
      "execution_count": null,
      "metadata": {
        "id": "AQKdTQinsXOE"
      },
      "outputs": [],
      "source": [
        "def tanh(x):\n",
        "  return np.tanh(x);\n",
        "\n",
        "def tanh_derivative(x):\n",
        "  return 1-np.tanh(x)**2;\n",
        "\n",
        "def sigmoid(x):\n",
        "    return 1 / (1 + np.exp(-x))\n",
        "\n",
        "def sigmoid_derivative(x):\n",
        "    return np.exp(-x) / (1 + np.exp(-x))**2\n",
        "\n",
        "def relu(x):\n",
        "    return np.maximum(x, 0)\n",
        "\n",
        "def relu_derivative(x):\n",
        "    return np.array(x >= 0).astype('int')\n"
      ]
    },
    {
      "cell_type": "markdown",
      "metadata": {
        "id": "oKs70bAzsXOF"
      },
      "source": [
        "## Loss Functions"
      ]
    },
    {
      "cell_type": "code",
      "execution_count": null,
      "metadata": {
        "id": "aaIFFIiksXOF"
      },
      "outputs": [],
      "source": [
        "def mean_square_err(y_true, y_pred):\n",
        "    return np.mean(np.power(y_true-y_pred, 2));\n",
        "\n",
        "def mean_square_err_derivative(y_true, y_pred):\n",
        "    return 2*(y_pred-y_true)/y_true.size;"
      ]
    },
    {
      "cell_type": "markdown",
      "metadata": {
        "id": "vghU7HAzsXOF"
      },
      "source": [
        "## Network"
      ]
    },
    {
      "cell_type": "code",
      "execution_count": null,
      "metadata": {
        "id": "oTFH23smsXOF"
      },
      "outputs": [],
      "source": [
        "class NeuralNetwork:\n",
        "  def __init__(self, loss, loss_derivative, layers):\n",
        "    self.loss = loss\n",
        "    self.loss_derivative = loss_derivative\n",
        "    self.layers = layers\n",
        "\n",
        "  def predict(self, ip_data):\n",
        "    result = []\n",
        "    sampl_size = len(ip_data)\n",
        "    for i in range(sampl_size):\n",
        "      output = ip_data[i]\n",
        "      for layer in self.layers:\n",
        "        output = layer.for_prop(output)\n",
        "      result.append(output)\n",
        "    return result\n",
        "\n",
        "  def fit(self, x_train, y_train, epoch, lr):\n",
        "    sampl_size = len(x_train)\n",
        "    for i in range(epoch):\n",
        "      err = 0\n",
        "      for j in range(sampl_size):\n",
        "        output = x_train[j]\n",
        "        for layer in self.layers:\n",
        "          output = layer.for_prop(output)\n",
        "\n",
        "        error = self.loss_derivative(y_train[j], output)\n",
        "        for layer in reversed(self.layers):\n",
        "          error = layer.back_prop(error, lr)\n",
        "\n",
        "        err += self.loss(y_train[j], output)\n",
        "\n",
        "      # Average error on all sampl_size\n",
        "      err /= sampl_size\n",
        "      print('epoch %d/%d   error=%f' % (i+1, epoch, err))"
      ]
    },
    {
      "cell_type": "markdown",
      "metadata": {
        "id": "qc6lN3EssXOG"
      },
      "source": [
        "## Network Initialization"
      ]
    },
    {
      "cell_type": "code",
      "execution_count": null,
      "metadata": {
        "id": "22rYLyfesXOG"
      },
      "outputs": [],
      "source": [
        "layers = [\n",
        "  Layer(16, 10),\n",
        "  Activation(relu, relu_derivative),\n",
        "  Layer(10, 1),\n",
        "  Activation(relu, relu_derivative),\n",
        "]\n",
        "nnet = NeuralNetwork(mean_square_err, mean_square_err_derivative, layers)"
      ]
    },
    {
      "cell_type": "markdown",
      "metadata": {
        "id": "Y4YGG83BsXOG"
      },
      "source": [
        "## Fitting"
      ]
    },
    {
      "cell_type": "code",
      "execution_count": null,
      "metadata": {
        "id": "ZcpJU8CWsXOH",
        "outputId": "33ca9c19-071d-45e4-d163-6194548a82c2",
        "colab": {
          "base_uri": "https://localhost:8080/"
        }
      },
      "outputs": [
        {
          "output_type": "stream",
          "name": "stdout",
          "text": [
            "epoch 1/5   error=0.089421\n",
            "epoch 2/5   error=0.034980\n",
            "epoch 3/5   error=0.034947\n",
            "epoch 4/5   error=0.034945\n",
            "epoch 5/5   error=0.034947\n"
          ]
        }
      ],
      "source": [
        "X_train = dataFile.loc[train_index, feature_columns]\n",
        "y_train = dataFile.loc[train_index, 'CLASS']\n",
        "\n",
        "X_test = dataFile.loc[test_index, feature_columns]\n",
        "y_test = dataFile.loc[test_index, 'CLASS']\n",
        "(len(X_test), len(X_train))\n",
        "\n",
        "from imblearn.under_sampling import RandomUnderSampler\n",
        "rus = RandomUnderSampler()\n",
        "X_resampled_under, y_resampled_under =rus.fit_resample(X_train, y_train)\n",
        "X_train = X_resampled_under\n",
        "y_train = y_resampled_under\n",
        "\n",
        "\n",
        "aX_train = X_train.to_numpy()\n",
        "aX_train = aX_train.reshape(aX_train.shape[0], 1, 16)\n",
        "\n",
        "ay_train = y_train.to_numpy().reshape(y_train.shape[0],1)\n",
        "ay_train = ay_train.reshape(ay_train.shape[0], 1, 1)\n",
        "\n",
        "nnet.fit(aX_train, ay_train, epoch=5, lr=0.01)"
      ]
    },
    {
      "cell_type": "code",
      "source": [
        ""
      ],
      "metadata": {
        "id": "lMyUbn0G-Fa6"
      },
      "execution_count": null,
      "outputs": []
    },
    {
      "cell_type": "code",
      "source": [
        "y_train"
      ],
      "metadata": {
        "id": "2VIkrroq-PrU",
        "outputId": "b6e4d69f-929b-4d07-edb0-422eafaf5334",
        "colab": {
          "base_uri": "https://localhost:8080/"
        }
      },
      "execution_count": null,
      "outputs": [
        {
          "output_type": "execute_result",
          "data": {
            "text/plain": [
              "0        0.0\n",
              "1        0.0\n",
              "2        0.0\n",
              "3        0.0\n",
              "4        0.0\n",
              "        ... \n",
              "23003    1.0\n",
              "23004    1.0\n",
              "23005    1.0\n",
              "23006    1.0\n",
              "23007    1.0\n",
              "Name: CLASS, Length: 23008, dtype: float64"
            ]
          },
          "metadata": {},
          "execution_count": 48
        }
      ]
    },
    {
      "cell_type": "markdown",
      "metadata": {
        "id": "2Ub9bwEosXOH"
      },
      "source": [
        "## Predict"
      ]
    },
    {
      "cell_type": "code",
      "execution_count": null,
      "metadata": {
        "id": "4tywJy4ssXOH"
      },
      "outputs": [],
      "source": [
        "aX_test = X_test.to_numpy()\n",
        "aX_test = aX_test.reshape(aX_test.shape[0], 1, 16)\n",
        "output = nnet.predict(aX_test)\n",
        "\n",
        "predict_y = np.array(output)\n",
        "ay_test = y_test.to_numpy()\n",
        "ay_test = ay_test.reshape(ay_test.shape[0], 1, 1)\n",
        "\n",
        "apredict_y = predict_y.reshape(predict_y.shape[0], 1)\n",
        "aay_test = ay_test.reshape(ay_test.shape[0], 1)"
      ]
    },
    {
      "cell_type": "markdown",
      "metadata": {
        "id": "geWmUJL6sXOI"
      },
      "source": [
        "## Accuracy"
      ]
    },
    {
      "cell_type": "code",
      "source": [
        "np.unique(apredict_y.round())\n",
        "print(apredict_y[20:])"
      ],
      "metadata": {
        "id": "5IbchGoP0OVB",
        "outputId": "f7ea203e-ef25-475e-d7ec-bfa06c1294dc",
        "colab": {
          "base_uri": "https://localhost:8080/"
        }
      },
      "execution_count": null,
      "outputs": [
        {
          "output_type": "stream",
          "name": "stdout",
          "text": [
            "[[1.00141986]\n",
            " [0.9934749 ]\n",
            " [0.99999495]\n",
            " ...\n",
            " [0.99668096]\n",
            " [0.99995108]\n",
            " [1.00119085]]\n"
          ]
        }
      ]
    },
    {
      "cell_type": "code",
      "execution_count": null,
      "metadata": {
        "id": "xtWu8SWesXOI",
        "outputId": "6b64ca00-8c97-4e79-95ac-863740e095a6",
        "colab": {
          "base_uri": "https://localhost:8080/",
          "height": 296
        }
      },
      "outputs": [
        {
          "output_type": "display_data",
          "data": {
            "text/plain": [
              "<Figure size 432x288 with 2 Axes>"
            ],
            "image/png": "[encoded data removed]"
          },
          "metadata": {
            "needs_background": "light"
          }
        },
        {
          "output_type": "stream",
          "name": "stdout",
          "text": [
            "Accuracy = 0.2520836529120008\n"
          ]
        }
      ],
      "source": [
        "from sklearn.metrics import confusion_matrix, ConfusionMatrixDisplay\n",
        "labels = [0., 1.]\n",
        "conMtrx = confusion_matrix(aay_test, apredict_y.round(), labels=labels)\n",
        "conMtrxDisplay = ConfusionMatrixDisplay(confusion_matrix=conMtrx, display_labels=labels)\n",
        "conMtrxDisplay.plot()\n",
        "plt.show()\n",
        "\n",
        "# Evaluation - Accuracy\n",
        "\n",
        "# Get sum along diagonal of matrix (for total correct predictions)\n",
        "diagMtrxSum = conMtrx.trace()\n",
        "\n",
        "# Get sum of all matrix elements (for total predictions)\n",
        "totMtrxSum = conMtrx.sum()\n",
        "\n",
        "# Print accuracy\n",
        "acc = diagMtrxSum / totMtrxSum\n",
        "print('Accuracy = ' + str(acc))"
      ]
    },
    {
      "cell_type": "markdown",
      "source": [
        "## Model Eval"
      ],
      "metadata": {
        "id": "CD2OQ4Jgv3pP"
      }
    },
    {
      "cell_type": "code",
      "source": [
        "layers = {\n",
        "  \"relu\": [\n",
        "    Layer(16, 10),\n",
        "    Activation(relu, relu_derivative),\n",
        "    Layer(10, 5),\n",
        "    Activation(relu, relu_derivative),\n",
        "    Layer(5, 1),\n",
        "    Activation(relu, relu_derivative),\n",
        "    # Layer(10, 1),\n",
        "    # Activation(sigmoid, sigmoid_derivative),\n",
        "  ],\n",
        "\n",
        "  \"tanh\": [\n",
        "    Layer(16, 10),\n",
        "    Activation(tanh, tanh_derivative),\n",
        "    Layer(10, 5),\n",
        "    Activation(tanh, tanh_derivative),\n",
        "    Layer(5, 1),\n",
        "    Activation(tanh, tanh_derivative),\n",
        "    # Layer(10, 1),\n",
        "    # Activation(sigmoid, sigmoid_derivative),\n",
        "  ],\n",
        "\n",
        "  \"sigmoid\": [\n",
        "      Layer(16, 10),\n",
        "      Activation(sigmoid, sigmoid_derivative),\n",
        "      Layer(10, 5),\n",
        "      Activation(sigmoid, sigmoid_derivative),\n",
        "      Layer(5, 1),\n",
        "      Activation(sigmoid, sigmoid_derivative),\n",
        "      # Layer(10, 1),\n",
        "      # Activation(sigmoid, sigmoid_derivative),\n",
        "    ]\n",
        "}\n",
        "\n",
        "lrs = [0.1]\n",
        "\n",
        "epochs = [5]\n",
        "\n",
        "for act, layer in layers.items():\n",
        "  for lr in lrs:\n",
        "    for epoch in epochs:\n",
        "      # print(\"Activation function: \" + act + \" lr: \" + lr + \" epoch \")\n",
        "      model_type = ' | '.join(['Activation: ' + act, 'Learning Rate: ' + str(lr), 'Epochs: ' + str(epoch)])\n",
        "      print(model_type)\n",
        "\n",
        "      nnet = NeuralNetwork(mean_square_err, mean_square_err_derivative, layer)\n",
        "\n",
        "      aX_train = X_train.to_numpy()\n",
        "      aX_train = aX_train.reshape(aX_train.shape[0], 1, 16)\n",
        "\n",
        "      ay_train = y_train.to_numpy().reshape(y_train.shape[0],1)\n",
        "      ay_train = ay_train.reshape(ay_train.shape[0], 1, 1)\n",
        "\n",
        "      nnet.fit(aX_train, ay_train, epoch=epoch, lr=lr)\n",
        "\n",
        "\n",
        "      # Predict\n",
        "      aX_test = X_test.to_numpy()\n",
        "      aX_test = aX_test.reshape(aX_test.shape[0], 1, 16)\n",
        "      output = nnet.predict(aX_test)\n",
        "\n",
        "      predict_y = np.array(output)\n",
        "      ay_test = y_test.to_numpy()\n",
        "      ay_test = ay_test.reshape(ay_test.shape[0], 1, 1)\n",
        "\n",
        "      apredict_y = predict_y.reshape(predict_y.shape[0], 1)\n",
        "      aay_test = ay_test.reshape(ay_test.shape[0], 1)\n",
        "      apredict_y = apredict_y.round()\n",
        "\n",
        "      from sklearn.metrics import confusion_matrix, ConfusionMatrixDisplay\n",
        "      labels = [0., 1.]\n",
        "      conMtrx = confusion_matrix(aay_test, apredict_y, labels=labels)\n",
        "      conMtrxDisplay = ConfusionMatrixDisplay(confusion_matrix=conMtrx, display_labels=labels)\n",
        "      conMtrxDisplay.plot()\n",
        "      plt.show()\n",
        "\n",
        "      # Evaluation - Accuracy\n",
        "\n",
        "      # Get sum along diagonal of matrix (for total correct predictions)\n",
        "      diagMtrxSum = conMtrx.trace()\n",
        "\n",
        "      # Get sum of all matrix elements (for total predictions)\n",
        "      totMtrxSum = conMtrx.sum()\n",
        "\n",
        "      # Print accuracy\n",
        "      accuracy = diagMtrxSum / totMtrxSum\n",
        "\n",
        "\n",
        "      # from sklearn.metrics import accuracy_score\n",
        "      # accuracy = accuracy_score(aay_test, apredict_y)\n",
        "\n",
        "\n",
        "      print('Accuracy = ' + str(accuracy))\n",
        "      print()"
      ],
      "metadata": {
        "id": "dUB6ziDcv17B",
        "outputId": "b5ac4c42-deff-4eb2-8474-a9a617ee1c51",
        "colab": {
          "base_uri": "https://localhost:8080/",
          "height": 1000
        }
      },
      "execution_count": null,
      "outputs": [
        {
          "output_type": "stream",
          "name": "stdout",
          "text": [
            "Activation: relu | Learning Rate: 0.1 | Epochs: 5\n",
            "epoch 1/5   error=0.377429\n",
            "epoch 2/5   error=0.423060\n",
            "epoch 3/5   error=0.423097\n",
            "epoch 4/5   error=0.194932\n",
            "epoch 5/5   error=0.000242\n"
          ]
        },
        {
          "output_type": "display_data",
          "data": {
            "text/plain": [
              "<Figure size 432x288 with 2 Axes>"
            ],
            "image/png": "[encoded data removed]"
          },
          "metadata": {
            "needs_background": "light"
          }
        },
        {
          "output_type": "stream",
          "name": "stdout",
          "text": [
            "Accuracy = 0.2520836529120008\n",
            "\n",
            "Activation: tanh | Learning Rate: 0.1 | Epochs: 5\n",
            "epoch 1/5   error=0.000167\n",
            "epoch 2/5   error=0.003444\n",
            "epoch 3/5   error=0.003529\n",
            "epoch 4/5   error=0.004039\n",
            "epoch 5/5   error=0.003843\n"
          ]
        },
        {
          "output_type": "display_data",
          "data": {
            "text/plain": [
              "<Figure size 432x288 with 2 Axes>"
            ],
            "image/png": "[encoded data removed]"
          },
          "metadata": {
            "needs_background": "light"
          }
        },
        {
          "output_type": "stream",
          "name": "stdout",
          "text": [
            "Accuracy = 0.2520836529120008\n",
            "\n",
            "Activation: sigmoid | Learning Rate: 0.1 | Epochs: 5\n",
            "epoch 1/5   error=0.008705\n",
            "epoch 2/5   error=0.016422\n",
            "epoch 3/5   error=0.016473\n",
            "epoch 4/5   error=0.016525\n",
            "epoch 5/5   error=0.016578\n"
          ]
        },
        {
          "output_type": "display_data",
          "data": {
            "text/plain": [
              "<Figure size 432x288 with 2 Axes>"
            ],
            "image/png": "[encoded data removed]"
          },
          "metadata": {
            "needs_background": "light"
          }
        },
        {
          "output_type": "stream",
          "name": "stdout",
          "text": [
            "Accuracy = 0.2520836529120008\n",
            "\n"
          ]
        }
      ]
    }
  ],
  "metadata": {
    "colab": {
      "collapsed_sections": [],
      "name": "Genetic_Sequence_Analysis_Using_DNN.ipynb",
      "provenance": [],
      "include_colab_link": true
    },
    "kernelspec": {
      "display_name": "Python 3",
      "name": "python3"
    },
    "language_info": {
      "name": "python"
    }
  },
  "nbformat": 4,
  "nbformat_minor": 0
}
